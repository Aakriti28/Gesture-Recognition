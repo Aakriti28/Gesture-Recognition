{
 "cells": [
  {
   "cell_type": "code",
   "execution_count": 1,
   "metadata": {},
   "outputs": [],
   "source": [
    "import cv2 as cv\n",
    "import imutils\n",
    "import numpy as np\n",
    "import sys\n",
    "import os\n",
    "import torch\n",
    "import torchvision\n",
    "from torch import nn, optim\n",
    "import torch.nn.functional as F\n",
    "import torch.utils.data\n",
    "import torchvision.datasets as dset\n",
    "import torchvision.utils as vutils\n",
    "from torch.utils.data import DataLoader\n",
    "from torch.autograd.variable import Variable\n",
    "from torchvision import transforms, datasets\n",
    "import matplotlib.pyplot as plt\n",
    "import random\n",
    "from torch.utils.data.sampler import SubsetRandomSampler\n",
    "from sklearn.metrics.pairwise import euclidean_distances\n",
    "from PIL import Image"
   ]
  },
  {
   "cell_type": "code",
   "execution_count": 2,
   "metadata": {},
   "outputs": [
    {
     "name": "stdout",
     "output_type": "stream",
     "text": [
      "3.7.6 (default, Jan  8 2020, 20:23:39) [MSC v.1916 64 bit (AMD64)]\n",
      "10.2\n",
      "1\n",
      "True\n"
     ]
    }
   ],
   "source": [
    "#Using GPU\n",
    "print(sys.version)\n",
    "device = 'cuda'\n",
    "#Checking for GPU\n",
    "print(torch.version.cuda)\n",
    "print(torch.cuda.device_count())\n",
    "print(torch.cuda.is_available())\n",
    "torch.cuda.empty_cache() "
   ]
  },
  {
   "cell_type": "code",
   "execution_count": 3,
   "metadata": {},
   "outputs": [
    {
     "name": "stdout",
     "output_type": "stream",
     "text": [
      "{'0': 0, '1': 1, '2': 2, '3': 3, '4': 4, '5': 5, '6': 6, '7': 7, '8': 8, '9': 9}\n",
      "{0: '0', 1: '1', 2: '2', 3: '3', 4: '4', 5: '5', 6: '6', 7: '7', 8: '8', 9: '9'}\n"
     ]
    }
   ],
   "source": [
    "lookup = dict()\n",
    "reverselookup = dict()\n",
    "\n",
    "count = 0\n",
    "\n",
    "for j in os.listdir('./mydata/'):\n",
    "    if not j.startswith('ges'):\n",
    "        lookup[j] = count\n",
    "        reverselookup[count] = j\n",
    "        count += 1\n",
    "        \n",
    "print(lookup)\n",
    "print(reverselookup)"
   ]
  },
  {
   "cell_type": "code",
   "execution_count": 4,
   "metadata": {},
   "outputs": [],
   "source": [
    "model = torch.load('./models/gest_full_googlenet.pth')"
   ]
  },
  {
   "cell_type": "code",
   "execution_count": 5,
   "metadata": {},
   "outputs": [],
   "source": [
    "image_size = 256\n",
    "\n",
    "def recognize_gest(img):    \n",
    "    transform = transforms.Compose([\n",
    "                transforms.Resize(size=224),  # Image net standards\n",
    "                transforms.ToTensor(),\n",
    "                transforms.Normalize([0.485, 0.456, 0.406],\n",
    "                                     [0.229, 0.224, 0.225])  # Imagenet standards\n",
    "                #transforms.ToTensor(), \n",
    "                #transforms.Normalize((0.5, 0.5, 0.5), (0.5, 0.5, 0.5))\n",
    "                ])\n",
    "    \n",
    "    with torch.no_grad():\n",
    "        img = transform(img)\n",
    "        img = img.view(1, 3, 224, 224)\n",
    "        #print(img.shape)\n",
    "        img = img.to(device)#Passing the entire test set to the GPU\n",
    "        test_out = model(img.float()).cpu()\n",
    "        test_pred = torch.argmax(test_out, dim = 1, keepdim=True).cpu().numpy()\n",
    "        #test_pred_np = test_pred.cpu().numpy() \n",
    "        test_pred = np.reshape(test_pred, test_pred.shape[0])\n",
    "        print(reverselookup[test_pred[0]], end='')\n",
    "        return str(reverselookup[test_pred[0]])"
   ]
  },
  {
   "cell_type": "code",
   "execution_count": 6,
   "metadata": {},
   "outputs": [],
   "source": [
    "def run_avg(image, aWeight):\n",
    "    global bg\n",
    "    if bg is None:\n",
    "        bg = image.astype('float')\n",
    "        \n",
    "        return\n",
    "    cv.accumulateWeighted(image, bg, aWeight)\n",
    "    #print(bg)"
   ]
  },
  {
   "cell_type": "code",
   "execution_count": 7,
   "metadata": {},
   "outputs": [],
   "source": [
    "def segment (image, threshold=18):\n",
    "    global bg\n",
    "    #cv.imshow('back', np.uint8(bg))    \n",
    "    #cv.imshow('Handy', image)\n",
    "    diff = cv.absdiff(np.uint8(bg), image)\n",
    "    #cv.imshow('diff', diff)\n",
    "    \n",
    "    blur = cv.GaussianBlur(diff, (3, 3), 0)\n",
    "    blur = cv.medianBlur(diff, 11)\n",
    "    \n",
    "    #thresholded = cv.adaptiveThreshold(blur, 255, cv.ADAPTIVE_THRESH_GAUSSIAN_C, cv.THRESH_BINARY, 5, 12)\n",
    "    thresholded = cv.threshold(diff, threshold, 255, cv.THRESH_BINARY)[1]\n",
    "    disc = cv.getStructuringElement(cv.MORPH_ELLIPSE, (3, 3))\n",
    "    disc1 = cv.getStructuringElement(cv.MORPH_ELLIPSE, (2, 2))\n",
    "    thresholded = cv.dilate(thresholded, disc, iterations =1)\n",
    "    thresholded = cv.morphologyEx(thresholded, cv.MORPH_CLOSE, disc, iterations =5)\n",
    "    \n",
    "    (cnts, _) = cv.findContours(thresholded.copy(), cv.RETR_EXTERNAL, cv.CHAIN_APPROX_SIMPLE)\n",
    "    \n",
    "    if len(cnts) == 0:\n",
    "        return\n",
    "    else:\n",
    "        segmented = max(cnts, key = cv.contourArea)\n",
    "        return (thresholded, segmented)\n"
   ]
  },
  {
   "cell_type": "code",
   "execution_count": 8,
   "metadata": {},
   "outputs": [],
   "source": [
    "def hist_skin(hist, hsv):\n",
    "    \n",
    "    dst = cv.calcBackProject([hsv], [0, 1], hist, [0, 200, 0, 256], 1)\n",
    "    dst1 = dst.copy()\n",
    "    disc = cv.getStructuringElement(cv.MORPH_ELLIPSE, (3, 3))\n",
    "    cv.filter2D(dst, -1, disc, dst)\n",
    "    blur = cv.GaussianBlur(dst, (11, 11), 0)\n",
    "    blur = cv.medianBlur(blur, 15)\n",
    "    #cv.imshow(\"Blur\", blur)\n",
    "    ret, thresh = cv.threshold(blur, 0, 255, cv.THRESH_BINARY)#+cv.THRESH_OTSU)\n",
    "    #thresh = cv.merge((thresh, thresh, thresh))\n",
    "    \n",
    "    return thresh"
   ]
  },
  {
   "cell_type": "code",
   "execution_count": 9,
   "metadata": {},
   "outputs": [],
   "source": [
    "def gest_avg(cap, gest, aWeight):\n",
    "    if gest is None:\n",
    "        gest = cap.astype('float')\n",
    "        return gest\n",
    "    return cv.accumulateWeighted(cap, gest, aWeight)\n",
    "    #print(bg)"
   ]
  },
  {
   "cell_type": "code",
   "execution_count": 10,
   "metadata": {},
   "outputs": [],
   "source": [
    "\n",
    "def display_output(c, num_chars, output, output_back):\n",
    "    if c is None:\n",
    "        return\n",
    "    \n",
    "    w = 20\n",
    "    h = 20\n",
    "    x = 100 + int((num_chars%20))*w\n",
    "    y = 110 + int((num_chars/20))*h\n",
    "    \n",
    "    if output is None:\n",
    "        output = str(c)\n",
    "    else:\n",
    "        output = output + str(c)\n",
    "        \n",
    "    output_back = cv.putText(output_back, str(c), (int(x), int(y)),  fontFace=cv.FONT_HERSHEY_DUPLEX,\n",
    "                                                           fontScale=0.6,  thickness = 2, color=(255, 255, 255))\n",
    "    return output_back, output\n",
    "\n"
   ]
  },
  {
   "cell_type": "code",
   "execution_count": null,
   "metadata": {},
   "outputs": [
    {
     "name": "stdout",
     "output_type": "stream",
     "text": [
      "background captured!\n",
      "skin histogram captured!\n",
      "background captured!\n",
      "background captured!\n",
      "0background captured!\n",
      "123456789background captured!\n",
      "background captured!\n",
      "background captured!\n",
      "6background captured!\n",
      "8"
     ]
    }
   ],
   "source": [
    "bg = None\n",
    "if __name__ == '__main__':\n",
    "    \n",
    "    aWeight = 0.5\n",
    "    \n",
    "    flag = False\n",
    "    \n",
    "    capture = False\n",
    "    \n",
    "    camera = cv.VideoCapture(0)\n",
    "    \n",
    "    top, right, bottom, left = 10, 80, 266, 336\n",
    "    \n",
    "    in_top, in_right, in_bottom, in_left = top+50, right+100, bottom-50, left-100\n",
    "    \n",
    "    num_frames = 0\n",
    "    \n",
    "    gest_frames = 0\n",
    "    \n",
    "    gest = None\n",
    "    \n",
    "    dim = (50, 50)\n",
    "    \n",
    "    num_chars = 0\n",
    "    \n",
    "    output = None\n",
    "    \n",
    "    output_back = cv.imread('./output_back1.jpg')\n",
    "\n",
    "    \n",
    "    while True:\n",
    "        (ret, frame) = camera.read()\n",
    "        \n",
    "        frame = cv.resize(frame, (640, 480))\n",
    "        frame = cv.flip(frame, 1)\n",
    "        \n",
    "        clone = frame.copy()\n",
    "        \n",
    "        (height, width) = frame.shape[:2]\n",
    "        roi = frame[top:bottom, right:left]\n",
    "        hsv_roi = cv.cvtColor(roi, cv.COLOR_BGR2HSV)\n",
    "        \n",
    "        in_roi = frame[in_top:in_bottom, in_right:in_left]\n",
    "        \n",
    "        gray = cv.cvtColor(roi, cv.COLOR_BGR2GRAY)\n",
    "        gray = cv.GaussianBlur(gray, (3, 3), 0)\n",
    "        gray = cv.medianBlur(gray, 3)\n",
    "        \n",
    "        keypress = cv.waitKey(1) & 0xFF\n",
    "        \n",
    "        if keypress == ord('c'):\n",
    "            break\n",
    "            \n",
    "        elif keypress == ord('s'):\n",
    "            flag = True\n",
    "            print('skin histogram captured!')\n",
    "            hsvCrop = cv.cvtColor(in_roi, cv.COLOR_BGR2HSV)\n",
    "            cv.imshow(\"i\", hsvCrop)\n",
    "            hist = cv.calcHist([hsvCrop], [0, 1], None, [200, 256], [0, 200, 0, 256])\n",
    "            cv.normalize(hist, hist, 0, 255, cv.NORM_MINMAX)\n",
    "            \n",
    "        elif keypress == ord('g'):\n",
    "            capture = True\n",
    "            gest_frames = 0\n",
    "            #print('g')\n",
    "            \n",
    "        if keypress == 13:\n",
    "            bg = None\n",
    "            num_frames = 0\n",
    "        \n",
    "        if num_frames < 100:\n",
    "            run_avg(gray, aWeight)\n",
    "        else:\n",
    "            if(num_frames==100):\n",
    "                print('background captured!')\n",
    "            hand = segment(gray)\n",
    "            \n",
    "            if hand is not None:\n",
    "                (thresholded, segmented) = hand\n",
    "                \n",
    "                cv.drawContours(clone, [segmented + (right, top)], -1, (0, 165, 255))\n",
    "                \n",
    "                cv.imshow('Output', output_back)\n",
    "                if flag:\n",
    "                    skin = hist_skin(hist, hsv_roi)\n",
    "                    #print(thresholded.shape, skin.shape)\n",
    "                    thresholded = cv.bitwise_or(thresholded, skin)\n",
    "                    (cnts, _) = cv.findContours(thresholded.copy(), cv.RETR_EXTERNAL, cv.CHAIN_APPROX_SIMPLE)\n",
    "                    segmented2 = max(cnts, key = cv.contourArea)\n",
    "                    cv.drawContours(clone, [segmented2 + (right, top)], -1, (250, 0, 205), 2)\n",
    "                if capture:\n",
    "                    if gest_frames<20:\n",
    "                        now = thresholded\n",
    "                        gest = gest_avg(now, gest, aWeight)\n",
    "                        gest_frames+=1\n",
    "              \n",
    "                    else:\n",
    "                        #gest = cv.resize(gest, dim, interpolation = cv.INTER_AREA)\n",
    "                        cv.imwrite('./mydata/gesty.jpg', gest)\n",
    "                        #print('Gesture saved!')\n",
    "                        gesty = cv.imread('./mydata/gesty.jpg')\n",
    "                        recog = Image.fromarray(gesty)\n",
    "                        digit = recognize_gest(recog)\n",
    "                        output_back, output = display_output(digit, num_chars, output, output_back)\n",
    "                        num_chars+=1\n",
    "                        capture = False\n",
    "                    \n",
    "                cv.imshow('Thresholded', thresholded)\n",
    "                \n",
    "                \n",
    "        cv.rectangle(clone, (left, top), (right, bottom), (0, 255, 0), 2)\n",
    "        cv.rectangle(clone, (in_left, in_top), (in_right, in_bottom), (255, 0, 0), 1)\n",
    "        \n",
    "        num_frames += 1\n",
    "        cv.imshow('Video Feed', clone)\n",
    "            \n",
    "cv.destroyAllWindows()\n",
    "camera.release()"
   ]
  },
  {
   "cell_type": "code",
   "execution_count": 12,
   "metadata": {},
   "outputs": [
    {
     "name": "stdout",
     "output_type": "stream",
     "text": [
      "(256, 256, 3)\n",
      "0"
     ]
    },
    {
     "data": {
      "text/plain": [
       "'0'"
      ]
     },
     "execution_count": 12,
     "metadata": {},
     "output_type": "execute_result"
    }
   ],
   "source": [
    "gesty = cv.imread('./mydata/gesty.jpg')\n",
    "recog = Image.fromarray(gesty)\n",
    "print(gesty.shape)\n",
    "recognize_gest(recog)"
   ]
  },
  {
   "cell_type": "code",
   "execution_count": null,
   "metadata": {},
   "outputs": [],
   "source": []
  }
 ],
 "metadata": {
  "kernelspec": {
   "display_name": "Python 3",
   "language": "python",
   "name": "python3"
  },
  "language_info": {
   "codemirror_mode": {
    "name": "ipython",
    "version": 3
   },
   "file_extension": ".py",
   "mimetype": "text/x-python",
   "name": "python",
   "nbconvert_exporter": "python",
   "pygments_lexer": "ipython3",
   "version": "3.7.6"
  }
 },
 "nbformat": 4,
 "nbformat_minor": 4
}
