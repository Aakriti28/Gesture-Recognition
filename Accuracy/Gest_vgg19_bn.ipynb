{
  "nbformat": 4,
  "nbformat_minor": 0,
  "metadata": {
    "kernelspec": {
      "display_name": "Python 3",
      "language": "python",
      "name": "python3"
    },
    "language_info": {
      "codemirror_mode": {
        "name": "ipython",
        "version": 3
      },
      "file_extension": ".py",
      "mimetype": "text/x-python",
      "name": "python",
      "nbconvert_exporter": "python",
      "pygments_lexer": "ipython3",
      "version": "3.7.6"
    },
    "colab": {
      "name": "New_Cnn3.ipynb",
      "provenance": [],
      "collapsed_sections": []
    },
    "accelerator": "GPU",
    "widgets": {
      "application/vnd.jupyter.widget-state+json": {
        "ae58460f193341488685bd4188fa51a8": {
          "model_module": "@jupyter-widgets/controls",
          "model_name": "HBoxModel",
          "state": {
            "_view_name": "HBoxView",
            "_dom_classes": [],
            "_model_name": "HBoxModel",
            "_view_module": "@jupyter-widgets/controls",
            "_model_module_version": "1.5.0",
            "_view_count": null,
            "_view_module_version": "1.5.0",
            "box_style": "",
            "layout": "IPY_MODEL_4cf048b0c52d4b9ba1d0394d495d0726",
            "_model_module": "@jupyter-widgets/controls",
            "children": [
              "IPY_MODEL_f29f64066f9c4bebb36a0a14687c1dd7",
              "IPY_MODEL_1193704d1d614ca9aaa1aa7bcf29d4a2"
            ]
          }
        },
        "4cf048b0c52d4b9ba1d0394d495d0726": {
          "model_module": "@jupyter-widgets/base",
          "model_name": "LayoutModel",
          "state": {
            "_view_name": "LayoutView",
            "grid_template_rows": null,
            "right": null,
            "justify_content": null,
            "_view_module": "@jupyter-widgets/base",
            "overflow": null,
            "_model_module_version": "1.2.0",
            "_view_count": null,
            "flex_flow": null,
            "width": null,
            "min_width": null,
            "border": null,
            "align_items": null,
            "bottom": null,
            "_model_module": "@jupyter-widgets/base",
            "top": null,
            "grid_column": null,
            "overflow_y": null,
            "overflow_x": null,
            "grid_auto_flow": null,
            "grid_area": null,
            "grid_template_columns": null,
            "flex": null,
            "_model_name": "LayoutModel",
            "justify_items": null,
            "grid_row": null,
            "max_height": null,
            "align_content": null,
            "visibility": null,
            "align_self": null,
            "height": null,
            "min_height": null,
            "padding": null,
            "grid_auto_rows": null,
            "grid_gap": null,
            "max_width": null,
            "order": null,
            "_view_module_version": "1.2.0",
            "grid_template_areas": null,
            "object_position": null,
            "object_fit": null,
            "grid_auto_columns": null,
            "margin": null,
            "display": null,
            "left": null
          }
        },
        "f29f64066f9c4bebb36a0a14687c1dd7": {
          "model_module": "@jupyter-widgets/controls",
          "model_name": "FloatProgressModel",
          "state": {
            "_view_name": "ProgressView",
            "style": "IPY_MODEL_8f27538f0da544459ac8522baa1d6fcb",
            "_dom_classes": [],
            "description": "100%",
            "_model_name": "FloatProgressModel",
            "bar_style": "success",
            "max": 574769405,
            "_view_module": "@jupyter-widgets/controls",
            "_model_module_version": "1.5.0",
            "value": 574769405,
            "_view_count": null,
            "_view_module_version": "1.5.0",
            "orientation": "horizontal",
            "min": 0,
            "description_tooltip": null,
            "_model_module": "@jupyter-widgets/controls",
            "layout": "IPY_MODEL_4c43082555404ae9b145877dc891d4a8"
          }
        },
        "1193704d1d614ca9aaa1aa7bcf29d4a2": {
          "model_module": "@jupyter-widgets/controls",
          "model_name": "HTMLModel",
          "state": {
            "_view_name": "HTMLView",
            "style": "IPY_MODEL_b717951eaa5742269bbed48573ac8d7a",
            "_dom_classes": [],
            "description": "",
            "_model_name": "HTMLModel",
            "placeholder": "​",
            "_view_module": "@jupyter-widgets/controls",
            "_model_module_version": "1.5.0",
            "value": " 548M/548M [18:47&lt;00:00, 510kB/s]",
            "_view_count": null,
            "_view_module_version": "1.5.0",
            "description_tooltip": null,
            "_model_module": "@jupyter-widgets/controls",
            "layout": "IPY_MODEL_4ffbffab669e4cfabe45d164e61889e4"
          }
        },
        "8f27538f0da544459ac8522baa1d6fcb": {
          "model_module": "@jupyter-widgets/controls",
          "model_name": "ProgressStyleModel",
          "state": {
            "_view_name": "StyleView",
            "_model_name": "ProgressStyleModel",
            "description_width": "initial",
            "_view_module": "@jupyter-widgets/base",
            "_model_module_version": "1.5.0",
            "_view_count": null,
            "_view_module_version": "1.2.0",
            "bar_color": null,
            "_model_module": "@jupyter-widgets/controls"
          }
        },
        "4c43082555404ae9b145877dc891d4a8": {
          "model_module": "@jupyter-widgets/base",
          "model_name": "LayoutModel",
          "state": {
            "_view_name": "LayoutView",
            "grid_template_rows": null,
            "right": null,
            "justify_content": null,
            "_view_module": "@jupyter-widgets/base",
            "overflow": null,
            "_model_module_version": "1.2.0",
            "_view_count": null,
            "flex_flow": null,
            "width": null,
            "min_width": null,
            "border": null,
            "align_items": null,
            "bottom": null,
            "_model_module": "@jupyter-widgets/base",
            "top": null,
            "grid_column": null,
            "overflow_y": null,
            "overflow_x": null,
            "grid_auto_flow": null,
            "grid_area": null,
            "grid_template_columns": null,
            "flex": null,
            "_model_name": "LayoutModel",
            "justify_items": null,
            "grid_row": null,
            "max_height": null,
            "align_content": null,
            "visibility": null,
            "align_self": null,
            "height": null,
            "min_height": null,
            "padding": null,
            "grid_auto_rows": null,
            "grid_gap": null,
            "max_width": null,
            "order": null,
            "_view_module_version": "1.2.0",
            "grid_template_areas": null,
            "object_position": null,
            "object_fit": null,
            "grid_auto_columns": null,
            "margin": null,
            "display": null,
            "left": null
          }
        },
        "b717951eaa5742269bbed48573ac8d7a": {
          "model_module": "@jupyter-widgets/controls",
          "model_name": "DescriptionStyleModel",
          "state": {
            "_view_name": "StyleView",
            "_model_name": "DescriptionStyleModel",
            "description_width": "",
            "_view_module": "@jupyter-widgets/base",
            "_model_module_version": "1.5.0",
            "_view_count": null,
            "_view_module_version": "1.2.0",
            "_model_module": "@jupyter-widgets/controls"
          }
        },
        "4ffbffab669e4cfabe45d164e61889e4": {
          "model_module": "@jupyter-widgets/base",
          "model_name": "LayoutModel",
          "state": {
            "_view_name": "LayoutView",
            "grid_template_rows": null,
            "right": null,
            "justify_content": null,
            "_view_module": "@jupyter-widgets/base",
            "overflow": null,
            "_model_module_version": "1.2.0",
            "_view_count": null,
            "flex_flow": null,
            "width": null,
            "min_width": null,
            "border": null,
            "align_items": null,
            "bottom": null,
            "_model_module": "@jupyter-widgets/base",
            "top": null,
            "grid_column": null,
            "overflow_y": null,
            "overflow_x": null,
            "grid_auto_flow": null,
            "grid_area": null,
            "grid_template_columns": null,
            "flex": null,
            "_model_name": "LayoutModel",
            "justify_items": null,
            "grid_row": null,
            "max_height": null,
            "align_content": null,
            "visibility": null,
            "align_self": null,
            "height": null,
            "min_height": null,
            "padding": null,
            "grid_auto_rows": null,
            "grid_gap": null,
            "max_width": null,
            "order": null,
            "_view_module_version": "1.2.0",
            "grid_template_areas": null,
            "object_position": null,
            "object_fit": null,
            "grid_auto_columns": null,
            "margin": null,
            "display": null,
            "left": null
          }
        }
      }
    }
  },
  "cells": [
    {
      "cell_type": "code",
      "metadata": {
        "id": "MHmtfSAGlOg8",
        "colab_type": "code",
        "colab": {}
      },
      "source": [
        "import sys\n",
        "import os\n",
        "import torch\n",
        "import cv2 as cv\n",
        "import numpy as np\n",
        "import torchvision\n",
        "from torch import nn, optim\n",
        "import torch.nn.functional as F\n",
        "import torch.utils.data\n",
        "import torchvision.datasets as dset\n",
        "import torchvision.utils as vutils\n",
        "from torch.utils.data import DataLoader\n",
        "from torch.autograd.variable import Variable\n",
        "from torchvision import transforms, datasets\n",
        "import matplotlib.pyplot as plt\n",
        "import random\n",
        "from torch.utils.data.sampler import SubsetRandomSampler\n",
        "from skimage.io import imread, imshow\n",
        "from skimage.transform import resize\n",
        "from skimage.feature import hog\n",
        "from skimage import exposure\n"
      ],
      "execution_count": 1,
      "outputs": []
    },
    {
      "cell_type": "code",
      "metadata": {
        "id": "LNQycbAQl5YO",
        "colab_type": "code",
        "colab": {
          "base_uri": "https://localhost:8080/",
          "height": 121
        },
        "outputId": "9850d3b3-a7fa-41fb-b193-8bca180106f9"
      },
      "source": [
        "from google.colab import drive\n",
        "drive.mount('/content/drive')"
      ],
      "execution_count": 2,
      "outputs": [
        {
          "output_type": "stream",
          "text": [
            "Go to this URL in a browser: https://accounts.google.com/o/oauth2/auth?client_id=947318989803-6bn6qk8qdgf4n4g3pfee6491hc0brc4i.apps.googleusercontent.com&redirect_uri=urn%3aietf%3awg%3aoauth%3a2.0%3aoob&response_type=code&scope=email%20https%3a%2f%2fwww.googleapis.com%2fauth%2fdocs.test%20https%3a%2f%2fwww.googleapis.com%2fauth%2fdrive%20https%3a%2f%2fwww.googleapis.com%2fauth%2fdrive.photos.readonly%20https%3a%2f%2fwww.googleapis.com%2fauth%2fpeopleapi.readonly\n",
            "\n",
            "Enter your authorization code:\n",
            "··········\n",
            "Mounted at /content/drive\n"
          ],
          "name": "stdout"
        }
      ]
    },
    {
      "cell_type": "code",
      "metadata": {
        "id": "ci8JUQWulOhB",
        "colab_type": "code",
        "colab": {
          "base_uri": "https://localhost:8080/",
          "height": 101
        },
        "outputId": "2df651e1-2405-45ae-d4b3-4e0b065381ed"
      },
      "source": [
        "#Using GPU\n",
        "print(sys.version)\n",
        "device = 'cuda'\n",
        "#Checking for GPU\n",
        "print(torch.version.cuda)\n",
        "print(torch.cuda.device_count())\n",
        "print(torch.cuda.is_available())"
      ],
      "execution_count": 3,
      "outputs": [
        {
          "output_type": "stream",
          "text": [
            "3.6.9 (default, Apr 18 2020, 01:56:04) \n",
            "[GCC 8.4.0]\n",
            "10.1\n",
            "1\n",
            "True\n"
          ],
          "name": "stdout"
        }
      ]
    },
    {
      "cell_type": "code",
      "metadata": {
        "id": "cV-uM0FAlOhE",
        "colab_type": "code",
        "colab": {
          "base_uri": "https://localhost:8080/",
          "height": 50
        },
        "outputId": "d1898152-7743-499f-f503-a637f892054e"
      },
      "source": [
        "lookup = dict()\n",
        "reverselookup = dict()\n",
        "\n",
        "count = 0\n",
        "\n",
        "for j in os.listdir('drive/My Drive/Colab Notebooks/ITSP/mydata/'):\n",
        "    if not j.startswith('.'):\n",
        "        lookup[j] = count\n",
        "        reverselookup[count] = j\n",
        "        count += 1\n",
        "        \n",
        "print(lookup)\n",
        "print(reverselookup)"
      ],
      "execution_count": 4,
      "outputs": [
        {
          "output_type": "stream",
          "text": [
            "{'3': 0, '6': 1, '4': 2, '2': 3, '1': 4, '7': 5, '5': 6, '8': 7, '0': 8, '9': 9}\n",
            "{0: '3', 1: '6', 2: '4', 3: '2', 4: '1', 5: '7', 6: '5', 7: '8', 8: '0', 9: '9'}\n"
          ],
          "name": "stdout"
        }
      ]
    },
    {
      "cell_type": "code",
      "metadata": {
        "id": "hr7Fpf9ClOhH",
        "colab_type": "code",
        "colab": {
          "base_uri": "https://localhost:8080/",
          "height": 319
        },
        "outputId": "3411c1ae-1ac8-4a54-cc53-3087a1aa84ea"
      },
      "source": [
        "x_data = []\n",
        "y_data = []\n",
        "datacount = 0\n",
        "image_size = 256\n",
        "\n",
        "dataset = dset.ImageFolder(root = 'drive/My Drive/Colab Notebooks/ITSP/mydata', \n",
        "                transform = \n",
        "                transforms.Compose([\n",
        "                transforms.Resize(image_size),\n",
        "                transforms.RandomResizedCrop(size=256, scale=(0.95, 1.0)),\n",
        "                transforms.RandomRotation(degrees=10),\n",
        "                transforms.ColorJitter(),\n",
        "                transforms.RandomHorizontalFlip(0.4),\n",
        "                transforms.Resize(size=224),  # Image net standards\n",
        "                transforms.ToTensor(),\n",
        "                transforms.Normalize([0.485, 0.456, 0.406],\n",
        "                                     [0.229, 0.224, 0.225])  # Imagenet standards\n",
        "                #transforms.ToTensor(), \n",
        "                #transforms.Normalize((0.5, 0.5, 0.5), (0.5, 0.5, 0.5))\n",
        "                ]))\n",
        "\n",
        "print(dataset)\n",
        "\n",
        "batch = 16\n",
        "random_seed = random.randint(1, 100)\n",
        "\n",
        "dataset_size = len(dataset)\n",
        "split = int(0.05*dataset_size)\n",
        "print('Size of dataset is: ', dataset_size)\n",
        "print('Split value: ', split)\n",
        "indices = list(range(dataset_size))\n",
        "\n",
        "np.random.seed(random_seed)\n",
        "np.random.shuffle(indices)\n",
        "\n",
        "train_indices, val_indices = indices[split:], indices[:split]\n",
        "\n",
        "# Creating PT data samplers and loaders:\n",
        "train_sampler = SubsetRandomSampler(train_indices)\n",
        "valid_sampler = SubsetRandomSampler(val_indices)\n",
        "\n",
        "train_loader = torch.utils.data.DataLoader(dataset, batch_size=batch, sampler=train_sampler,\n",
        "                                            num_workers = 2)\n",
        "valid_loader = torch.utils.data.DataLoader(dataset, batch_size=batch, sampler=valid_sampler,\n",
        "                                            num_workers = 2)\n",
        "\n",
        "print(len(train_loader))\n",
        "print(len(valid_loader))\n",
        "\n",
        "\n",
        "#for image, label in train_loader:\n",
        "    #print(label)"
      ],
      "execution_count": 5,
      "outputs": [
        {
          "output_type": "stream",
          "text": [
            "Dataset ImageFolder\n",
            "    Number of datapoints: 3535\n",
            "    Root location: drive/My Drive/Colab Notebooks/ITSP/mydata\n",
            "    StandardTransform\n",
            "Transform: Compose(\n",
            "               Resize(size=256, interpolation=PIL.Image.BILINEAR)\n",
            "               RandomResizedCrop(size=(256, 256), scale=(0.95, 1.0), ratio=(0.75, 1.3333), interpolation=PIL.Image.BILINEAR)\n",
            "               RandomRotation(degrees=(-10, 10), resample=False, expand=False)\n",
            "               ColorJitter(brightness=None, contrast=None, saturation=None, hue=None)\n",
            "               RandomHorizontalFlip(p=0.4)\n",
            "               Resize(size=224, interpolation=PIL.Image.BILINEAR)\n",
            "               ToTensor()\n",
            "               Normalize(mean=[0.485, 0.456, 0.406], std=[0.229, 0.224, 0.225])\n",
            "           )\n",
            "Size of dataset is:  3535\n",
            "Split value:  176\n",
            "210\n",
            "11\n"
          ],
          "name": "stdout"
        }
      ]
    },
    {
      "cell_type": "code",
      "metadata": {
        "id": "TrB04PSAlOhK",
        "colab_type": "code",
        "colab": {
          "base_uri": "https://localhost:8080/",
          "height": 34
        },
        "outputId": "53d2d56d-98c0-4a62-a4b7-dd69ecd4b437"
      },
      "source": [
        "# Iterate through the dataloader once\n",
        "trainiter = iter(train_loader)\n",
        "features, labels = next(trainiter)\n",
        "features.shape, labels.shape"
      ],
      "execution_count": 6,
      "outputs": [
        {
          "output_type": "execute_result",
          "data": {
            "text/plain": [
              "(torch.Size([16, 3, 224, 224]), torch.Size([16]))"
            ]
          },
          "metadata": {
            "tags": []
          },
          "execution_count": 6
        }
      ]
    },
    {
      "cell_type": "code",
      "metadata": {
        "id": "x6Fr4KYYlOhN",
        "colab_type": "code",
        "colab": {
          "base_uri": "https://localhost:8080/",
          "height": 336
        },
        "outputId": "076c4c27-6fb1-44c9-d5de-3434e8dd6821"
      },
      "source": [
        "def get_image_shape():\n",
        "    img = cv.imread('drive/My Drive/Colab Notebooks/ITSP/mydata/1/1.jpg', 0)\n",
        "    return img.shape\n",
        "\n",
        "\n",
        "img_shape = get_image_shape()\n",
        "print('Image shape: ', img_shape)\n",
        "root = 'drive/My Drive/Colab Notebooks/ITSP/mydata'\n",
        "gesture_data = os.listdir(root)\n",
        "num_g = len(gesture_data)\n",
        "print('Number of gestures: ', num_g)\n",
        "num_rows = int(num_g/4)\n",
        "\n",
        "if(num_g%4):\n",
        "   num_rows+=1\n",
        "\n",
        "print('Number of rows: ', num_rows)\n",
        "\n",
        "begin = 0\n",
        "final_img = None\n",
        "\n",
        "for i in range(num_rows):\n",
        "    row_img = None\n",
        "    for j in range(begin, begin+4):\n",
        "        if (j>= num_g):\n",
        "            img = np.zeros(img_shape, dtype = np.uint8)\n",
        "            #print('Image index: ', j, 'false')\n",
        "            \n",
        "        else:         \n",
        "            imgpath = root + '/' + reverselookup[j] + '/' + str(random.randint(1, 200)) + '.jpg'\n",
        "            img = cv.imread(imgpath, 0)\n",
        "            #if not np.any(img == None):\n",
        "                #print('Image index: ', j, 'true')\n",
        "            \n",
        "        if np.any(row_img == None):\n",
        "            row_img = img\n",
        "        else:\n",
        "            row_img = np.hstack((row_img, img))\n",
        "            \n",
        "    begin += 4\n",
        "    if np.any(final_img == None):\n",
        "            final_img = row_img\n",
        "    else:\n",
        "        final_img = np.vstack((final_img, row_img))  \n",
        "                        \n",
        "plt.imshow(final_img, cmap='gray')\n",
        "#cv.waitKey(0)\n",
        "#cv.destroyAllWindows()        "
      ],
      "execution_count": 7,
      "outputs": [
        {
          "output_type": "stream",
          "text": [
            "Image shape:  (256, 256)\n",
            "Number of gestures:  10\n",
            "Number of rows:  3\n"
          ],
          "name": "stdout"
        },
        {
          "output_type": "execute_result",
          "data": {
            "text/plain": [
              "<matplotlib.image.AxesImage at 0x7f67100fe6a0>"
            ]
          },
          "metadata": {
            "tags": []
          },
          "execution_count": 7
        },
        {
          "output_type": "display_data",
          "data": {
            "image/png": "[encoded data removed]",
            "text/plain": [
              "<Figure size 432x288 with 1 Axes>"
            ]
          },
          "metadata": {
            "tags": [],
            "needs_background": "light"
          }
        }
      ]
    },
    {
      "cell_type": "code",
      "metadata": {
        "id": "10-e-DTXlOhQ",
        "colab_type": "code",
        "colab": {
          "base_uri": "https://localhost:8080/",
          "height": 264
        },
        "outputId": "892b3764-8ed8-4ccb-f761-8dda56db1b77"
      },
      "source": [
        "gestures = []\n",
        "titles = []\n",
        "\n",
        "for i in range(num_g):\n",
        "    imgpath = root + '/' + reverselookup[i] + '/' + str(random.randint(1, 200)) + '.jpg'\n",
        "    img = cv.imread(imgpath, 0)\n",
        "    gestures.append(img)\n",
        "    titles.append(reverselookup[i])\n",
        "    \n",
        "for i in range(num_g):\n",
        "    plt.subplot(3, 4, i+1)\n",
        "    plt.imshow(gestures[i], cmap='gray')\n",
        "    plt.title(titles[i])\n",
        "    plt.axis('off')"
      ],
      "execution_count": 8,
      "outputs": [
        {
          "output_type": "display_data",
          "data": {
            "image/png": "[encoded data removed]",
            "text/plain": [
              "<Figure size 432x288 with 10 Axes>"
            ]
          },
          "metadata": {
            "tags": [],
            "needs_background": "light"
          }
        }
      ]
    },
    {
      "cell_type": "code",
      "metadata": {
        "id": "KzO_7weRlOhT",
        "colab_type": "code",
        "colab": {
          "base_uri": "https://localhost:8080/",
          "height": 82,
          "referenced_widgets": [
            "ae58460f193341488685bd4188fa51a8",
            "4cf048b0c52d4b9ba1d0394d495d0726",
            "f29f64066f9c4bebb36a0a14687c1dd7",
            "1193704d1d614ca9aaa1aa7bcf29d4a2",
            "8f27538f0da544459ac8522baa1d6fcb",
            "4c43082555404ae9b145877dc891d4a8",
            "b717951eaa5742269bbed48573ac8d7a",
            "4ffbffab669e4cfabe45d164e61889e4"
          ]
        },
        "outputId": "36b2d623-cb90-4d95-c3f8-5fbcd1056bd6"
      },
      "source": [
        "from torchvision import models\n",
        "model = models.vgg19_bn(pretrained=True)\n",
        "for param in model.parameters():\n",
        "    param.requires_grad = False"
      ],
      "execution_count": 9,
      "outputs": [
        {
          "output_type": "stream",
          "text": [
            "Downloading: \"https://download.pytorch.org/models/vgg19_bn-c79401a0.pth\" to /root/.cache/torch/checkpoints/vgg19_bn-c79401a0.pth\n"
          ],
          "name": "stderr"
        },
        {
          "output_type": "display_data",
          "data": {
            "application/vnd.jupyter.widget-view+json": {
              "model_id": "ae58460f193341488685bd4188fa51a8",
              "version_minor": 0,
              "version_major": 2
            },
            "text/plain": [
              "HBox(children=(FloatProgress(value=0.0, max=574769405.0), HTML(value='')))"
            ]
          },
          "metadata": {
            "tags": []
          }
        },
        {
          "output_type": "stream",
          "text": [
            "\n"
          ],
          "name": "stdout"
        }
      ]
    },
    {
      "cell_type": "code",
      "metadata": {
        "id": "aVno7LbllOhW",
        "colab_type": "code",
        "colab": {
          "base_uri": "https://localhost:8080/",
          "height": 1000
        },
        "outputId": "2ff2d740-9a40-4780-c940-3645a47f603d"
      },
      "source": [
        "torch.save(model, 'drive/My Drive/Colab Notebooks/ITSP/vgg19_bn.pth')\n",
        "print(model)"
      ],
      "execution_count": 10,
      "outputs": [
        {
          "output_type": "stream",
          "text": [
            "VGG(\n",
            "  (features): Sequential(\n",
            "    (0): Conv2d(3, 64, kernel_size=(3, 3), stride=(1, 1), padding=(1, 1))\n",
            "    (1): BatchNorm2d(64, eps=1e-05, momentum=0.1, affine=True, track_running_stats=True)\n",
            "    (2): ReLU(inplace=True)\n",
            "    (3): Conv2d(64, 64, kernel_size=(3, 3), stride=(1, 1), padding=(1, 1))\n",
            "    (4): BatchNorm2d(64, eps=1e-05, momentum=0.1, affine=True, track_running_stats=True)\n",
            "    (5): ReLU(inplace=True)\n",
            "    (6): MaxPool2d(kernel_size=2, stride=2, padding=0, dilation=1, ceil_mode=False)\n",
            "    (7): Conv2d(64, 128, kernel_size=(3, 3), stride=(1, 1), padding=(1, 1))\n",
            "    (8): BatchNorm2d(128, eps=1e-05, momentum=0.1, affine=True, track_running_stats=True)\n",
            "    (9): ReLU(inplace=True)\n",
            "    (10): Conv2d(128, 128, kernel_size=(3, 3), stride=(1, 1), padding=(1, 1))\n",
            "    (11): BatchNorm2d(128, eps=1e-05, momentum=0.1, affine=True, track_running_stats=True)\n",
            "    (12): ReLU(inplace=True)\n",
            "    (13): MaxPool2d(kernel_size=2, stride=2, padding=0, dilation=1, ceil_mode=False)\n",
            "    (14): Conv2d(128, 256, kernel_size=(3, 3), stride=(1, 1), padding=(1, 1))\n",
            "    (15): BatchNorm2d(256, eps=1e-05, momentum=0.1, affine=True, track_running_stats=True)\n",
            "    (16): ReLU(inplace=True)\n",
            "    (17): Conv2d(256, 256, kernel_size=(3, 3), stride=(1, 1), padding=(1, 1))\n",
            "    (18): BatchNorm2d(256, eps=1e-05, momentum=0.1, affine=True, track_running_stats=True)\n",
            "    (19): ReLU(inplace=True)\n",
            "    (20): Conv2d(256, 256, kernel_size=(3, 3), stride=(1, 1), padding=(1, 1))\n",
            "    (21): BatchNorm2d(256, eps=1e-05, momentum=0.1, affine=True, track_running_stats=True)\n",
            "    (22): ReLU(inplace=True)\n",
            "    (23): Conv2d(256, 256, kernel_size=(3, 3), stride=(1, 1), padding=(1, 1))\n",
            "    (24): BatchNorm2d(256, eps=1e-05, momentum=0.1, affine=True, track_running_stats=True)\n",
            "    (25): ReLU(inplace=True)\n",
            "    (26): MaxPool2d(kernel_size=2, stride=2, padding=0, dilation=1, ceil_mode=False)\n",
            "    (27): Conv2d(256, 512, kernel_size=(3, 3), stride=(1, 1), padding=(1, 1))\n",
            "    (28): BatchNorm2d(512, eps=1e-05, momentum=0.1, affine=True, track_running_stats=True)\n",
            "    (29): ReLU(inplace=True)\n",
            "    (30): Conv2d(512, 512, kernel_size=(3, 3), stride=(1, 1), padding=(1, 1))\n",
            "    (31): BatchNorm2d(512, eps=1e-05, momentum=0.1, affine=True, track_running_stats=True)\n",
            "    (32): ReLU(inplace=True)\n",
            "    (33): Conv2d(512, 512, kernel_size=(3, 3), stride=(1, 1), padding=(1, 1))\n",
            "    (34): BatchNorm2d(512, eps=1e-05, momentum=0.1, affine=True, track_running_stats=True)\n",
            "    (35): ReLU(inplace=True)\n",
            "    (36): Conv2d(512, 512, kernel_size=(3, 3), stride=(1, 1), padding=(1, 1))\n",
            "    (37): BatchNorm2d(512, eps=1e-05, momentum=0.1, affine=True, track_running_stats=True)\n",
            "    (38): ReLU(inplace=True)\n",
            "    (39): MaxPool2d(kernel_size=2, stride=2, padding=0, dilation=1, ceil_mode=False)\n",
            "    (40): Conv2d(512, 512, kernel_size=(3, 3), stride=(1, 1), padding=(1, 1))\n",
            "    (41): BatchNorm2d(512, eps=1e-05, momentum=0.1, affine=True, track_running_stats=True)\n",
            "    (42): ReLU(inplace=True)\n",
            "    (43): Conv2d(512, 512, kernel_size=(3, 3), stride=(1, 1), padding=(1, 1))\n",
            "    (44): BatchNorm2d(512, eps=1e-05, momentum=0.1, affine=True, track_running_stats=True)\n",
            "    (45): ReLU(inplace=True)\n",
            "    (46): Conv2d(512, 512, kernel_size=(3, 3), stride=(1, 1), padding=(1, 1))\n",
            "    (47): BatchNorm2d(512, eps=1e-05, momentum=0.1, affine=True, track_running_stats=True)\n",
            "    (48): ReLU(inplace=True)\n",
            "    (49): Conv2d(512, 512, kernel_size=(3, 3), stride=(1, 1), padding=(1, 1))\n",
            "    (50): BatchNorm2d(512, eps=1e-05, momentum=0.1, affine=True, track_running_stats=True)\n",
            "    (51): ReLU(inplace=True)\n",
            "    (52): MaxPool2d(kernel_size=2, stride=2, padding=0, dilation=1, ceil_mode=False)\n",
            "  )\n",
            "  (avgpool): AdaptiveAvgPool2d(output_size=(7, 7))\n",
            "  (classifier): Sequential(\n",
            "    (0): Linear(in_features=25088, out_features=4096, bias=True)\n",
            "    (1): ReLU(inplace=True)\n",
            "    (2): Dropout(p=0.5, inplace=False)\n",
            "    (3): Linear(in_features=4096, out_features=4096, bias=True)\n",
            "    (4): ReLU(inplace=True)\n",
            "    (5): Dropout(p=0.5, inplace=False)\n",
            "    (6): Linear(in_features=4096, out_features=1000, bias=True)\n",
            "  )\n",
            ")\n"
          ],
          "name": "stdout"
        }
      ]
    },
    {
      "cell_type": "code",
      "metadata": {
        "id": "VB9MoHJDlOhZ",
        "colab_type": "code",
        "colab": {
          "base_uri": "https://localhost:8080/",
          "height": 1000
        },
        "outputId": "7753fccb-4d7e-400b-e07a-cb74537ab2ff"
      },
      "source": [
        "n_classes = 10\n",
        "\n",
        "model.classifier[6] = nn.Sequential(\n",
        "                      nn.Linear(4096, 512), \n",
        "                      nn.ReLU(), \n",
        "                      nn.Linear(512, 128), \n",
        "                      nn.ReLU(),\n",
        "                      nn.Dropout(0.1), \n",
        "                      nn.Linear(128, n_classes),                   \n",
        "                      nn.LogSoftmax(dim=1))\n",
        "\n",
        "print(model)"
      ],
      "execution_count": 14,
      "outputs": [
        {
          "output_type": "stream",
          "text": [
            "VGG(\n",
            "  (features): Sequential(\n",
            "    (0): Conv2d(3, 64, kernel_size=(3, 3), stride=(1, 1), padding=(1, 1))\n",
            "    (1): BatchNorm2d(64, eps=1e-05, momentum=0.1, affine=True, track_running_stats=True)\n",
            "    (2): ReLU(inplace=True)\n",
            "    (3): Conv2d(64, 64, kernel_size=(3, 3), stride=(1, 1), padding=(1, 1))\n",
            "    (4): BatchNorm2d(64, eps=1e-05, momentum=0.1, affine=True, track_running_stats=True)\n",
            "    (5): ReLU(inplace=True)\n",
            "    (6): MaxPool2d(kernel_size=2, stride=2, padding=0, dilation=1, ceil_mode=False)\n",
            "    (7): Conv2d(64, 128, kernel_size=(3, 3), stride=(1, 1), padding=(1, 1))\n",
            "    (8): BatchNorm2d(128, eps=1e-05, momentum=0.1, affine=True, track_running_stats=True)\n",
            "    (9): ReLU(inplace=True)\n",
            "    (10): Conv2d(128, 128, kernel_size=(3, 3), stride=(1, 1), padding=(1, 1))\n",
            "    (11): BatchNorm2d(128, eps=1e-05, momentum=0.1, affine=True, track_running_stats=True)\n",
            "    (12): ReLU(inplace=True)\n",
            "    (13): MaxPool2d(kernel_size=2, stride=2, padding=0, dilation=1, ceil_mode=False)\n",
            "    (14): Conv2d(128, 256, kernel_size=(3, 3), stride=(1, 1), padding=(1, 1))\n",
            "    (15): BatchNorm2d(256, eps=1e-05, momentum=0.1, affine=True, track_running_stats=True)\n",
            "    (16): ReLU(inplace=True)\n",
            "    (17): Conv2d(256, 256, kernel_size=(3, 3), stride=(1, 1), padding=(1, 1))\n",
            "    (18): BatchNorm2d(256, eps=1e-05, momentum=0.1, affine=True, track_running_stats=True)\n",
            "    (19): ReLU(inplace=True)\n",
            "    (20): Conv2d(256, 256, kernel_size=(3, 3), stride=(1, 1), padding=(1, 1))\n",
            "    (21): BatchNorm2d(256, eps=1e-05, momentum=0.1, affine=True, track_running_stats=True)\n",
            "    (22): ReLU(inplace=True)\n",
            "    (23): Conv2d(256, 256, kernel_size=(3, 3), stride=(1, 1), padding=(1, 1))\n",
            "    (24): BatchNorm2d(256, eps=1e-05, momentum=0.1, affine=True, track_running_stats=True)\n",
            "    (25): ReLU(inplace=True)\n",
            "    (26): MaxPool2d(kernel_size=2, stride=2, padding=0, dilation=1, ceil_mode=False)\n",
            "    (27): Conv2d(256, 512, kernel_size=(3, 3), stride=(1, 1), padding=(1, 1))\n",
            "    (28): BatchNorm2d(512, eps=1e-05, momentum=0.1, affine=True, track_running_stats=True)\n",
            "    (29): ReLU(inplace=True)\n",
            "    (30): Conv2d(512, 512, kernel_size=(3, 3), stride=(1, 1), padding=(1, 1))\n",
            "    (31): BatchNorm2d(512, eps=1e-05, momentum=0.1, affine=True, track_running_stats=True)\n",
            "    (32): ReLU(inplace=True)\n",
            "    (33): Conv2d(512, 512, kernel_size=(3, 3), stride=(1, 1), padding=(1, 1))\n",
            "    (34): BatchNorm2d(512, eps=1e-05, momentum=0.1, affine=True, track_running_stats=True)\n",
            "    (35): ReLU(inplace=True)\n",
            "    (36): Conv2d(512, 512, kernel_size=(3, 3), stride=(1, 1), padding=(1, 1))\n",
            "    (37): BatchNorm2d(512, eps=1e-05, momentum=0.1, affine=True, track_running_stats=True)\n",
            "    (38): ReLU(inplace=True)\n",
            "    (39): MaxPool2d(kernel_size=2, stride=2, padding=0, dilation=1, ceil_mode=False)\n",
            "    (40): Conv2d(512, 512, kernel_size=(3, 3), stride=(1, 1), padding=(1, 1))\n",
            "    (41): BatchNorm2d(512, eps=1e-05, momentum=0.1, affine=True, track_running_stats=True)\n",
            "    (42): ReLU(inplace=True)\n",
            "    (43): Conv2d(512, 512, kernel_size=(3, 3), stride=(1, 1), padding=(1, 1))\n",
            "    (44): BatchNorm2d(512, eps=1e-05, momentum=0.1, affine=True, track_running_stats=True)\n",
            "    (45): ReLU(inplace=True)\n",
            "    (46): Conv2d(512, 512, kernel_size=(3, 3), stride=(1, 1), padding=(1, 1))\n",
            "    (47): BatchNorm2d(512, eps=1e-05, momentum=0.1, affine=True, track_running_stats=True)\n",
            "    (48): ReLU(inplace=True)\n",
            "    (49): Conv2d(512, 512, kernel_size=(3, 3), stride=(1, 1), padding=(1, 1))\n",
            "    (50): BatchNorm2d(512, eps=1e-05, momentum=0.1, affine=True, track_running_stats=True)\n",
            "    (51): ReLU(inplace=True)\n",
            "    (52): MaxPool2d(kernel_size=2, stride=2, padding=0, dilation=1, ceil_mode=False)\n",
            "  )\n",
            "  (avgpool): AdaptiveAvgPool2d(output_size=(7, 7))\n",
            "  (classifier): Sequential(\n",
            "    (0): Linear(in_features=25088, out_features=4096, bias=True)\n",
            "    (1): ReLU(inplace=True)\n",
            "    (2): Dropout(p=0.5, inplace=False)\n",
            "    (3): Linear(in_features=4096, out_features=4096, bias=True)\n",
            "    (4): ReLU(inplace=True)\n",
            "    (5): Dropout(p=0.5, inplace=False)\n",
            "    (6): Sequential(\n",
            "      (0): Linear(in_features=4096, out_features=512, bias=True)\n",
            "      (1): ReLU()\n",
            "      (2): Linear(in_features=512, out_features=128, bias=True)\n",
            "      (3): ReLU()\n",
            "      (4): Dropout(p=0.1, inplace=False)\n",
            "      (5): Linear(in_features=128, out_features=10, bias=True)\n",
            "      (6): LogSoftmax()\n",
            "    )\n",
            "  )\n",
            ")\n"
          ],
          "name": "stdout"
        }
      ]
    },
    {
      "cell_type": "code",
      "metadata": {
        "id": "CYTxJ2w_lOhb",
        "colab_type": "code",
        "colab": {
          "base_uri": "https://localhost:8080/",
          "height": 50
        },
        "outputId": "ce167d34-9da9-4bde-8924-253a840b7d88"
      },
      "source": [
        "total_params = sum(p.numel() for p in model.parameters())\n",
        "\n",
        "print(f'{total_params:,} total parameters')\n",
        "\n",
        "total_trainable = sum(p.numel() for p in model.parameters() if p.requires_grad)\n",
        "\n",
        "print(f'{total_trainable:,} trainable parameters.')"
      ],
      "execution_count": 15,
      "outputs": [
        {
          "output_type": "stream",
          "text": [
            "141,745,866 total parameters\n",
            "2,164,618 trainable parameters.\n"
          ],
          "name": "stdout"
        }
      ]
    },
    {
      "cell_type": "code",
      "metadata": {
        "id": "UvYn0mxHlOhe",
        "colab_type": "code",
        "colab": {}
      },
      "source": [
        "# Move to gpu\n",
        "model = model.to('cuda')\n",
        "# Distribute across 2 gpus\n",
        "model = nn.DataParallel(model)\n",
        "\n",
        "loss_func = F.cross_entropy\n",
        "optimizer = optim.Adam(model.parameters(), betas=(0.8, 0.99), lr = 0.002)\n"
      ],
      "execution_count": 16,
      "outputs": []
    },
    {
      "cell_type": "code",
      "metadata": {
        "id": "1Xov_0milOhh",
        "colab_type": "code",
        "colab": {}
      },
      "source": [
        "def accuracy(out, yb):\n",
        "    pred = torch.argmax(out, keepdim= False, dim=1)\n",
        "    return (pred == yb).float().mean() "
      ],
      "execution_count": 17,
      "outputs": []
    },
    {
      "cell_type": "code",
      "metadata": {
        "id": "y4K2vMYllOhk",
        "colab_type": "code",
        "colab": {}
      },
      "source": [
        "def fit(model, epochs, train_loader, valid_loader, opt):\n",
        "    losses = []\n",
        "    \n",
        "    for epoch in range(epochs):\n",
        "        train_loss =0\n",
        "        train_acc =0\n",
        "        model.train()\n",
        "        for xb, yb in train_loader:\n",
        "            xb =xb.to(device)\n",
        "            yb = yb.to(device)\n",
        "            pred = model(xb.float())\n",
        "            pred.to(device)\n",
        "            train_acc += accuracy(pred, yb)\n",
        "            loss = loss_func(pred, yb)\n",
        "            train_loss += loss\n",
        "            #back propogation\n",
        "            loss.backward()\n",
        "            opt.step()\n",
        "            opt.zero_grad()      \n",
        "\n",
        "        losses.append(train_loss)\n",
        "        print(\"Iteration no: \"+ str(epoch), \"loss = \"+str(losses[epoch].item()))\n",
        "        print(\"Accuracy of train set:\", train_acc/len(train_loader))\n",
        "        lr_scheduler.step(train_loss/len(train_loader))\n",
        "        \n",
        "        \n",
        "        model.eval()    \n",
        "        with torch.no_grad():\n",
        "            valid_acc=0\n",
        "            loss_valid = 0\n",
        "            for xb_valid, yb_valid in valid_loader:\n",
        "                xb_valid = xb_valid.to(device)\n",
        "                yb_valid = yb_valid.to(device)\n",
        "                pred_valid = model(xb_valid.float())\n",
        "                pred_valid.to(device)\n",
        "                valid_acc += accuracy(pred_valid, yb_valid)\n",
        "                loss_valid += loss_func(pred_valid, yb_valid)\n",
        "            print(\"Accuracy of validation set :\", valid_acc/len(valid_loader))\n",
        "\n",
        "    plt.plot(losses)\n",
        "    plt.ylabel(\"loss\")\n",
        "    plt.xlabel(\"iterations\")\n",
        "    plt.show()"
      ],
      "execution_count": 18,
      "outputs": []
    },
    {
      "cell_type": "code",
      "metadata": {
        "id": "FRhPBGl2lOhm",
        "colab_type": "code",
        "colab": {
          "base_uri": "https://localhost:8080/",
          "height": 1000
        },
        "outputId": "fee2b056-d59d-4133-abc2-84dceb4dbc8f"
      },
      "source": [
        "lr_scheduler = torch.optim.lr_scheduler.ReduceLROnPlateau(optimizer, patience=4, verbose=True, eps = 10e-14)\n",
        "\n",
        "fit(model, 120, train_loader, valid_loader, optimizer)"
      ],
      "execution_count": 19,
      "outputs": [
        {
          "output_type": "stream",
          "text": [
            "Iteration no: 0 loss = 280.30059814453125\n",
            "Accuracy of train set: tensor(0.5002, device='cuda:0')\n",
            "Accuracy of validation set : tensor(0.6193, device='cuda:0')\n",
            "Iteration no: 1 loss = 205.3153533935547\n",
            "Accuracy of train set: tensor(0.6499, device='cuda:0')\n",
            "Accuracy of validation set : tensor(0.6761, device='cuda:0')\n",
            "Iteration no: 2 loss = 193.99314880371094\n",
            "Accuracy of train set: tensor(0.6705, device='cuda:0')\n",
            "Accuracy of validation set : tensor(0.7557, device='cuda:0')\n",
            "Iteration no: 3 loss = 184.81446838378906\n",
            "Accuracy of train set: tensor(0.6818, device='cuda:0')\n",
            "Accuracy of validation set : tensor(0.7727, device='cuda:0')\n",
            "Iteration no: 4 loss = 175.60281372070312\n",
            "Accuracy of train set: tensor(0.7122, device='cuda:0')\n",
            "Accuracy of validation set : tensor(0.7955, device='cuda:0')\n",
            "Iteration no: 5 loss = 169.55862426757812\n",
            "Accuracy of train set: tensor(0.7181, device='cuda:0')\n",
            "Accuracy of validation set : tensor(0.7784, device='cuda:0')\n",
            "Iteration no: 6 loss = 165.00465393066406\n",
            "Accuracy of train set: tensor(0.7237, device='cuda:0')\n",
            "Accuracy of validation set : tensor(0.7898, device='cuda:0')\n",
            "Iteration no: 7 loss = 162.99639892578125\n",
            "Accuracy of train set: tensor(0.7338, device='cuda:0')\n",
            "Accuracy of validation set : tensor(0.7727, device='cuda:0')\n",
            "Iteration no: 8 loss = 165.2036895751953\n",
            "Accuracy of train set: tensor(0.7273, device='cuda:0')\n",
            "Accuracy of validation set : tensor(0.8295, device='cuda:0')\n",
            "Iteration no: 9 loss = 160.65533447265625\n",
            "Accuracy of train set: tensor(0.7330, device='cuda:0')\n",
            "Accuracy of validation set : tensor(0.7784, device='cuda:0')\n",
            "Iteration no: 10 loss = 160.4774932861328\n",
            "Accuracy of train set: tensor(0.7294, device='cuda:0')\n",
            "Accuracy of validation set : tensor(0.8580, device='cuda:0')\n",
            "Iteration no: 11 loss = 161.43870544433594\n",
            "Accuracy of train set: tensor(0.7330, device='cuda:0')\n",
            "Accuracy of validation set : tensor(0.8125, device='cuda:0')\n",
            "Iteration no: 12 loss = 153.9812469482422\n",
            "Accuracy of train set: tensor(0.7517, device='cuda:0')\n",
            "Accuracy of validation set : tensor(0.8125, device='cuda:0')\n",
            "Iteration no: 13 loss = 159.7465057373047\n",
            "Accuracy of train set: tensor(0.7413, device='cuda:0')\n",
            "Accuracy of validation set : tensor(0.7443, device='cuda:0')\n",
            "Iteration no: 14 loss = 155.94793701171875\n",
            "Accuracy of train set: tensor(0.7485, device='cuda:0')\n",
            "Accuracy of validation set : tensor(0.8068, device='cuda:0')\n",
            "Iteration no: 15 loss = 151.08424377441406\n",
            "Accuracy of train set: tensor(0.7588, device='cuda:0')\n",
            "Accuracy of validation set : tensor(0.8466, device='cuda:0')\n",
            "Iteration no: 16 loss = 151.21726989746094\n",
            "Accuracy of train set: tensor(0.7541, device='cuda:0')\n",
            "Accuracy of validation set : tensor(0.8352, device='cuda:0')\n",
            "Iteration no: 17 loss = 153.30935668945312\n",
            "Accuracy of train set: tensor(0.7395, device='cuda:0')\n",
            "Accuracy of validation set : tensor(0.8352, device='cuda:0')\n",
            "Iteration no: 18 loss = 160.23080444335938\n",
            "Accuracy of train set: tensor(0.7419, device='cuda:0')\n",
            "Accuracy of validation set : tensor(0.7670, device='cuda:0')\n",
            "Iteration no: 19 loss = 153.26255798339844\n",
            "Accuracy of train set: tensor(0.7544, device='cuda:0')\n",
            "Accuracy of validation set : tensor(0.8125, device='cuda:0')\n",
            "Iteration no: 20 loss = 148.97412109375\n",
            "Accuracy of train set: tensor(0.7633, device='cuda:0')\n",
            "Accuracy of validation set : tensor(0.8523, device='cuda:0')\n",
            "Iteration no: 21 loss = 149.06275939941406\n",
            "Accuracy of train set: tensor(0.7580, device='cuda:0')\n",
            "Accuracy of validation set : tensor(0.8125, device='cuda:0')\n",
            "Iteration no: 22 loss = 150.4192352294922\n",
            "Accuracy of train set: tensor(0.7615, device='cuda:0')\n",
            "Accuracy of validation set : tensor(0.8068, device='cuda:0')\n",
            "Iteration no: 23 loss = 146.71990966796875\n",
            "Accuracy of train set: tensor(0.7624, device='cuda:0')\n",
            "Accuracy of validation set : tensor(0.8352, device='cuda:0')\n",
            "Iteration no: 24 loss = 154.40396118164062\n",
            "Accuracy of train set: tensor(0.7523, device='cuda:0')\n",
            "Accuracy of validation set : tensor(0.7955, device='cuda:0')\n",
            "Iteration no: 25 loss = 141.348876953125\n",
            "Accuracy of train set: tensor(0.7659, device='cuda:0')\n",
            "Accuracy of validation set : tensor(0.8466, device='cuda:0')\n",
            "Iteration no: 26 loss = 147.87791442871094\n",
            "Accuracy of train set: tensor(0.7553, device='cuda:0')\n",
            "Accuracy of validation set : tensor(0.8295, device='cuda:0')\n",
            "Iteration no: 27 loss = 152.0489501953125\n",
            "Accuracy of train set: tensor(0.7526, device='cuda:0')\n",
            "Accuracy of validation set : tensor(0.8580, device='cuda:0')\n",
            "Iteration no: 28 loss = 143.96058654785156\n",
            "Accuracy of train set: tensor(0.7601, device='cuda:0')\n",
            "Accuracy of validation set : tensor(0.8580, device='cuda:0')\n",
            "Iteration no: 29 loss = 147.5395050048828\n",
            "Accuracy of train set: tensor(0.7616, device='cuda:0')\n",
            "Accuracy of validation set : tensor(0.8693, device='cuda:0')\n",
            "Iteration no: 30 loss = 141.7704315185547\n",
            "Accuracy of train set: tensor(0.7627, device='cuda:0')\n",
            "Epoch    31: reducing learning rate of group 0 to 2.0000e-04.\n",
            "Accuracy of validation set : tensor(0.8466, device='cuda:0')\n",
            "Iteration no: 31 loss = 132.67935180664062\n",
            "Accuracy of train set: tensor(0.7812, device='cuda:0')\n",
            "Accuracy of validation set : tensor(0.8466, device='cuda:0')\n",
            "Iteration no: 32 loss = 125.26026916503906\n",
            "Accuracy of train set: tensor(0.7955, device='cuda:0')\n",
            "Accuracy of validation set : tensor(0.8807, device='cuda:0')\n",
            "Iteration no: 33 loss = 132.40768432617188\n",
            "Accuracy of train set: tensor(0.7782, device='cuda:0')\n",
            "Accuracy of validation set : tensor(0.8466, device='cuda:0')\n",
            "Iteration no: 34 loss = 129.85610961914062\n",
            "Accuracy of train set: tensor(0.7937, device='cuda:0')\n",
            "Accuracy of validation set : tensor(0.8466, device='cuda:0')\n",
            "Iteration no: 35 loss = 122.26998901367188\n",
            "Accuracy of train set: tensor(0.7978, device='cuda:0')\n",
            "Accuracy of validation set : tensor(0.8523, device='cuda:0')\n",
            "Iteration no: 36 loss = 133.6954803466797\n",
            "Accuracy of train set: tensor(0.7844, device='cuda:0')\n",
            "Accuracy of validation set : tensor(0.8750, device='cuda:0')\n",
            "Iteration no: 37 loss = 124.71564483642578\n",
            "Accuracy of train set: tensor(0.7928, device='cuda:0')\n",
            "Accuracy of validation set : tensor(0.8580, device='cuda:0')\n",
            "Iteration no: 38 loss = 127.7018814086914\n",
            "Accuracy of train set: tensor(0.8029, device='cuda:0')\n",
            "Accuracy of validation set : tensor(0.8466, device='cuda:0')\n",
            "Iteration no: 39 loss = 124.2693862915039\n",
            "Accuracy of train set: tensor(0.8008, device='cuda:0')\n",
            "Accuracy of validation set : tensor(0.8409, device='cuda:0')\n",
            "Iteration no: 40 loss = 119.19328308105469\n",
            "Accuracy of train set: tensor(0.8038, device='cuda:0')\n",
            "Accuracy of validation set : tensor(0.8807, device='cuda:0')\n",
            "Iteration no: 41 loss = 126.61947631835938\n",
            "Accuracy of train set: tensor(0.7916, device='cuda:0')\n",
            "Accuracy of validation set : tensor(0.8352, device='cuda:0')\n",
            "Iteration no: 42 loss = 117.13319396972656\n",
            "Accuracy of train set: tensor(0.8083, device='cuda:0')\n",
            "Accuracy of validation set : tensor(0.8580, device='cuda:0')\n",
            "Iteration no: 43 loss = 124.94036102294922\n",
            "Accuracy of train set: tensor(0.7939, device='cuda:0')\n",
            "Accuracy of validation set : tensor(0.8295, device='cuda:0')\n",
            "Iteration no: 44 loss = 124.34998321533203\n",
            "Accuracy of train set: tensor(0.7927, device='cuda:0')\n",
            "Accuracy of validation set : tensor(0.8523, device='cuda:0')\n",
            "Iteration no: 45 loss = 119.19954681396484\n",
            "Accuracy of train set: tensor(0.8110, device='cuda:0')\n",
            "Accuracy of validation set : tensor(0.8409, device='cuda:0')\n",
            "Iteration no: 46 loss = 119.7330093383789\n",
            "Accuracy of train set: tensor(0.7987, device='cuda:0')\n",
            "Accuracy of validation set : tensor(0.8580, device='cuda:0')\n",
            "Iteration no: 47 loss = 121.30348205566406\n",
            "Accuracy of train set: tensor(0.8080, device='cuda:0')\n",
            "Epoch    48: reducing learning rate of group 0 to 2.0000e-05.\n",
            "Accuracy of validation set : tensor(0.8693, device='cuda:0')\n",
            "Iteration no: 48 loss = 117.47330474853516\n",
            "Accuracy of train set: tensor(0.8083, device='cuda:0')\n",
            "Accuracy of validation set : tensor(0.8409, device='cuda:0')\n",
            "Iteration no: 49 loss = 126.73622131347656\n",
            "Accuracy of train set: tensor(0.7979, device='cuda:0')\n",
            "Accuracy of validation set : tensor(0.8920, device='cuda:0')\n",
            "Iteration no: 50 loss = 121.1019515991211\n",
            "Accuracy of train set: tensor(0.8113, device='cuda:0')\n",
            "Accuracy of validation set : tensor(0.8580, device='cuda:0')\n",
            "Iteration no: 51 loss = 116.88316345214844\n",
            "Accuracy of train set: tensor(0.8059, device='cuda:0')\n",
            "Accuracy of validation set : tensor(0.8352, device='cuda:0')\n",
            "Iteration no: 52 loss = 121.0070571899414\n",
            "Accuracy of train set: tensor(0.7976, device='cuda:0')\n",
            "Accuracy of validation set : tensor(0.8409, device='cuda:0')\n",
            "Iteration no: 53 loss = 116.79515075683594\n",
            "Accuracy of train set: tensor(0.8125, device='cuda:0')\n",
            "Accuracy of validation set : tensor(0.8693, device='cuda:0')\n",
            "Iteration no: 54 loss = 119.70761108398438\n",
            "Accuracy of train set: tensor(0.8020, device='cuda:0')\n",
            "Accuracy of validation set : tensor(0.8636, device='cuda:0')\n",
            "Iteration no: 55 loss = 124.27394104003906\n",
            "Accuracy of train set: tensor(0.7931, device='cuda:0')\n",
            "Accuracy of validation set : tensor(0.9148, device='cuda:0')\n",
            "Iteration no: 56 loss = 118.6301498413086\n",
            "Accuracy of train set: tensor(0.8053, device='cuda:0')\n",
            "Accuracy of validation set : tensor(0.8466, device='cuda:0')\n",
            "Iteration no: 57 loss = 121.38589477539062\n",
            "Accuracy of train set: tensor(0.8038, device='cuda:0')\n",
            "Accuracy of validation set : tensor(0.8750, device='cuda:0')\n",
            "Iteration no: 58 loss = 124.60751342773438\n",
            "Accuracy of train set: tensor(0.7993, device='cuda:0')\n",
            "Epoch    59: reducing learning rate of group 0 to 2.0000e-06.\n",
            "Accuracy of validation set : tensor(0.8864, device='cuda:0')\n",
            "Iteration no: 59 loss = 118.29366302490234\n",
            "Accuracy of train set: tensor(0.8092, device='cuda:0')\n",
            "Accuracy of validation set : tensor(0.8580, device='cuda:0')\n",
            "Iteration no: 60 loss = 109.44061279296875\n",
            "Accuracy of train set: tensor(0.8139, device='cuda:0')\n",
            "Accuracy of validation set : tensor(0.8409, device='cuda:0')\n",
            "Iteration no: 61 loss = 117.92124938964844\n",
            "Accuracy of train set: tensor(0.8118, device='cuda:0')\n",
            "Accuracy of validation set : tensor(0.8182, device='cuda:0')\n",
            "Iteration no: 62 loss = 118.48983764648438\n",
            "Accuracy of train set: tensor(0.8086, device='cuda:0')\n",
            "Accuracy of validation set : tensor(0.8295, device='cuda:0')\n",
            "Iteration no: 63 loss = 117.26283264160156\n",
            "Accuracy of train set: tensor(0.8083, device='cuda:0')\n",
            "Accuracy of validation set : tensor(0.8693, device='cuda:0')\n",
            "Iteration no: 64 loss = 127.28752899169922\n",
            "Accuracy of train set: tensor(0.7990, device='cuda:0')\n",
            "Accuracy of validation set : tensor(0.8125, device='cuda:0')\n",
            "Iteration no: 65 loss = 126.04544830322266\n",
            "Accuracy of train set: tensor(0.7964, device='cuda:0')\n",
            "Epoch    66: reducing learning rate of group 0 to 2.0000e-07.\n",
            "Accuracy of validation set : tensor(0.9034, device='cuda:0')\n",
            "Iteration no: 66 loss = 117.19869232177734\n",
            "Accuracy of train set: tensor(0.8038, device='cuda:0')\n",
            "Accuracy of validation set : tensor(0.8409, device='cuda:0')\n",
            "Iteration no: 67 loss = 124.88858795166016\n",
            "Accuracy of train set: tensor(0.7982, device='cuda:0')\n",
            "Accuracy of validation set : tensor(0.8636, device='cuda:0')\n",
            "Iteration no: 68 loss = 123.21529388427734\n",
            "Accuracy of train set: tensor(0.8071, device='cuda:0')\n",
            "Accuracy of validation set : tensor(0.8580, device='cuda:0')\n",
            "Iteration no: 69 loss = 123.66979217529297\n",
            "Accuracy of train set: tensor(0.8029, device='cuda:0')\n",
            "Accuracy of validation set : tensor(0.8864, device='cuda:0')\n",
            "Iteration no: 70 loss = 118.93329620361328\n",
            "Accuracy of train set: tensor(0.8104, device='cuda:0')\n",
            "Epoch    71: reducing learning rate of group 0 to 2.0000e-08.\n",
            "Accuracy of validation set : tensor(0.8295, device='cuda:0')\n",
            "Iteration no: 71 loss = 116.66019439697266\n",
            "Accuracy of train set: tensor(0.8103, device='cuda:0')\n",
            "Accuracy of validation set : tensor(0.8409, device='cuda:0')\n",
            "Iteration no: 72 loss = 121.66069793701172\n",
            "Accuracy of train set: tensor(0.8002, device='cuda:0')\n",
            "Accuracy of validation set : tensor(0.8864, device='cuda:0')\n",
            "Iteration no: 73 loss = 121.07344055175781\n",
            "Accuracy of train set: tensor(0.8000, device='cuda:0')\n",
            "Accuracy of validation set : tensor(0.8636, device='cuda:0')\n",
            "Iteration no: 74 loss = 125.79073333740234\n",
            "Accuracy of train set: tensor(0.8033, device='cuda:0')\n",
            "Accuracy of validation set : tensor(0.8636, device='cuda:0')\n",
            "Iteration no: 75 loss = 124.5738525390625\n",
            "Accuracy of train set: tensor(0.7982, device='cuda:0')\n",
            "Epoch    76: reducing learning rate of group 0 to 2.0000e-09.\n",
            "Accuracy of validation set : tensor(0.8750, device='cuda:0')\n",
            "Iteration no: 76 loss = 121.42730712890625\n",
            "Accuracy of train set: tensor(0.8011, device='cuda:0')\n",
            "Accuracy of validation set : tensor(0.9148, device='cuda:0')\n",
            "Iteration no: 77 loss = 118.93218994140625\n",
            "Accuracy of train set: tensor(0.8044, device='cuda:0')\n",
            "Accuracy of validation set : tensor(0.8636, device='cuda:0')\n",
            "Iteration no: 78 loss = 119.92774200439453\n",
            "Accuracy of train set: tensor(0.8047, device='cuda:0')\n",
            "Accuracy of validation set : tensor(0.8807, device='cuda:0')\n",
            "Iteration no: 79 loss = 120.39257049560547\n",
            "Accuracy of train set: tensor(0.8101, device='cuda:0')\n",
            "Accuracy of validation set : tensor(0.8693, device='cuda:0')\n",
            "Iteration no: 80 loss = 110.02667999267578\n",
            "Accuracy of train set: tensor(0.8119, device='cuda:0')\n",
            "Epoch    81: reducing learning rate of group 0 to 2.0000e-10.\n",
            "Accuracy of validation set : tensor(0.8580, device='cuda:0')\n",
            "Iteration no: 81 loss = 120.1978530883789\n",
            "Accuracy of train set: tensor(0.7952, device='cuda:0')\n",
            "Accuracy of validation set : tensor(0.8466, device='cuda:0')\n",
            "Iteration no: 82 loss = 120.64299774169922\n",
            "Accuracy of train set: tensor(0.8124, device='cuda:0')\n",
            "Accuracy of validation set : tensor(0.8466, device='cuda:0')\n",
            "Iteration no: 83 loss = 116.63768768310547\n",
            "Accuracy of train set: tensor(0.8035, device='cuda:0')\n",
            "Accuracy of validation set : tensor(0.8807, device='cuda:0')\n",
            "Iteration no: 84 loss = 127.74605560302734\n",
            "Accuracy of train set: tensor(0.8020, device='cuda:0')\n",
            "Accuracy of validation set : tensor(0.8466, device='cuda:0')\n",
            "Iteration no: 85 loss = 120.29174041748047\n",
            "Accuracy of train set: tensor(0.8047, device='cuda:0')\n",
            "Epoch    86: reducing learning rate of group 0 to 2.0000e-11.\n",
            "Accuracy of validation set : tensor(0.8864, device='cuda:0')\n",
            "Iteration no: 86 loss = 124.6446762084961\n",
            "Accuracy of train set: tensor(0.8053, device='cuda:0')\n",
            "Accuracy of validation set : tensor(0.8807, device='cuda:0')\n",
            "Iteration no: 87 loss = 116.00691223144531\n",
            "Accuracy of train set: tensor(0.8092, device='cuda:0')\n",
            "Accuracy of validation set : tensor(0.8409, device='cuda:0')\n",
            "Iteration no: 88 loss = 123.58281707763672\n",
            "Accuracy of train set: tensor(0.7910, device='cuda:0')\n",
            "Accuracy of validation set : tensor(0.8750, device='cuda:0')\n",
            "Iteration no: 89 loss = 114.09227752685547\n",
            "Accuracy of train set: tensor(0.8229, device='cuda:0')\n",
            "Accuracy of validation set : tensor(0.8750, device='cuda:0')\n",
            "Iteration no: 90 loss = 117.77178955078125\n",
            "Accuracy of train set: tensor(0.8095, device='cuda:0')\n",
            "Epoch    91: reducing learning rate of group 0 to 2.0000e-12.\n",
            "Accuracy of validation set : tensor(0.8580, device='cuda:0')\n",
            "Iteration no: 91 loss = 115.5486068725586\n",
            "Accuracy of train set: tensor(0.8059, device='cuda:0')\n",
            "Accuracy of validation set : tensor(0.8693, device='cuda:0')\n",
            "Iteration no: 92 loss = 115.78443908691406\n",
            "Accuracy of train set: tensor(0.8050, device='cuda:0')\n",
            "Accuracy of validation set : tensor(0.8807, device='cuda:0')\n",
            "Iteration no: 93 loss = 117.16863250732422\n",
            "Accuracy of train set: tensor(0.8115, device='cuda:0')\n",
            "Accuracy of validation set : tensor(0.8750, device='cuda:0')\n",
            "Iteration no: 94 loss = 116.65495300292969\n",
            "Accuracy of train set: tensor(0.8110, device='cuda:0')\n",
            "Accuracy of validation set : tensor(0.8523, device='cuda:0')\n",
            "Iteration no: 95 loss = 124.55784606933594\n",
            "Accuracy of train set: tensor(0.8032, device='cuda:0')\n",
            "Epoch    96: reducing learning rate of group 0 to 2.0000e-13.\n",
            "Accuracy of validation set : tensor(0.8750, device='cuda:0')\n",
            "Iteration no: 96 loss = 117.88650512695312\n",
            "Accuracy of train set: tensor(0.8077, device='cuda:0')\n",
            "Accuracy of validation set : tensor(0.8636, device='cuda:0')\n",
            "Iteration no: 97 loss = 115.89976501464844\n",
            "Accuracy of train set: tensor(0.8142, device='cuda:0')\n",
            "Accuracy of validation set : tensor(0.8409, device='cuda:0')\n",
            "Iteration no: 98 loss = 118.5750732421875\n",
            "Accuracy of train set: tensor(0.8142, device='cuda:0')\n",
            "Accuracy of validation set : tensor(0.8864, device='cuda:0')\n",
            "Iteration no: 99 loss = 124.45054626464844\n",
            "Accuracy of train set: tensor(0.8000, device='cuda:0')\n",
            "Accuracy of validation set : tensor(0.8523, device='cuda:0')\n",
            "Iteration no: 100 loss = 123.0367660522461\n",
            "Accuracy of train set: tensor(0.8008, device='cuda:0')\n",
            "Epoch   101: reducing learning rate of group 0 to 2.0000e-14.\n",
            "Accuracy of validation set : tensor(0.8693, device='cuda:0')\n",
            "Iteration no: 101 loss = 124.13565826416016\n",
            "Accuracy of train set: tensor(0.8014, device='cuda:0')\n",
            "Accuracy of validation set : tensor(0.8693, device='cuda:0')\n",
            "Iteration no: 102 loss = 117.97474670410156\n",
            "Accuracy of train set: tensor(0.8033, device='cuda:0')\n",
            "Accuracy of validation set : tensor(0.8693, device='cuda:0')\n",
            "Iteration no: 103 loss = 118.42776489257812\n",
            "Accuracy of train set: tensor(0.8083, device='cuda:0')\n",
            "Accuracy of validation set : tensor(0.8352, device='cuda:0')\n",
            "Iteration no: 104 loss = 114.67924499511719\n",
            "Accuracy of train set: tensor(0.8214, device='cuda:0')\n",
            "Accuracy of validation set : tensor(0.8295, device='cuda:0')\n",
            "Iteration no: 105 loss = 115.13621520996094\n",
            "Accuracy of train set: tensor(0.8098, device='cuda:0')\n",
            "Accuracy of validation set : tensor(0.8750, device='cuda:0')\n",
            "Iteration no: 106 loss = 121.72042083740234\n",
            "Accuracy of train set: tensor(0.8071, device='cuda:0')\n",
            "Accuracy of validation set : tensor(0.8807, device='cuda:0')\n",
            "Iteration no: 107 loss = 119.7805404663086\n",
            "Accuracy of train set: tensor(0.8110, device='cuda:0')\n",
            "Accuracy of validation set : tensor(0.8920, device='cuda:0')\n",
            "Iteration no: 108 loss = 122.454345703125\n",
            "Accuracy of train set: tensor(0.7949, device='cuda:0')\n",
            "Accuracy of validation set : tensor(0.8409, device='cuda:0')\n",
            "Iteration no: 109 loss = 122.60136413574219\n",
            "Accuracy of train set: tensor(0.7940, device='cuda:0')\n",
            "Accuracy of validation set : tensor(0.8295, device='cuda:0')\n",
            "Iteration no: 110 loss = 118.61609649658203\n",
            "Accuracy of train set: tensor(0.8131, device='cuda:0')\n",
            "Accuracy of validation set : tensor(0.8693, device='cuda:0')\n",
            "Iteration no: 111 loss = 117.16043853759766\n",
            "Accuracy of train set: tensor(0.8182, device='cuda:0')\n",
            "Accuracy of validation set : tensor(0.8352, device='cuda:0')\n",
            "Iteration no: 112 loss = 118.32620239257812\n",
            "Accuracy of train set: tensor(0.8017, device='cuda:0')\n",
            "Accuracy of validation set : tensor(0.8750, device='cuda:0')\n",
            "Iteration no: 113 loss = 121.96224975585938\n",
            "Accuracy of train set: tensor(0.8074, device='cuda:0')\n",
            "Accuracy of validation set : tensor(0.8466, device='cuda:0')\n",
            "Iteration no: 114 loss = 126.71439361572266\n",
            "Accuracy of train set: tensor(0.7996, device='cuda:0')\n",
            "Accuracy of validation set : tensor(0.8352, device='cuda:0')\n",
            "Iteration no: 115 loss = 122.6258316040039\n",
            "Accuracy of train set: tensor(0.7966, device='cuda:0')\n",
            "Accuracy of validation set : tensor(0.8636, device='cuda:0')\n",
            "Iteration no: 116 loss = 125.77079772949219\n",
            "Accuracy of train set: tensor(0.8017, device='cuda:0')\n",
            "Accuracy of validation set : tensor(0.8693, device='cuda:0')\n",
            "Iteration no: 117 loss = 117.55077362060547\n",
            "Accuracy of train set: tensor(0.8077, device='cuda:0')\n",
            "Accuracy of validation set : tensor(0.8352, device='cuda:0')\n",
            "Iteration no: 118 loss = 120.30011749267578\n",
            "Accuracy of train set: tensor(0.8064, device='cuda:0')\n",
            "Accuracy of validation set : tensor(0.8750, device='cuda:0')\n",
            "Iteration no: 119 loss = 114.4437026977539\n",
            "Accuracy of train set: tensor(0.8151, device='cuda:0')\n",
            "Accuracy of validation set : tensor(0.8750, device='cuda:0')\n"
          ],
          "name": "stdout"
        },
        {
          "output_type": "display_data",
          "data": {
            "image/png": "[encoded data removed]",
            "text/plain": [
              "<Figure size 432x288 with 1 Axes>"
            ]
          },
          "metadata": {
            "tags": [],
            "needs_background": "light"
          }
        }
      ]
    },
    {
      "cell_type": "code",
      "metadata": {
        "id": "YiT0bOYYlOhp",
        "colab_type": "code",
        "colab": {}
      },
      "source": [
        "torch.save(model, 'drive/My Drive/Colab Notebooks/ITSP/gest_full_vgg19_bn.pth')"
      ],
      "execution_count": 20,
      "outputs": []
    },
    {
      "cell_type": "code",
      "metadata": {
        "id": "ZF7qlKo8rYM6",
        "colab_type": "code",
        "colab": {}
      },
      "source": [
        ""
      ],
      "execution_count": null,
      "outputs": []
    }
  ]
}