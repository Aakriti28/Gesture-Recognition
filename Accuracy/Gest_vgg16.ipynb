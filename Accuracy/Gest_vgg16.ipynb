{
  "nbformat": 4,
  "nbformat_minor": 0,
  "metadata": {
    "kernelspec": {
      "display_name": "Python 3",
      "language": "python",
      "name": "python3"
    },
    "language_info": {
      "codemirror_mode": {
        "name": "ipython",
        "version": 3
      },
      "file_extension": ".py",
      "mimetype": "text/x-python",
      "name": "python",
      "nbconvert_exporter": "python",
      "pygments_lexer": "ipython3",
      "version": "3.7.6"
    },
    "colab": {
      "name": "New_Cnn.ipynb",
      "provenance": [],
      "collapsed_sections": []
    },
    "accelerator": "GPU",
    "widgets": {
      "application/vnd.jupyter.widget-state+json": {
        "c413d91b4c0149b6963dbe8dcfe2fe69": {
          "model_module": "@jupyter-widgets/controls",
          "model_name": "HBoxModel",
          "state": {
            "_view_name": "HBoxView",
            "_dom_classes": [],
            "_model_name": "HBoxModel",
            "_view_module": "@jupyter-widgets/controls",
            "_model_module_version": "1.5.0",
            "_view_count": null,
            "_view_module_version": "1.5.0",
            "box_style": "",
            "layout": "IPY_MODEL_b835d2d623234ea39e06099aac01febd",
            "_model_module": "@jupyter-widgets/controls",
            "children": [
              "IPY_MODEL_39119639539647d7bbeb65cf51f37086",
              "IPY_MODEL_e33075f8b34b4a53a0d3c5a728d226d7"
            ]
          }
        },
        "b835d2d623234ea39e06099aac01febd": {
          "model_module": "@jupyter-widgets/base",
          "model_name": "LayoutModel",
          "state": {
            "_view_name": "LayoutView",
            "grid_template_rows": null,
            "right": null,
            "justify_content": null,
            "_view_module": "@jupyter-widgets/base",
            "overflow": null,
            "_model_module_version": "1.2.0",
            "_view_count": null,
            "flex_flow": null,
            "width": null,
            "min_width": null,
            "border": null,
            "align_items": null,
            "bottom": null,
            "_model_module": "@jupyter-widgets/base",
            "top": null,
            "grid_column": null,
            "overflow_y": null,
            "overflow_x": null,
            "grid_auto_flow": null,
            "grid_area": null,
            "grid_template_columns": null,
            "flex": null,
            "_model_name": "LayoutModel",
            "justify_items": null,
            "grid_row": null,
            "max_height": null,
            "align_content": null,
            "visibility": null,
            "align_self": null,
            "height": null,
            "min_height": null,
            "padding": null,
            "grid_auto_rows": null,
            "grid_gap": null,
            "max_width": null,
            "order": null,
            "_view_module_version": "1.2.0",
            "grid_template_areas": null,
            "object_position": null,
            "object_fit": null,
            "grid_auto_columns": null,
            "margin": null,
            "display": null,
            "left": null
          }
        },
        "39119639539647d7bbeb65cf51f37086": {
          "model_module": "@jupyter-widgets/controls",
          "model_name": "FloatProgressModel",
          "state": {
            "_view_name": "ProgressView",
            "style": "IPY_MODEL_77ab4345ea574080844563096837175f",
            "_dom_classes": [],
            "description": "100%",
            "_model_name": "FloatProgressModel",
            "bar_style": "success",
            "max": 553433881,
            "_view_module": "@jupyter-widgets/controls",
            "_model_module_version": "1.5.0",
            "value": 553433881,
            "_view_count": null,
            "_view_module_version": "1.5.0",
            "orientation": "horizontal",
            "min": 0,
            "description_tooltip": null,
            "_model_module": "@jupyter-widgets/controls",
            "layout": "IPY_MODEL_d050c55bd66b47c994082ef503b84263"
          }
        },
        "e33075f8b34b4a53a0d3c5a728d226d7": {
          "model_module": "@jupyter-widgets/controls",
          "model_name": "HTMLModel",
          "state": {
            "_view_name": "HTMLView",
            "style": "IPY_MODEL_25fa8d5266124f4d940fe3b26f808b34",
            "_dom_classes": [],
            "description": "",
            "_model_name": "HTMLModel",
            "placeholder": "​",
            "_view_module": "@jupyter-widgets/controls",
            "_model_module_version": "1.5.0",
            "value": " 528M/528M [00:07&lt;00:00, 78.8MB/s]",
            "_view_count": null,
            "_view_module_version": "1.5.0",
            "description_tooltip": null,
            "_model_module": "@jupyter-widgets/controls",
            "layout": "IPY_MODEL_36ad9e47974f44388c150ccecdfcb979"
          }
        },
        "77ab4345ea574080844563096837175f": {
          "model_module": "@jupyter-widgets/controls",
          "model_name": "ProgressStyleModel",
          "state": {
            "_view_name": "StyleView",
            "_model_name": "ProgressStyleModel",
            "description_width": "initial",
            "_view_module": "@jupyter-widgets/base",
            "_model_module_version": "1.5.0",
            "_view_count": null,
            "_view_module_version": "1.2.0",
            "bar_color": null,
            "_model_module": "@jupyter-widgets/controls"
          }
        },
        "d050c55bd66b47c994082ef503b84263": {
          "model_module": "@jupyter-widgets/base",
          "model_name": "LayoutModel",
          "state": {
            "_view_name": "LayoutView",
            "grid_template_rows": null,
            "right": null,
            "justify_content": null,
            "_view_module": "@jupyter-widgets/base",
            "overflow": null,
            "_model_module_version": "1.2.0",
            "_view_count": null,
            "flex_flow": null,
            "width": null,
            "min_width": null,
            "border": null,
            "align_items": null,
            "bottom": null,
            "_model_module": "@jupyter-widgets/base",
            "top": null,
            "grid_column": null,
            "overflow_y": null,
            "overflow_x": null,
            "grid_auto_flow": null,
            "grid_area": null,
            "grid_template_columns": null,
            "flex": null,
            "_model_name": "LayoutModel",
            "justify_items": null,
            "grid_row": null,
            "max_height": null,
            "align_content": null,
            "visibility": null,
            "align_self": null,
            "height": null,
            "min_height": null,
            "padding": null,
            "grid_auto_rows": null,
            "grid_gap": null,
            "max_width": null,
            "order": null,
            "_view_module_version": "1.2.0",
            "grid_template_areas": null,
            "object_position": null,
            "object_fit": null,
            "grid_auto_columns": null,
            "margin": null,
            "display": null,
            "left": null
          }
        },
        "25fa8d5266124f4d940fe3b26f808b34": {
          "model_module": "@jupyter-widgets/controls",
          "model_name": "DescriptionStyleModel",
          "state": {
            "_view_name": "StyleView",
            "_model_name": "DescriptionStyleModel",
            "description_width": "",
            "_view_module": "@jupyter-widgets/base",
            "_model_module_version": "1.5.0",
            "_view_count": null,
            "_view_module_version": "1.2.0",
            "_model_module": "@jupyter-widgets/controls"
          }
        },
        "36ad9e47974f44388c150ccecdfcb979": {
          "model_module": "@jupyter-widgets/base",
          "model_name": "LayoutModel",
          "state": {
            "_view_name": "LayoutView",
            "grid_template_rows": null,
            "right": null,
            "justify_content": null,
            "_view_module": "@jupyter-widgets/base",
            "overflow": null,
            "_model_module_version": "1.2.0",
            "_view_count": null,
            "flex_flow": null,
            "width": null,
            "min_width": null,
            "border": null,
            "align_items": null,
            "bottom": null,
            "_model_module": "@jupyter-widgets/base",
            "top": null,
            "grid_column": null,
            "overflow_y": null,
            "overflow_x": null,
            "grid_auto_flow": null,
            "grid_area": null,
            "grid_template_columns": null,
            "flex": null,
            "_model_name": "LayoutModel",
            "justify_items": null,
            "grid_row": null,
            "max_height": null,
            "align_content": null,
            "visibility": null,
            "align_self": null,
            "height": null,
            "min_height": null,
            "padding": null,
            "grid_auto_rows": null,
            "grid_gap": null,
            "max_width": null,
            "order": null,
            "_view_module_version": "1.2.0",
            "grid_template_areas": null,
            "object_position": null,
            "object_fit": null,
            "grid_auto_columns": null,
            "margin": null,
            "display": null,
            "left": null
          }
        }
      }
    }
  },
  "cells": [
    {
      "cell_type": "code",
      "metadata": {
        "id": "MHmtfSAGlOg8",
        "colab_type": "code",
        "colab": {}
      },
      "source": [
        "import sys\n",
        "import os\n",
        "import torch\n",
        "import cv2 as cv\n",
        "import numpy as np\n",
        "import torchvision\n",
        "from torch import nn, optim\n",
        "import torch.nn.functional as F\n",
        "import torch.utils.data\n",
        "import torchvision.datasets as dset\n",
        "import torchvision.utils as vutils\n",
        "from torch.utils.data import DataLoader\n",
        "from torch.autograd.variable import Variable\n",
        "from torchvision import transforms, datasets\n",
        "import matplotlib.pyplot as plt\n",
        "import random\n",
        "from torch.utils.data.sampler import SubsetRandomSampler\n",
        "from skimage.io import imread, imshow\n",
        "from skimage.transform import resize\n",
        "from skimage.feature import hog\n",
        "from skimage import exposure\n"
      ],
      "execution_count": 0,
      "outputs": []
    },
    {
      "cell_type": "code",
      "metadata": {
        "id": "LNQycbAQl5YO",
        "colab_type": "code",
        "outputId": "159ca6e3-606f-4011-fba9-e8776d5bfce5",
        "colab": {
          "base_uri": "https://localhost:8080/",
          "height": 121
        }
      },
      "source": [
        "from google.colab import drive\n",
        "drive.mount('/content/drive')"
      ],
      "execution_count": 2,
      "outputs": [
        {
          "output_type": "stream",
          "text": [
            "Go to this URL in a browser: https://accounts.google.com/o/oauth2/auth?client_id=947318989803-6bn6qk8qdgf4n4g3pfee6491hc0brc4i.apps.googleusercontent.com&redirect_uri=urn%3aietf%3awg%3aoauth%3a2.0%3aoob&response_type=code&scope=email%20https%3a%2f%2fwww.googleapis.com%2fauth%2fdocs.test%20https%3a%2f%2fwww.googleapis.com%2fauth%2fdrive%20https%3a%2f%2fwww.googleapis.com%2fauth%2fdrive.photos.readonly%20https%3a%2f%2fwww.googleapis.com%2fauth%2fpeopleapi.readonly\n",
            "\n",
            "Enter your authorization code:\n",
            "··········\n",
            "Mounted at /content/drive\n"
          ],
          "name": "stdout"
        }
      ]
    },
    {
      "cell_type": "code",
      "metadata": {
        "id": "ci8JUQWulOhB",
        "colab_type": "code",
        "outputId": "c1f79641-5008-4e9c-c2de-ee2516911ac8",
        "colab": {
          "base_uri": "https://localhost:8080/",
          "height": 101
        }
      },
      "source": [
        "#Using GPU\n",
        "print(sys.version)\n",
        "device = 'cuda'\n",
        "#Checking for GPU\n",
        "print(torch.version.cuda)\n",
        "print(torch.cuda.device_count())\n",
        "print(torch.cuda.is_available())"
      ],
      "execution_count": 3,
      "outputs": [
        {
          "output_type": "stream",
          "text": [
            "3.6.9 (default, Apr 18 2020, 01:56:04) \n",
            "[GCC 8.4.0]\n",
            "10.1\n",
            "1\n",
            "True\n"
          ],
          "name": "stdout"
        }
      ]
    },
    {
      "cell_type": "code",
      "metadata": {
        "id": "cV-uM0FAlOhE",
        "colab_type": "code",
        "outputId": "8df69211-a77e-4970-f17b-b28d21c37fab",
        "colab": {
          "base_uri": "https://localhost:8080/",
          "height": 50
        }
      },
      "source": [
        "lookup = dict()\n",
        "reverselookup = dict()\n",
        "\n",
        "count = 0\n",
        "\n",
        "for j in os.listdir('drive/My Drive/Colab Notebooks/ITSP/mydata/'):\n",
        "    if not j.startswith('.'):\n",
        "        lookup[j] = count\n",
        "        reverselookup[count] = j\n",
        "        count += 1\n",
        "        \n",
        "print(lookup)\n",
        "print(reverselookup)"
      ],
      "execution_count": 4,
      "outputs": [
        {
          "output_type": "stream",
          "text": [
            "{'3': 0, '6': 1, '4': 2, '2': 3, '1': 4, '7': 5, '5': 6, '8': 7, '0': 8, '9': 9}\n",
            "{0: '3', 1: '6', 2: '4', 3: '2', 4: '1', 5: '7', 6: '5', 7: '8', 8: '0', 9: '9'}\n"
          ],
          "name": "stdout"
        }
      ]
    },
    {
      "cell_type": "code",
      "metadata": {
        "id": "hr7Fpf9ClOhH",
        "colab_type": "code",
        "outputId": "d2df2644-4e13-4d38-9e99-a44fc78052a8",
        "colab": {
          "base_uri": "https://localhost:8080/",
          "height": 319
        }
      },
      "source": [
        "x_data = []\n",
        "y_data = []\n",
        "datacount = 0\n",
        "image_size = 256\n",
        "\n",
        "dataset = dset.ImageFolder(root = 'drive/My Drive/Colab Notebooks/ITSP/mydata', \n",
        "                transform = \n",
        "                transforms.Compose([\n",
        "                transforms.Resize(image_size),\n",
        "                transforms.RandomResizedCrop(size=256, scale=(0.92, 1.0)),\n",
        "                transforms.RandomRotation(degrees=10),\n",
        "                transforms.ColorJitter(),\n",
        "                transforms.RandomHorizontalFlip(0.3),\n",
        "                transforms.Resize(size=224),  # Image net standards\n",
        "                transforms.ToTensor(),\n",
        "                transforms.Normalize([0.485, 0.456, 0.406],\n",
        "                                     [0.229, 0.224, 0.225])  # Imagenet standards\n",
        "                #transforms.ToTensor(), \n",
        "                #transforms.Normalize((0.5, 0.5, 0.5), (0.5, 0.5, 0.5))\n",
        "                ]))\n",
        "\n",
        "print(dataset)\n",
        "\n",
        "batch = 16\n",
        "random_seed = random.randint(1, 100)\n",
        "\n",
        "dataset_size = len(dataset)\n",
        "split = int(0.1*dataset_size)\n",
        "print('Size of dataset is: ', dataset_size)\n",
        "print('Split value: ', split)\n",
        "indices = list(range(dataset_size))\n",
        "\n",
        "np.random.seed(random_seed)\n",
        "np.random.shuffle(indices)\n",
        "\n",
        "train_indices, val_indices = indices[split:], indices[:split]\n",
        "\n",
        "# Creating PT data samplers and loaders:\n",
        "train_sampler = SubsetRandomSampler(train_indices)\n",
        "valid_sampler = SubsetRandomSampler(val_indices)\n",
        "\n",
        "train_loader = torch.utils.data.DataLoader(dataset, batch_size=batch, sampler=train_sampler,\n",
        "                                            num_workers = 2)\n",
        "valid_loader = torch.utils.data.DataLoader(dataset, batch_size=batch, sampler=valid_sampler,\n",
        "                                            num_workers = 2)\n",
        "\n",
        "print(len(train_loader))\n",
        "print(len(valid_loader))\n",
        "\n",
        "\n",
        "#for image, label in train_loader:\n",
        "    #print(label)"
      ],
      "execution_count": 5,
      "outputs": [
        {
          "output_type": "stream",
          "text": [
            "Dataset ImageFolder\n",
            "    Number of datapoints: 3535\n",
            "    Root location: drive/My Drive/Colab Notebooks/ITSP/mydata\n",
            "    StandardTransform\n",
            "Transform: Compose(\n",
            "               Resize(size=256, interpolation=PIL.Image.BILINEAR)\n",
            "               RandomResizedCrop(size=(256, 256), scale=(0.92, 1.0), ratio=(0.75, 1.3333), interpolation=PIL.Image.BILINEAR)\n",
            "               RandomRotation(degrees=(-10, 10), resample=False, expand=False)\n",
            "               ColorJitter(brightness=None, contrast=None, saturation=None, hue=None)\n",
            "               RandomHorizontalFlip(p=0.3)\n",
            "               Resize(size=224, interpolation=PIL.Image.BILINEAR)\n",
            "               ToTensor()\n",
            "               Normalize(mean=[0.485, 0.456, 0.406], std=[0.229, 0.224, 0.225])\n",
            "           )\n",
            "Size of dataset is:  3535\n",
            "Split value:  353\n",
            "199\n",
            "23\n"
          ],
          "name": "stdout"
        }
      ]
    },
    {
      "cell_type": "code",
      "metadata": {
        "id": "TrB04PSAlOhK",
        "colab_type": "code",
        "outputId": "a6d3ab4a-463b-4cd9-fde6-047af1dd012a",
        "colab": {
          "base_uri": "https://localhost:8080/",
          "height": 34
        }
      },
      "source": [
        "# Iterate through the dataloader once\n",
        "trainiter = iter(train_loader)\n",
        "features, labels = next(trainiter)\n",
        "features.shape, labels.shape"
      ],
      "execution_count": 6,
      "outputs": [
        {
          "output_type": "execute_result",
          "data": {
            "text/plain": [
              "(torch.Size([16, 3, 224, 224]), torch.Size([16]))"
            ]
          },
          "metadata": {
            "tags": []
          },
          "execution_count": 6
        }
      ]
    },
    {
      "cell_type": "code",
      "metadata": {
        "id": "x6Fr4KYYlOhN",
        "colab_type": "code",
        "outputId": "6e7225dc-a104-4f02-f35f-078d2e2e95af",
        "colab": {
          "base_uri": "https://localhost:8080/",
          "height": 336
        }
      },
      "source": [
        "def get_image_shape():\n",
        "    img = cv.imread('drive/My Drive/Colab Notebooks/ITSP/mydata/1/1.jpg', 0)\n",
        "    return img.shape\n",
        "\n",
        "\n",
        "img_shape = get_image_shape()\n",
        "print('Image shape: ', img_shape)\n",
        "root = 'drive/My Drive/Colab Notebooks/ITSP/mydata'\n",
        "gesture_data = os.listdir(root)\n",
        "num_g = len(gesture_data)\n",
        "print('Number of gestures: ', num_g)\n",
        "num_rows = int(num_g/4)\n",
        "\n",
        "if(num_g%4):\n",
        "   num_rows+=1\n",
        "\n",
        "print('Number of rows: ', num_rows)\n",
        "\n",
        "begin = 0\n",
        "final_img = None\n",
        "\n",
        "for i in range(num_rows):\n",
        "    row_img = None\n",
        "    for j in range(begin, begin+4):\n",
        "        if (j>= num_g):\n",
        "            img = np.zeros(img_shape, dtype = np.uint8)\n",
        "            #print('Image index: ', j, 'false')\n",
        "            \n",
        "        else:         \n",
        "            imgpath = root + '/' + reverselookup[j] + '/' + str(random.randint(1, 200)) + '.jpg'\n",
        "            img = cv.imread(imgpath, 0)\n",
        "            #if not np.any(img == None):\n",
        "                #print('Image index: ', j, 'true')\n",
        "            \n",
        "        if np.any(row_img == None):\n",
        "            row_img = img\n",
        "        else:\n",
        "            row_img = np.hstack((row_img, img))\n",
        "            \n",
        "    begin += 4\n",
        "    if np.any(final_img == None):\n",
        "            final_img = row_img\n",
        "    else:\n",
        "        final_img = np.vstack((final_img, row_img))  \n",
        "                        \n",
        "plt.imshow(final_img, cmap='gray')\n",
        "#cv.waitKey(0)\n",
        "#cv.destroyAllWindows()        "
      ],
      "execution_count": 7,
      "outputs": [
        {
          "output_type": "stream",
          "text": [
            "Image shape:  (256, 256)\n",
            "Number of gestures:  10\n",
            "Number of rows:  3\n"
          ],
          "name": "stdout"
        },
        {
          "output_type": "execute_result",
          "data": {
            "text/plain": [
              "<matplotlib.image.AxesImage at 0x7fcc10200400>"
            ]
          },
          "metadata": {
            "tags": []
          },
          "execution_count": 7
        },
        {
          "output_type": "display_data",
          "data": {
            "image/png": "[encoded data removed]",
            "text/plain": [
              "<Figure size 432x288 with 1 Axes>"
            ]
          },
          "metadata": {
            "tags": [],
            "needs_background": "light"
          }
        }
      ]
    },
    {
      "cell_type": "code",
      "metadata": {
        "id": "10-e-DTXlOhQ",
        "colab_type": "code",
        "outputId": "3994a32b-643e-4c3d-a40c-ecb09583caec",
        "colab": {
          "base_uri": "https://localhost:8080/",
          "height": 264
        }
      },
      "source": [
        "gestures = []\n",
        "titles = []\n",
        "\n",
        "for i in range(num_g):\n",
        "    imgpath = root + '/' + reverselookup[i] + '/' + str(random.randint(1, 200)) + '.jpg'\n",
        "    img = cv.imread(imgpath, 0)\n",
        "    gestures.append(img)\n",
        "    titles.append(reverselookup[i])\n",
        "    \n",
        "for i in range(num_g):\n",
        "    plt.subplot(3, 4, i+1)\n",
        "    plt.imshow(gestures[i], cmap='gray')\n",
        "    plt.title(titles[i])\n",
        "    plt.axis('off')"
      ],
      "execution_count": 8,
      "outputs": [
        {
          "output_type": "display_data",
          "data": {
            "image/png": "[encoded data removed]",
            "text/plain": [
              "<Figure size 432x288 with 10 Axes>"
            ]
          },
          "metadata": {
            "tags": [],
            "needs_background": "light"
          }
        }
      ]
    },
    {
      "cell_type": "code",
      "metadata": {
        "id": "KzO_7weRlOhT",
        "colab_type": "code",
        "colab": {
          "base_uri": "https://localhost:8080/",
          "height": 82,
          "referenced_widgets": [
            "c413d91b4c0149b6963dbe8dcfe2fe69",
            "b835d2d623234ea39e06099aac01febd",
            "39119639539647d7bbeb65cf51f37086",
            "e33075f8b34b4a53a0d3c5a728d226d7",
            "77ab4345ea574080844563096837175f",
            "d050c55bd66b47c994082ef503b84263",
            "25fa8d5266124f4d940fe3b26f808b34",
            "36ad9e47974f44388c150ccecdfcb979"
          ]
        },
        "outputId": "6bcd04b0-3794-4c8a-ba5c-520492081a09"
      },
      "source": [
        "from torchvision import models\n",
        "model = models.vgg16(pretrained=True)\n",
        "for param in model.parameters():\n",
        "    param.requires_grad = False"
      ],
      "execution_count": 9,
      "outputs": [
        {
          "output_type": "stream",
          "text": [
            "Downloading: \"https://download.pytorch.org/models/vgg16-397923af.pth\" to /root/.cache/torch/checkpoints/vgg16-397923af.pth\n"
          ],
          "name": "stderr"
        },
        {
          "output_type": "display_data",
          "data": {
            "application/vnd.jupyter.widget-view+json": {
              "model_id": "c413d91b4c0149b6963dbe8dcfe2fe69",
              "version_minor": 0,
              "version_major": 2
            },
            "text/plain": [
              "HBox(children=(FloatProgress(value=0.0, max=553433881.0), HTML(value='')))"
            ]
          },
          "metadata": {
            "tags": []
          }
        },
        {
          "output_type": "stream",
          "text": [
            "\n"
          ],
          "name": "stdout"
        }
      ]
    },
    {
      "cell_type": "code",
      "metadata": {
        "id": "aVno7LbllOhW",
        "colab_type": "code",
        "outputId": "4c8c42a0-0eae-408d-ee96-50ec9f8b0c12",
        "colab": {
          "base_uri": "https://localhost:8080/",
          "height": 773
        }
      },
      "source": [
        "torch.save(model, 'drive/My Drive/Colab Notebooks/ITSP/weights.pth')\n",
        "print(model)"
      ],
      "execution_count": 10,
      "outputs": [
        {
          "output_type": "stream",
          "text": [
            "VGG(\n",
            "  (features): Sequential(\n",
            "    (0): Conv2d(3, 64, kernel_size=(3, 3), stride=(1, 1), padding=(1, 1))\n",
            "    (1): ReLU(inplace=True)\n",
            "    (2): Conv2d(64, 64, kernel_size=(3, 3), stride=(1, 1), padding=(1, 1))\n",
            "    (3): ReLU(inplace=True)\n",
            "    (4): MaxPool2d(kernel_size=2, stride=2, padding=0, dilation=1, ceil_mode=False)\n",
            "    (5): Conv2d(64, 128, kernel_size=(3, 3), stride=(1, 1), padding=(1, 1))\n",
            "    (6): ReLU(inplace=True)\n",
            "    (7): Conv2d(128, 128, kernel_size=(3, 3), stride=(1, 1), padding=(1, 1))\n",
            "    (8): ReLU(inplace=True)\n",
            "    (9): MaxPool2d(kernel_size=2, stride=2, padding=0, dilation=1, ceil_mode=False)\n",
            "    (10): Conv2d(128, 256, kernel_size=(3, 3), stride=(1, 1), padding=(1, 1))\n",
            "    (11): ReLU(inplace=True)\n",
            "    (12): Conv2d(256, 256, kernel_size=(3, 3), stride=(1, 1), padding=(1, 1))\n",
            "    (13): ReLU(inplace=True)\n",
            "    (14): Conv2d(256, 256, kernel_size=(3, 3), stride=(1, 1), padding=(1, 1))\n",
            "    (15): ReLU(inplace=True)\n",
            "    (16): MaxPool2d(kernel_size=2, stride=2, padding=0, dilation=1, ceil_mode=False)\n",
            "    (17): Conv2d(256, 512, kernel_size=(3, 3), stride=(1, 1), padding=(1, 1))\n",
            "    (18): ReLU(inplace=True)\n",
            "    (19): Conv2d(512, 512, kernel_size=(3, 3), stride=(1, 1), padding=(1, 1))\n",
            "    (20): ReLU(inplace=True)\n",
            "    (21): Conv2d(512, 512, kernel_size=(3, 3), stride=(1, 1), padding=(1, 1))\n",
            "    (22): ReLU(inplace=True)\n",
            "    (23): MaxPool2d(kernel_size=2, stride=2, padding=0, dilation=1, ceil_mode=False)\n",
            "    (24): Conv2d(512, 512, kernel_size=(3, 3), stride=(1, 1), padding=(1, 1))\n",
            "    (25): ReLU(inplace=True)\n",
            "    (26): Conv2d(512, 512, kernel_size=(3, 3), stride=(1, 1), padding=(1, 1))\n",
            "    (27): ReLU(inplace=True)\n",
            "    (28): Conv2d(512, 512, kernel_size=(3, 3), stride=(1, 1), padding=(1, 1))\n",
            "    (29): ReLU(inplace=True)\n",
            "    (30): MaxPool2d(kernel_size=2, stride=2, padding=0, dilation=1, ceil_mode=False)\n",
            "  )\n",
            "  (avgpool): AdaptiveAvgPool2d(output_size=(7, 7))\n",
            "  (classifier): Sequential(\n",
            "    (0): Linear(in_features=25088, out_features=4096, bias=True)\n",
            "    (1): ReLU(inplace=True)\n",
            "    (2): Dropout(p=0.5, inplace=False)\n",
            "    (3): Linear(in_features=4096, out_features=4096, bias=True)\n",
            "    (4): ReLU(inplace=True)\n",
            "    (5): Dropout(p=0.5, inplace=False)\n",
            "    (6): Linear(in_features=4096, out_features=1000, bias=True)\n",
            "  )\n",
            ")\n"
          ],
          "name": "stdout"
        }
      ]
    },
    {
      "cell_type": "code",
      "metadata": {
        "id": "VB9MoHJDlOhZ",
        "colab_type": "code",
        "outputId": "64f3ab83-387e-47a0-bc0e-84e97d00c222",
        "colab": {
          "base_uri": "https://localhost:8080/",
          "height": 924
        }
      },
      "source": [
        "n_classes = 10\n",
        "\n",
        "model.classifier[6] = nn.Sequential(\n",
        "                      nn.Linear(4096, 256), \n",
        "                      nn.ReLU(), \n",
        "                      nn.Dropout(0.1),\n",
        "                      nn.Linear(256, 128), \n",
        "                      nn.ReLU(), \n",
        "                      nn.Dropout(0.1),\n",
        "                      nn.Linear(128, n_classes),                   \n",
        "                      nn.LogSoftmax(dim=1))\n",
        "\n",
        "print(model)"
      ],
      "execution_count": 11,
      "outputs": [
        {
          "output_type": "stream",
          "text": [
            "VGG(\n",
            "  (features): Sequential(\n",
            "    (0): Conv2d(3, 64, kernel_size=(3, 3), stride=(1, 1), padding=(1, 1))\n",
            "    (1): ReLU(inplace=True)\n",
            "    (2): Conv2d(64, 64, kernel_size=(3, 3), stride=(1, 1), padding=(1, 1))\n",
            "    (3): ReLU(inplace=True)\n",
            "    (4): MaxPool2d(kernel_size=2, stride=2, padding=0, dilation=1, ceil_mode=False)\n",
            "    (5): Conv2d(64, 128, kernel_size=(3, 3), stride=(1, 1), padding=(1, 1))\n",
            "    (6): ReLU(inplace=True)\n",
            "    (7): Conv2d(128, 128, kernel_size=(3, 3), stride=(1, 1), padding=(1, 1))\n",
            "    (8): ReLU(inplace=True)\n",
            "    (9): MaxPool2d(kernel_size=2, stride=2, padding=0, dilation=1, ceil_mode=False)\n",
            "    (10): Conv2d(128, 256, kernel_size=(3, 3), stride=(1, 1), padding=(1, 1))\n",
            "    (11): ReLU(inplace=True)\n",
            "    (12): Conv2d(256, 256, kernel_size=(3, 3), stride=(1, 1), padding=(1, 1))\n",
            "    (13): ReLU(inplace=True)\n",
            "    (14): Conv2d(256, 256, kernel_size=(3, 3), stride=(1, 1), padding=(1, 1))\n",
            "    (15): ReLU(inplace=True)\n",
            "    (16): MaxPool2d(kernel_size=2, stride=2, padding=0, dilation=1, ceil_mode=False)\n",
            "    (17): Conv2d(256, 512, kernel_size=(3, 3), stride=(1, 1), padding=(1, 1))\n",
            "    (18): ReLU(inplace=True)\n",
            "    (19): Conv2d(512, 512, kernel_size=(3, 3), stride=(1, 1), padding=(1, 1))\n",
            "    (20): ReLU(inplace=True)\n",
            "    (21): Conv2d(512, 512, kernel_size=(3, 3), stride=(1, 1), padding=(1, 1))\n",
            "    (22): ReLU(inplace=True)\n",
            "    (23): MaxPool2d(kernel_size=2, stride=2, padding=0, dilation=1, ceil_mode=False)\n",
            "    (24): Conv2d(512, 512, kernel_size=(3, 3), stride=(1, 1), padding=(1, 1))\n",
            "    (25): ReLU(inplace=True)\n",
            "    (26): Conv2d(512, 512, kernel_size=(3, 3), stride=(1, 1), padding=(1, 1))\n",
            "    (27): ReLU(inplace=True)\n",
            "    (28): Conv2d(512, 512, kernel_size=(3, 3), stride=(1, 1), padding=(1, 1))\n",
            "    (29): ReLU(inplace=True)\n",
            "    (30): MaxPool2d(kernel_size=2, stride=2, padding=0, dilation=1, ceil_mode=False)\n",
            "  )\n",
            "  (avgpool): AdaptiveAvgPool2d(output_size=(7, 7))\n",
            "  (classifier): Sequential(\n",
            "    (0): Linear(in_features=25088, out_features=4096, bias=True)\n",
            "    (1): ReLU(inplace=True)\n",
            "    (2): Dropout(p=0.5, inplace=False)\n",
            "    (3): Linear(in_features=4096, out_features=4096, bias=True)\n",
            "    (4): ReLU(inplace=True)\n",
            "    (5): Dropout(p=0.5, inplace=False)\n",
            "    (6): Sequential(\n",
            "      (0): Linear(in_features=4096, out_features=256, bias=True)\n",
            "      (1): ReLU()\n",
            "      (2): Dropout(p=0.1, inplace=False)\n",
            "      (3): Linear(in_features=256, out_features=128, bias=True)\n",
            "      (4): ReLU()\n",
            "      (5): Dropout(p=0.1, inplace=False)\n",
            "      (6): Linear(in_features=128, out_features=10, bias=True)\n",
            "      (7): LogSoftmax()\n",
            "    )\n",
            "  )\n",
            ")\n"
          ],
          "name": "stdout"
        }
      ]
    },
    {
      "cell_type": "code",
      "metadata": {
        "id": "CYTxJ2w_lOhb",
        "colab_type": "code",
        "outputId": "adb71a0b-902d-45c5-dddc-1da72b547143",
        "colab": {
          "base_uri": "https://localhost:8080/",
          "height": 50
        }
      },
      "source": [
        "total_params = sum(p.numel() for p in model.parameters())\n",
        "\n",
        "print(f'{total_params:,} total parameters')\n",
        "\n",
        "total_trainable = sum(p.numel() for p in model.parameters() if p.requires_grad)\n",
        "\n",
        "print(f'{total_trainable:,} trainable parameters.')"
      ],
      "execution_count": 12,
      "outputs": [
        {
          "output_type": "stream",
          "text": [
            "135,343,562 total parameters\n",
            "1,083,018 trainable parameters.\n"
          ],
          "name": "stdout"
        }
      ]
    },
    {
      "cell_type": "code",
      "metadata": {
        "id": "UvYn0mxHlOhe",
        "colab_type": "code",
        "colab": {}
      },
      "source": [
        "# Move to gpu\n",
        "model = model.to('cuda')\n",
        "# Distribute across 2 gpus\n",
        "model = nn.DataParallel(model)\n",
        "\n",
        "loss_func = F.cross_entropy\n",
        "optimizer = optim.Adam(model.parameters(), betas=(0.9, 0.999), lr = 0.002)\n"
      ],
      "execution_count": 0,
      "outputs": []
    },
    {
      "cell_type": "code",
      "metadata": {
        "id": "1Xov_0milOhh",
        "colab_type": "code",
        "colab": {}
      },
      "source": [
        "def accuracy(out, yb):\n",
        "    pred = torch.argmax(out, keepdim= False, dim=1)\n",
        "    return (pred == yb).float().mean() "
      ],
      "execution_count": 0,
      "outputs": []
    },
    {
      "cell_type": "code",
      "metadata": {
        "id": "y4K2vMYllOhk",
        "colab_type": "code",
        "colab": {}
      },
      "source": [
        "def fit(model, epochs, train_loader, valid_loader, opt):\n",
        "    losses = []\n",
        "    \n",
        "    for epoch in range(epochs):\n",
        "        train_loss =0\n",
        "        train_acc =0\n",
        "        model.train()\n",
        "        for xb, yb in train_loader:\n",
        "            xb =xb.to(device)\n",
        "            yb = yb.to(device)\n",
        "            pred = model(xb.float())\n",
        "            pred.to(device)\n",
        "            train_acc += accuracy(pred, yb)\n",
        "            loss = loss_func(pred, yb)\n",
        "            train_loss += loss\n",
        "            #back propogation\n",
        "            loss.backward()\n",
        "            opt.step()\n",
        "            opt.zero_grad()      \n",
        "\n",
        "        losses.append(train_loss)\n",
        "        print(\"Iteration no: \"+ str(epoch), \"loss = \"+str(losses[epoch].item()))\n",
        "        print(\"Accuracy of train set:\", train_acc/len(train_loader))\n",
        "        lr_scheduler.step(train_loss/len(train_loader))\n",
        "        \n",
        "        \n",
        "        model.eval()    \n",
        "        with torch.no_grad():\n",
        "            valid_acc=0\n",
        "            loss_valid = 0\n",
        "            for xb_valid, yb_valid in valid_loader:\n",
        "                xb_valid = xb_valid.to(device)\n",
        "                yb_valid = yb_valid.to(device)\n",
        "                pred_valid = model(xb_valid.float())\n",
        "                pred_valid.to(device)\n",
        "                valid_acc += accuracy(pred_valid, yb_valid)\n",
        "                loss_valid += loss_func(pred_valid, yb_valid)\n",
        "            print(\"Accuracy of validation set :\", valid_acc/len(valid_loader))\n",
        "\n",
        "    plt.plot(losses)\n",
        "    plt.ylabel(\"loss\")\n",
        "    plt.xlabel(\"iterations\")\n",
        "    plt.show()"
      ],
      "execution_count": 0,
      "outputs": []
    },
    {
      "cell_type": "code",
      "metadata": {
        "id": "FRhPBGl2lOhm",
        "colab_type": "code",
        "outputId": "0ab24eed-6ae3-4603-a8e4-3eaab0b208f8",
        "colab": {
          "base_uri": "https://localhost:8080/",
          "height": 1000
        }
      },
      "source": [
        "lr_scheduler = torch.optim.lr_scheduler.ReduceLROnPlateau(optimizer, patience=4, verbose=True, eps = 10e-12)\n",
        "\n",
        "fit(model, 120, train_loader, valid_loader, optimizer)"
      ],
      "execution_count": 16,
      "outputs": [
        {
          "output_type": "stream",
          "text": [
            "Iteration no: 0 loss = 232.491455078125\n",
            "Accuracy of train set: tensor(0.5594, device='cuda:0')\n",
            "Accuracy of validation set : tensor(0.7174, device='cuda:0')\n",
            "Iteration no: 1 loss = 165.4134521484375\n",
            "Accuracy of train set: tensor(0.6950, device='cuda:0')\n",
            "Accuracy of validation set : tensor(0.8016, device='cuda:0')\n",
            "Iteration no: 2 loss = 150.6724853515625\n",
            "Accuracy of train set: tensor(0.7235, device='cuda:0')\n",
            "Accuracy of validation set : tensor(0.8397, device='cuda:0')\n",
            "Iteration no: 3 loss = 137.84344482421875\n",
            "Accuracy of train set: tensor(0.7457, device='cuda:0')\n",
            "Accuracy of validation set : tensor(0.7962, device='cuda:0')\n",
            "Iteration no: 4 loss = 138.62242126464844\n",
            "Accuracy of train set: tensor(0.7504, device='cuda:0')\n",
            "Accuracy of validation set : tensor(0.8560, device='cuda:0')\n",
            "Iteration no: 5 loss = 140.0377655029297\n",
            "Accuracy of train set: tensor(0.7542, device='cuda:0')\n",
            "Accuracy of validation set : tensor(0.8424, device='cuda:0')\n",
            "Iteration no: 6 loss = 134.140625\n",
            "Accuracy of train set: tensor(0.7547, device='cuda:0')\n",
            "Accuracy of validation set : tensor(0.8641, device='cuda:0')\n",
            "Iteration no: 7 loss = 133.29391479492188\n",
            "Accuracy of train set: tensor(0.7608, device='cuda:0')\n",
            "Accuracy of validation set : tensor(0.8125, device='cuda:0')\n",
            "Iteration no: 8 loss = 133.08863830566406\n",
            "Accuracy of train set: tensor(0.7555, device='cuda:0')\n",
            "Accuracy of validation set : tensor(0.9158, device='cuda:0')\n",
            "Iteration no: 9 loss = 127.9740982055664\n",
            "Accuracy of train set: tensor(0.7723, device='cuda:0')\n",
            "Accuracy of validation set : tensor(0.8071, device='cuda:0')\n",
            "Iteration no: 10 loss = 128.48976135253906\n",
            "Accuracy of train set: tensor(0.7661, device='cuda:0')\n",
            "Accuracy of validation set : tensor(0.8913, device='cuda:0')\n",
            "Iteration no: 11 loss = 122.95489501953125\n",
            "Accuracy of train set: tensor(0.7731, device='cuda:0')\n",
            "Accuracy of validation set : tensor(0.9185, device='cuda:0')\n",
            "Iteration no: 12 loss = 126.57794189453125\n",
            "Accuracy of train set: tensor(0.7660, device='cuda:0')\n",
            "Accuracy of validation set : tensor(0.8995, device='cuda:0')\n",
            "Iteration no: 13 loss = 117.99909973144531\n",
            "Accuracy of train set: tensor(0.7946, device='cuda:0')\n",
            "Accuracy of validation set : tensor(0.8641, device='cuda:0')\n",
            "Iteration no: 14 loss = 122.4372787475586\n",
            "Accuracy of train set: tensor(0.7788, device='cuda:0')\n",
            "Accuracy of validation set : tensor(0.8967, device='cuda:0')\n",
            "Iteration no: 15 loss = 120.03976440429688\n",
            "Accuracy of train set: tensor(0.7869, device='cuda:0')\n",
            "Accuracy of validation set : tensor(0.8967, device='cuda:0')\n",
            "Iteration no: 16 loss = 119.48075866699219\n",
            "Accuracy of train set: tensor(0.7913, device='cuda:0')\n",
            "Accuracy of validation set : tensor(0.9130, device='cuda:0')\n",
            "Iteration no: 17 loss = 122.61652374267578\n",
            "Accuracy of train set: tensor(0.7866, device='cuda:0')\n",
            "Accuracy of validation set : tensor(0.8859, device='cuda:0')\n",
            "Iteration no: 18 loss = 120.28240966796875\n",
            "Accuracy of train set: tensor(0.7955, device='cuda:0')\n",
            "Epoch    19: reducing learning rate of group 0 to 2.0000e-04.\n",
            "Accuracy of validation set : tensor(0.8315, device='cuda:0')\n",
            "Iteration no: 19 loss = 111.14891052246094\n",
            "Accuracy of train set: tensor(0.7963, device='cuda:0')\n",
            "Accuracy of validation set : tensor(0.8995, device='cuda:0')\n",
            "Iteration no: 20 loss = 106.75334167480469\n",
            "Accuracy of train set: tensor(0.8077, device='cuda:0')\n",
            "Accuracy of validation set : tensor(0.8859, device='cuda:0')\n",
            "Iteration no: 21 loss = 101.75135040283203\n",
            "Accuracy of train set: tensor(0.8169, device='cuda:0')\n",
            "Accuracy of validation set : tensor(0.8832, device='cuda:0')\n",
            "Iteration no: 22 loss = 98.3951416015625\n",
            "Accuracy of train set: tensor(0.8287, device='cuda:0')\n",
            "Accuracy of validation set : tensor(0.9293, device='cuda:0')\n",
            "Iteration no: 23 loss = 104.53974914550781\n",
            "Accuracy of train set: tensor(0.8196, device='cuda:0')\n",
            "Accuracy of validation set : tensor(0.8859, device='cuda:0')\n",
            "Iteration no: 24 loss = 101.25920104980469\n",
            "Accuracy of train set: tensor(0.8261, device='cuda:0')\n",
            "Accuracy of validation set : tensor(0.9076, device='cuda:0')\n",
            "Iteration no: 25 loss = 100.16070556640625\n",
            "Accuracy of train set: tensor(0.8199, device='cuda:0')\n",
            "Accuracy of validation set : tensor(0.9185, device='cuda:0')\n",
            "Iteration no: 26 loss = 101.0059814453125\n",
            "Accuracy of train set: tensor(0.8181, device='cuda:0')\n",
            "Accuracy of validation set : tensor(0.8832, device='cuda:0')\n",
            "Iteration no: 27 loss = 97.05765533447266\n",
            "Accuracy of train set: tensor(0.8322, device='cuda:0')\n",
            "Accuracy of validation set : tensor(0.9239, device='cuda:0')\n",
            "Iteration no: 28 loss = 94.8884048461914\n",
            "Accuracy of train set: tensor(0.8275, device='cuda:0')\n",
            "Accuracy of validation set : tensor(0.9402, device='cuda:0')\n",
            "Iteration no: 29 loss = 99.3587875366211\n",
            "Accuracy of train set: tensor(0.8212, device='cuda:0')\n",
            "Accuracy of validation set : tensor(0.8940, device='cuda:0')\n",
            "Iteration no: 30 loss = 95.72166442871094\n",
            "Accuracy of train set: tensor(0.8326, device='cuda:0')\n",
            "Accuracy of validation set : tensor(0.9239, device='cuda:0')\n",
            "Iteration no: 31 loss = 98.28763580322266\n",
            "Accuracy of train set: tensor(0.8252, device='cuda:0')\n",
            "Accuracy of validation set : tensor(0.9103, device='cuda:0')\n",
            "Iteration no: 32 loss = 95.68828582763672\n",
            "Accuracy of train set: tensor(0.8308, device='cuda:0')\n",
            "Accuracy of validation set : tensor(0.9293, device='cuda:0')\n",
            "Iteration no: 33 loss = 95.6802749633789\n",
            "Accuracy of train set: tensor(0.8324, device='cuda:0')\n",
            "Epoch    34: reducing learning rate of group 0 to 2.0000e-05.\n",
            "Accuracy of validation set : tensor(0.9103, device='cuda:0')\n",
            "Iteration no: 34 loss = 97.83475494384766\n",
            "Accuracy of train set: tensor(0.8243, device='cuda:0')\n",
            "Accuracy of validation set : tensor(0.9022, device='cuda:0')\n",
            "Iteration no: 35 loss = 95.95634460449219\n",
            "Accuracy of train set: tensor(0.8322, device='cuda:0')\n",
            "Accuracy of validation set : tensor(0.9348, device='cuda:0')\n",
            "Iteration no: 36 loss = 90.1241455078125\n",
            "Accuracy of train set: tensor(0.8338, device='cuda:0')\n",
            "Accuracy of validation set : tensor(0.9321, device='cuda:0')\n",
            "Iteration no: 37 loss = 98.154541015625\n",
            "Accuracy of train set: tensor(0.8246, device='cuda:0')\n",
            "Accuracy of validation set : tensor(0.9511, device='cuda:0')\n",
            "Iteration no: 38 loss = 94.5172119140625\n",
            "Accuracy of train set: tensor(0.8341, device='cuda:0')\n",
            "Accuracy of validation set : tensor(0.9375, device='cuda:0')\n",
            "Iteration no: 39 loss = 97.01568603515625\n",
            "Accuracy of train set: tensor(0.8297, device='cuda:0')\n",
            "Accuracy of validation set : tensor(0.9348, device='cuda:0')\n",
            "Iteration no: 40 loss = 96.1822738647461\n",
            "Accuracy of train set: tensor(0.8307, device='cuda:0')\n",
            "Accuracy of validation set : tensor(0.9212, device='cuda:0')\n",
            "Iteration no: 41 loss = 90.80786895751953\n",
            "Accuracy of train set: tensor(0.8357, device='cuda:0')\n",
            "Epoch    42: reducing learning rate of group 0 to 2.0000e-06.\n",
            "Accuracy of validation set : tensor(0.9212, device='cuda:0')\n",
            "Iteration no: 42 loss = 94.50116729736328\n",
            "Accuracy of train set: tensor(0.8393, device='cuda:0')\n",
            "Accuracy of validation set : tensor(0.9239, device='cuda:0')\n",
            "Iteration no: 43 loss = 96.90177917480469\n",
            "Accuracy of train set: tensor(0.8260, device='cuda:0')\n",
            "Accuracy of validation set : tensor(0.9185, device='cuda:0')\n",
            "Iteration no: 44 loss = 97.24187469482422\n",
            "Accuracy of train set: tensor(0.8269, device='cuda:0')\n",
            "Accuracy of validation set : tensor(0.9103, device='cuda:0')\n",
            "Iteration no: 45 loss = 93.637939453125\n",
            "Accuracy of train set: tensor(0.8266, device='cuda:0')\n",
            "Accuracy of validation set : tensor(0.9212, device='cuda:0')\n",
            "Iteration no: 46 loss = 95.42791748046875\n",
            "Accuracy of train set: tensor(0.8249, device='cuda:0')\n",
            "Epoch    47: reducing learning rate of group 0 to 2.0000e-07.\n",
            "Accuracy of validation set : tensor(0.9130, device='cuda:0')\n",
            "Iteration no: 47 loss = 93.76676177978516\n",
            "Accuracy of train set: tensor(0.8335, device='cuda:0')\n",
            "Accuracy of validation set : tensor(0.9212, device='cuda:0')\n",
            "Iteration no: 48 loss = 94.45882415771484\n",
            "Accuracy of train set: tensor(0.8304, device='cuda:0')\n",
            "Accuracy of validation set : tensor(0.9212, device='cuda:0')\n",
            "Iteration no: 49 loss = 94.13336944580078\n",
            "Accuracy of train set: tensor(0.8316, device='cuda:0')\n",
            "Accuracy of validation set : tensor(0.9185, device='cuda:0')\n",
            "Iteration no: 50 loss = 93.50206756591797\n",
            "Accuracy of train set: tensor(0.8444, device='cuda:0')\n",
            "Accuracy of validation set : tensor(0.9158, device='cuda:0')\n",
            "Iteration no: 51 loss = 94.15306091308594\n",
            "Accuracy of train set: tensor(0.8322, device='cuda:0')\n",
            "Epoch    52: reducing learning rate of group 0 to 2.0000e-08.\n",
            "Accuracy of validation set : tensor(0.9239, device='cuda:0')\n",
            "Iteration no: 52 loss = 92.5919189453125\n",
            "Accuracy of train set: tensor(0.8335, device='cuda:0')\n",
            "Accuracy of validation set : tensor(0.9130, device='cuda:0')\n",
            "Iteration no: 53 loss = 97.8602523803711\n",
            "Accuracy of train set: tensor(0.8282, device='cuda:0')\n",
            "Accuracy of validation set : tensor(0.9375, device='cuda:0')\n",
            "Iteration no: 54 loss = 98.36206817626953\n",
            "Accuracy of train set: tensor(0.8214, device='cuda:0')\n",
            "Accuracy of validation set : tensor(0.9212, device='cuda:0')\n",
            "Iteration no: 55 loss = 91.07164001464844\n",
            "Accuracy of train set: tensor(0.8303, device='cuda:0')\n",
            "Accuracy of validation set : tensor(0.9239, device='cuda:0')\n",
            "Iteration no: 56 loss = 98.1269302368164\n",
            "Accuracy of train set: tensor(0.8313, device='cuda:0')\n",
            "Epoch    57: reducing learning rate of group 0 to 2.0000e-09.\n",
            "Accuracy of validation set : tensor(0.9266, device='cuda:0')\n",
            "Iteration no: 57 loss = 95.66358947753906\n",
            "Accuracy of train set: tensor(0.8284, device='cuda:0')\n",
            "Accuracy of validation set : tensor(0.9429, device='cuda:0')\n",
            "Iteration no: 58 loss = 95.37493133544922\n",
            "Accuracy of train set: tensor(0.8313, device='cuda:0')\n",
            "Accuracy of validation set : tensor(0.9402, device='cuda:0')\n",
            "Iteration no: 59 loss = 96.07025146484375\n",
            "Accuracy of train set: tensor(0.8271, device='cuda:0')\n",
            "Accuracy of validation set : tensor(0.9076, device='cuda:0')\n",
            "Iteration no: 60 loss = 93.6474380493164\n",
            "Accuracy of train set: tensor(0.8304, device='cuda:0')\n",
            "Accuracy of validation set : tensor(0.9484, device='cuda:0')\n",
            "Iteration no: 61 loss = 94.80048370361328\n",
            "Accuracy of train set: tensor(0.8325, device='cuda:0')\n",
            "Epoch    62: reducing learning rate of group 0 to 2.0000e-10.\n",
            "Accuracy of validation set : tensor(0.9293, device='cuda:0')\n",
            "Iteration no: 62 loss = 97.14148712158203\n",
            "Accuracy of train set: tensor(0.8199, device='cuda:0')\n",
            "Accuracy of validation set : tensor(0.9239, device='cuda:0')\n",
            "Iteration no: 63 loss = 97.29488372802734\n",
            "Accuracy of train set: tensor(0.8277, device='cuda:0')\n",
            "Accuracy of validation set : tensor(0.9375, device='cuda:0')\n",
            "Iteration no: 64 loss = 92.70233917236328\n",
            "Accuracy of train set: tensor(0.8237, device='cuda:0')\n",
            "Accuracy of validation set : tensor(0.9185, device='cuda:0')\n",
            "Iteration no: 65 loss = 93.46807861328125\n",
            "Accuracy of train set: tensor(0.8291, device='cuda:0')\n",
            "Accuracy of validation set : tensor(0.9375, device='cuda:0')\n",
            "Iteration no: 66 loss = 94.60745239257812\n",
            "Accuracy of train set: tensor(0.8257, device='cuda:0')\n",
            "Epoch    67: reducing learning rate of group 0 to 2.0000e-11.\n",
            "Accuracy of validation set : tensor(0.9130, device='cuda:0')\n",
            "Iteration no: 67 loss = 94.8005142211914\n",
            "Accuracy of train set: tensor(0.8302, device='cuda:0')\n",
            "Accuracy of validation set : tensor(0.8804, device='cuda:0')\n",
            "Iteration no: 68 loss = 97.19768524169922\n",
            "Accuracy of train set: tensor(0.8256, device='cuda:0')\n",
            "Accuracy of validation set : tensor(0.9375, device='cuda:0')\n",
            "Iteration no: 69 loss = 94.25204467773438\n",
            "Accuracy of train set: tensor(0.8287, device='cuda:0')\n",
            "Accuracy of validation set : tensor(0.9049, device='cuda:0')\n",
            "Iteration no: 70 loss = 91.07173919677734\n",
            "Accuracy of train set: tensor(0.8360, device='cuda:0')\n",
            "Accuracy of validation set : tensor(0.9239, device='cuda:0')\n",
            "Iteration no: 71 loss = 97.71356201171875\n",
            "Accuracy of train set: tensor(0.8300, device='cuda:0')\n",
            "Epoch    72: reducing learning rate of group 0 to 2.0000e-12.\n",
            "Accuracy of validation set : tensor(0.9293, device='cuda:0')\n",
            "Iteration no: 72 loss = 92.16570281982422\n",
            "Accuracy of train set: tensor(0.8358, device='cuda:0')\n",
            "Accuracy of validation set : tensor(0.9266, device='cuda:0')\n",
            "Iteration no: 73 loss = 92.5126953125\n",
            "Accuracy of train set: tensor(0.8291, device='cuda:0')\n",
            "Accuracy of validation set : tensor(0.9293, device='cuda:0')\n",
            "Iteration no: 74 loss = 94.99285888671875\n",
            "Accuracy of train set: tensor(0.8306, device='cuda:0')\n",
            "Accuracy of validation set : tensor(0.9130, device='cuda:0')\n",
            "Iteration no: 75 loss = 96.7638168334961\n",
            "Accuracy of train set: tensor(0.8243, device='cuda:0')\n",
            "Accuracy of validation set : tensor(0.9158, device='cuda:0')\n",
            "Iteration no: 76 loss = 92.89592742919922\n",
            "Accuracy of train set: tensor(0.8331, device='cuda:0')\n",
            "Accuracy of validation set : tensor(0.9103, device='cuda:0')\n",
            "Iteration no: 77 loss = 96.65302276611328\n",
            "Accuracy of train set: tensor(0.8227, device='cuda:0')\n",
            "Accuracy of validation set : tensor(0.9321, device='cuda:0')\n",
            "Iteration no: 78 loss = 99.01406860351562\n",
            "Accuracy of train set: tensor(0.8212, device='cuda:0')\n",
            "Accuracy of validation set : tensor(0.8967, device='cuda:0')\n",
            "Iteration no: 79 loss = 95.52322387695312\n",
            "Accuracy of train set: tensor(0.8293, device='cuda:0')\n",
            "Accuracy of validation set : tensor(0.8913, device='cuda:0')\n",
            "Iteration no: 80 loss = 97.8717269897461\n",
            "Accuracy of train set: tensor(0.8281, device='cuda:0')\n",
            "Accuracy of validation set : tensor(0.9212, device='cuda:0')\n",
            "Iteration no: 81 loss = 93.5419921875\n",
            "Accuracy of train set: tensor(0.8361, device='cuda:0')\n",
            "Accuracy of validation set : tensor(0.9158, device='cuda:0')\n",
            "Iteration no: 82 loss = 96.95689392089844\n",
            "Accuracy of train set: tensor(0.8251, device='cuda:0')\n",
            "Accuracy of validation set : tensor(0.9321, device='cuda:0')\n",
            "Iteration no: 83 loss = 98.72428894042969\n",
            "Accuracy of train set: tensor(0.8334, device='cuda:0')\n",
            "Accuracy of validation set : tensor(0.9348, device='cuda:0')\n",
            "Iteration no: 84 loss = 93.44373321533203\n",
            "Accuracy of train set: tensor(0.8326, device='cuda:0')\n",
            "Accuracy of validation set : tensor(0.9293, device='cuda:0')\n",
            "Iteration no: 85 loss = 99.49702453613281\n",
            "Accuracy of train set: tensor(0.8152, device='cuda:0')\n",
            "Accuracy of validation set : tensor(0.9212, device='cuda:0')\n",
            "Iteration no: 86 loss = 97.9476318359375\n",
            "Accuracy of train set: tensor(0.8190, device='cuda:0')\n",
            "Accuracy of validation set : tensor(0.9239, device='cuda:0')\n",
            "Iteration no: 87 loss = 95.9441909790039\n",
            "Accuracy of train set: tensor(0.8209, device='cuda:0')\n",
            "Accuracy of validation set : tensor(0.9321, device='cuda:0')\n",
            "Iteration no: 88 loss = 104.04144287109375\n",
            "Accuracy of train set: tensor(0.8192, device='cuda:0')\n",
            "Accuracy of validation set : tensor(0.9266, device='cuda:0')\n",
            "Iteration no: 89 loss = 94.20426177978516\n",
            "Accuracy of train set: tensor(0.8290, device='cuda:0')\n",
            "Accuracy of validation set : tensor(0.9185, device='cuda:0')\n",
            "Iteration no: 90 loss = 94.50361633300781\n",
            "Accuracy of train set: tensor(0.8283, device='cuda:0')\n",
            "Accuracy of validation set : tensor(0.9484, device='cuda:0')\n",
            "Iteration no: 91 loss = 97.23957061767578\n",
            "Accuracy of train set: tensor(0.8254, device='cuda:0')\n",
            "Accuracy of validation set : tensor(0.9212, device='cuda:0')\n",
            "Iteration no: 92 loss = 94.2126693725586\n",
            "Accuracy of train set: tensor(0.8354, device='cuda:0')\n",
            "Accuracy of validation set : tensor(0.9321, device='cuda:0')\n",
            "Iteration no: 93 loss = 92.51627349853516\n",
            "Accuracy of train set: tensor(0.8268, device='cuda:0')\n",
            "Accuracy of validation set : tensor(0.9185, device='cuda:0')\n",
            "Iteration no: 94 loss = 96.53832244873047\n",
            "Accuracy of train set: tensor(0.8272, device='cuda:0')\n",
            "Accuracy of validation set : tensor(0.9212, device='cuda:0')\n",
            "Iteration no: 95 loss = 94.96143341064453\n",
            "Accuracy of train set: tensor(0.8332, device='cuda:0')\n",
            "Accuracy of validation set : tensor(0.8832, device='cuda:0')\n",
            "Iteration no: 96 loss = 95.32197570800781\n",
            "Accuracy of train set: tensor(0.8288, device='cuda:0')\n",
            "Accuracy of validation set : tensor(0.9321, device='cuda:0')\n",
            "Iteration no: 97 loss = 95.6104965209961\n",
            "Accuracy of train set: tensor(0.8234, device='cuda:0')\n",
            "Accuracy of validation set : tensor(0.9130, device='cuda:0')\n",
            "Iteration no: 98 loss = 95.78356170654297\n",
            "Accuracy of train set: tensor(0.8220, device='cuda:0')\n",
            "Accuracy of validation set : tensor(0.9321, device='cuda:0')\n",
            "Iteration no: 99 loss = 95.92810821533203\n",
            "Accuracy of train set: tensor(0.8275, device='cuda:0')\n",
            "Accuracy of validation set : tensor(0.9348, device='cuda:0')\n",
            "Iteration no: 100 loss = 95.39096069335938\n",
            "Accuracy of train set: tensor(0.8349, device='cuda:0')\n",
            "Accuracy of validation set : tensor(0.9130, device='cuda:0')\n",
            "Iteration no: 101 loss = 92.37393188476562\n",
            "Accuracy of train set: tensor(0.8332, device='cuda:0')\n",
            "Accuracy of validation set : tensor(0.9321, device='cuda:0')\n",
            "Iteration no: 102 loss = 93.4271469116211\n",
            "Accuracy of train set: tensor(0.8307, device='cuda:0')\n",
            "Accuracy of validation set : tensor(0.9321, device='cuda:0')\n",
            "Iteration no: 103 loss = 97.62874603271484\n",
            "Accuracy of train set: tensor(0.8315, device='cuda:0')\n",
            "Accuracy of validation set : tensor(0.9185, device='cuda:0')\n",
            "Iteration no: 104 loss = 96.50189208984375\n",
            "Accuracy of train set: tensor(0.8318, device='cuda:0')\n",
            "Accuracy of validation set : tensor(0.9185, device='cuda:0')\n",
            "Iteration no: 105 loss = 89.6538314819336\n",
            "Accuracy of train set: tensor(0.8347, device='cuda:0')\n",
            "Accuracy of validation set : tensor(0.9266, device='cuda:0')\n",
            "Iteration no: 106 loss = 96.33506774902344\n",
            "Accuracy of train set: tensor(0.8236, device='cuda:0')\n",
            "Accuracy of validation set : tensor(0.9375, device='cuda:0')\n",
            "Iteration no: 107 loss = 89.6395263671875\n",
            "Accuracy of train set: tensor(0.8334, device='cuda:0')\n",
            "Accuracy of validation set : tensor(0.9402, device='cuda:0')\n",
            "Iteration no: 108 loss = 93.89862823486328\n",
            "Accuracy of train set: tensor(0.8282, device='cuda:0')\n",
            "Accuracy of validation set : tensor(0.9103, device='cuda:0')\n",
            "Iteration no: 109 loss = 94.82485961914062\n",
            "Accuracy of train set: tensor(0.8370, device='cuda:0')\n",
            "Accuracy of validation set : tensor(0.9429, device='cuda:0')\n",
            "Iteration no: 110 loss = 95.21186065673828\n",
            "Accuracy of train set: tensor(0.8315, device='cuda:0')\n",
            "Accuracy of validation set : tensor(0.9158, device='cuda:0')\n",
            "Iteration no: 111 loss = 91.10099029541016\n",
            "Accuracy of train set: tensor(0.8341, device='cuda:0')\n",
            "Accuracy of validation set : tensor(0.9348, device='cuda:0')\n",
            "Iteration no: 112 loss = 98.23062133789062\n",
            "Accuracy of train set: tensor(0.8269, device='cuda:0')\n",
            "Accuracy of validation set : tensor(0.9212, device='cuda:0')\n",
            "Iteration no: 113 loss = 96.83644104003906\n",
            "Accuracy of train set: tensor(0.8227, device='cuda:0')\n",
            "Accuracy of validation set : tensor(0.9375, device='cuda:0')\n",
            "Iteration no: 114 loss = 93.92094421386719\n",
            "Accuracy of train set: tensor(0.8296, device='cuda:0')\n",
            "Accuracy of validation set : tensor(0.9293, device='cuda:0')\n",
            "Iteration no: 115 loss = 92.91932678222656\n",
            "Accuracy of train set: tensor(0.8394, device='cuda:0')\n",
            "Accuracy of validation set : tensor(0.8995, device='cuda:0')\n",
            "Iteration no: 116 loss = 95.32320404052734\n",
            "Accuracy of train set: tensor(0.8297, device='cuda:0')\n",
            "Accuracy of validation set : tensor(0.9429, device='cuda:0')\n",
            "Iteration no: 117 loss = 96.79618835449219\n",
            "Accuracy of train set: tensor(0.8247, device='cuda:0')\n",
            "Accuracy of validation set : tensor(0.8804, device='cuda:0')\n",
            "Iteration no: 118 loss = 96.0628433227539\n",
            "Accuracy of train set: tensor(0.8295, device='cuda:0')\n",
            "Accuracy of validation set : tensor(0.8750, device='cuda:0')\n",
            "Iteration no: 119 loss = 88.38448333740234\n",
            "Accuracy of train set: tensor(0.8393, device='cuda:0')\n",
            "Accuracy of validation set : tensor(0.9402, device='cuda:0')\n"
          ],
          "name": "stdout"
        },
        {
          "output_type": "display_data",
          "data": {
            "image/png": "[encoded data removed]",
            "text/plain": [
              "<Figure size 432x288 with 1 Axes>"
            ]
          },
          "metadata": {
            "tags": [],
            "needs_background": "light"
          }
        }
      ]
    },
    {
      "cell_type": "code",
      "metadata": {
        "id": "YiT0bOYYlOhp",
        "colab_type": "code",
        "colab": {}
      },
      "source": [
        "torch.save(model, 'drive/My Drive/Colab Notebooks/ITSP/gest_full7.pth')"
      ],
      "execution_count": 0,
      "outputs": []
    },
    {
      "cell_type": "code",
      "metadata": {
        "id": "ZF7qlKo8rYM6",
        "colab_type": "code",
        "colab": {}
      },
      "source": [
        ""
      ],
      "execution_count": 0,
      "outputs": []
    }
  ]
}