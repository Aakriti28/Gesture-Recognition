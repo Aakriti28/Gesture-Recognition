{
  "nbformat": 4,
  "nbformat_minor": 0,
  "metadata": {
    "kernelspec": {
      "display_name": "Python 3",
      "language": "python",
      "name": "python3"
    },
    "language_info": {
      "codemirror_mode": {
        "name": "ipython",
        "version": 3
      },
      "file_extension": ".py",
      "mimetype": "text/x-python",
      "name": "python",
      "nbconvert_exporter": "python",
      "pygments_lexer": "ipython3",
      "version": "3.7.6"
    },
    "colab": {
      "name": "New_Cnn3.ipynb",
      "provenance": [],
      "collapsed_sections": []
    },
    "accelerator": "GPU",
    "widgets": {
      "application/vnd.jupyter.widget-state+json": {
        "2d1bafa3394d4eddb31adb04008ba87d": {
          "model_module": "@jupyter-widgets/controls",
          "model_name": "HBoxModel",
          "state": {
            "_view_name": "HBoxView",
            "_dom_classes": [],
            "_model_name": "HBoxModel",
            "_view_module": "@jupyter-widgets/controls",
            "_model_module_version": "1.5.0",
            "_view_count": null,
            "_view_module_version": "1.5.0",
            "box_style": "",
            "layout": "IPY_MODEL_18b7591a2f7b44b7bfbf01f463507710",
            "_model_module": "@jupyter-widgets/controls",
            "children": [
              "IPY_MODEL_dc1f6f3326c747cc80b7de49b0267233",
              "IPY_MODEL_522f49a97a6044f583442c706d33bfac"
            ]
          }
        },
        "18b7591a2f7b44b7bfbf01f463507710": {
          "model_module": "@jupyter-widgets/base",
          "model_name": "LayoutModel",
          "state": {
            "_view_name": "LayoutView",
            "grid_template_rows": null,
            "right": null,
            "justify_content": null,
            "_view_module": "@jupyter-widgets/base",
            "overflow": null,
            "_model_module_version": "1.2.0",
            "_view_count": null,
            "flex_flow": null,
            "width": null,
            "min_width": null,
            "border": null,
            "align_items": null,
            "bottom": null,
            "_model_module": "@jupyter-widgets/base",
            "top": null,
            "grid_column": null,
            "overflow_y": null,
            "overflow_x": null,
            "grid_auto_flow": null,
            "grid_area": null,
            "grid_template_columns": null,
            "flex": null,
            "_model_name": "LayoutModel",
            "justify_items": null,
            "grid_row": null,
            "max_height": null,
            "align_content": null,
            "visibility": null,
            "align_self": null,
            "height": null,
            "min_height": null,
            "padding": null,
            "grid_auto_rows": null,
            "grid_gap": null,
            "max_width": null,
            "order": null,
            "_view_module_version": "1.2.0",
            "grid_template_areas": null,
            "object_position": null,
            "object_fit": null,
            "grid_auto_columns": null,
            "margin": null,
            "display": null,
            "left": null
          }
        },
        "dc1f6f3326c747cc80b7de49b0267233": {
          "model_module": "@jupyter-widgets/controls",
          "model_name": "FloatProgressModel",
          "state": {
            "_view_name": "ProgressView",
            "style": "IPY_MODEL_363d41f0ca034fe2aed16602c546b253",
            "_dom_classes": [],
            "description": "100%",
            "_model_name": "FloatProgressModel",
            "bar_style": "success",
            "max": 574673361,
            "_view_module": "@jupyter-widgets/controls",
            "_model_module_version": "1.5.0",
            "value": 574673361,
            "_view_count": null,
            "_view_module_version": "1.5.0",
            "orientation": "horizontal",
            "min": 0,
            "description_tooltip": null,
            "_model_module": "@jupyter-widgets/controls",
            "layout": "IPY_MODEL_2b866719c59e4a8b8a4b0bbe635d5448"
          }
        },
        "522f49a97a6044f583442c706d33bfac": {
          "model_module": "@jupyter-widgets/controls",
          "model_name": "HTMLModel",
          "state": {
            "_view_name": "HTMLView",
            "style": "IPY_MODEL_0c9b105ede2f42079a672f32a58b69a9",
            "_dom_classes": [],
            "description": "",
            "_model_name": "HTMLModel",
            "placeholder": "​",
            "_view_module": "@jupyter-widgets/controls",
            "_model_module_version": "1.5.0",
            "value": " 548M/548M [45:39&lt;00:00, 210kB/s]",
            "_view_count": null,
            "_view_module_version": "1.5.0",
            "description_tooltip": null,
            "_model_module": "@jupyter-widgets/controls",
            "layout": "IPY_MODEL_d792bbfc03bc480784c8887374a3f17c"
          }
        },
        "363d41f0ca034fe2aed16602c546b253": {
          "model_module": "@jupyter-widgets/controls",
          "model_name": "ProgressStyleModel",
          "state": {
            "_view_name": "StyleView",
            "_model_name": "ProgressStyleModel",
            "description_width": "initial",
            "_view_module": "@jupyter-widgets/base",
            "_model_module_version": "1.5.0",
            "_view_count": null,
            "_view_module_version": "1.2.0",
            "bar_color": null,
            "_model_module": "@jupyter-widgets/controls"
          }
        },
        "2b866719c59e4a8b8a4b0bbe635d5448": {
          "model_module": "@jupyter-widgets/base",
          "model_name": "LayoutModel",
          "state": {
            "_view_name": "LayoutView",
            "grid_template_rows": null,
            "right": null,
            "justify_content": null,
            "_view_module": "@jupyter-widgets/base",
            "overflow": null,
            "_model_module_version": "1.2.0",
            "_view_count": null,
            "flex_flow": null,
            "width": null,
            "min_width": null,
            "border": null,
            "align_items": null,
            "bottom": null,
            "_model_module": "@jupyter-widgets/base",
            "top": null,
            "grid_column": null,
            "overflow_y": null,
            "overflow_x": null,
            "grid_auto_flow": null,
            "grid_area": null,
            "grid_template_columns": null,
            "flex": null,
            "_model_name": "LayoutModel",
            "justify_items": null,
            "grid_row": null,
            "max_height": null,
            "align_content": null,
            "visibility": null,
            "align_self": null,
            "height": null,
            "min_height": null,
            "padding": null,
            "grid_auto_rows": null,
            "grid_gap": null,
            "max_width": null,
            "order": null,
            "_view_module_version": "1.2.0",
            "grid_template_areas": null,
            "object_position": null,
            "object_fit": null,
            "grid_auto_columns": null,
            "margin": null,
            "display": null,
            "left": null
          }
        },
        "0c9b105ede2f42079a672f32a58b69a9": {
          "model_module": "@jupyter-widgets/controls",
          "model_name": "DescriptionStyleModel",
          "state": {
            "_view_name": "StyleView",
            "_model_name": "DescriptionStyleModel",
            "description_width": "",
            "_view_module": "@jupyter-widgets/base",
            "_model_module_version": "1.5.0",
            "_view_count": null,
            "_view_module_version": "1.2.0",
            "_model_module": "@jupyter-widgets/controls"
          }
        },
        "d792bbfc03bc480784c8887374a3f17c": {
          "model_module": "@jupyter-widgets/base",
          "model_name": "LayoutModel",
          "state": {
            "_view_name": "LayoutView",
            "grid_template_rows": null,
            "right": null,
            "justify_content": null,
            "_view_module": "@jupyter-widgets/base",
            "overflow": null,
            "_model_module_version": "1.2.0",
            "_view_count": null,
            "flex_flow": null,
            "width": null,
            "min_width": null,
            "border": null,
            "align_items": null,
            "bottom": null,
            "_model_module": "@jupyter-widgets/base",
            "top": null,
            "grid_column": null,
            "overflow_y": null,
            "overflow_x": null,
            "grid_auto_flow": null,
            "grid_area": null,
            "grid_template_columns": null,
            "flex": null,
            "_model_name": "LayoutModel",
            "justify_items": null,
            "grid_row": null,
            "max_height": null,
            "align_content": null,
            "visibility": null,
            "align_self": null,
            "height": null,
            "min_height": null,
            "padding": null,
            "grid_auto_rows": null,
            "grid_gap": null,
            "max_width": null,
            "order": null,
            "_view_module_version": "1.2.0",
            "grid_template_areas": null,
            "object_position": null,
            "object_fit": null,
            "grid_auto_columns": null,
            "margin": null,
            "display": null,
            "left": null
          }
        }
      }
    }
  },
  "cells": [
    {
      "cell_type": "code",
      "metadata": {
        "id": "MHmtfSAGlOg8",
        "colab_type": "code",
        "colab": {}
      },
      "source": [
        "import sys\n",
        "import os\n",
        "import torch\n",
        "import cv2 as cv\n",
        "import numpy as np\n",
        "import torchvision\n",
        "from torch import nn, optim\n",
        "import torch.nn.functional as F\n",
        "import torch.utils.data\n",
        "import torchvision.datasets as dset\n",
        "import torchvision.utils as vutils\n",
        "from torch.utils.data import DataLoader\n",
        "from torch.autograd.variable import Variable\n",
        "from torchvision import transforms, datasets\n",
        "import matplotlib.pyplot as plt\n",
        "import random\n",
        "from torch.utils.data.sampler import SubsetRandomSampler\n",
        "from skimage.io import imread, imshow\n",
        "from skimage.transform import resize\n",
        "from skimage.feature import hog\n",
        "from skimage import exposure\n"
      ],
      "execution_count": 1,
      "outputs": []
    },
    {
      "cell_type": "code",
      "metadata": {
        "id": "LNQycbAQl5YO",
        "colab_type": "code",
        "colab": {
          "base_uri": "https://localhost:8080/",
          "height": 34
        },
        "outputId": "b18c0358-ac7e-4fd5-8250-20835b8ab1de"
      },
      "source": [
        "from google.colab import drive\n",
        "drive.mount('/content/drive')"
      ],
      "execution_count": 2,
      "outputs": [
        {
          "output_type": "stream",
          "text": [
            "Drive already mounted at /content/drive; to attempt to forcibly remount, call drive.mount(\"/content/drive\", force_remount=True).\n"
          ],
          "name": "stdout"
        }
      ]
    },
    {
      "cell_type": "code",
      "metadata": {
        "id": "ci8JUQWulOhB",
        "colab_type": "code",
        "colab": {
          "base_uri": "https://localhost:8080/",
          "height": 101
        },
        "outputId": "07912234-3c37-4c38-d7f2-4d56ef24c7c9"
      },
      "source": [
        "#Using GPU\n",
        "print(sys.version)\n",
        "device = 'cuda'\n",
        "#Checking for GPU\n",
        "print(torch.version.cuda)\n",
        "print(torch.cuda.device_count())\n",
        "print(torch.cuda.is_available())"
      ],
      "execution_count": 3,
      "outputs": [
        {
          "output_type": "stream",
          "text": [
            "3.6.9 (default, Apr 18 2020, 01:56:04) \n",
            "[GCC 8.4.0]\n",
            "10.1\n",
            "1\n",
            "True\n"
          ],
          "name": "stdout"
        }
      ]
    },
    {
      "cell_type": "code",
      "metadata": {
        "id": "cV-uM0FAlOhE",
        "colab_type": "code",
        "colab": {
          "base_uri": "https://localhost:8080/",
          "height": 50
        },
        "outputId": "0457bca4-83ac-475b-a8fd-adc6e4c5ef86"
      },
      "source": [
        "lookup = dict()\n",
        "reverselookup = dict()\n",
        "\n",
        "count = 0\n",
        "\n",
        "for j in os.listdir('drive/My Drive/Colab Notebooks/ITSP/mydata/'):\n",
        "    if not j.startswith('.'):\n",
        "        lookup[j] = count\n",
        "        reverselookup[count] = j\n",
        "        count += 1\n",
        "        \n",
        "print(lookup)\n",
        "print(reverselookup)"
      ],
      "execution_count": 4,
      "outputs": [
        {
          "output_type": "stream",
          "text": [
            "{'3': 0, '6': 1, '4': 2, '2': 3, '1': 4, '7': 5, '5': 6, '8': 7, '0': 8, '9': 9}\n",
            "{0: '3', 1: '6', 2: '4', 3: '2', 4: '1', 5: '7', 6: '5', 7: '8', 8: '0', 9: '9'}\n"
          ],
          "name": "stdout"
        }
      ]
    },
    {
      "cell_type": "code",
      "metadata": {
        "id": "hr7Fpf9ClOhH",
        "colab_type": "code",
        "colab": {
          "base_uri": "https://localhost:8080/",
          "height": 319
        },
        "outputId": "b2533077-f6d5-479f-fdbc-f10a3424849e"
      },
      "source": [
        "x_data = []\n",
        "y_data = []\n",
        "datacount = 0\n",
        "image_size = 256\n",
        "\n",
        "dataset = dset.ImageFolder(root = 'drive/My Drive/Colab Notebooks/ITSP/mydata', \n",
        "                transform = \n",
        "                transforms.Compose([\n",
        "                transforms.Resize(image_size),\n",
        "                transforms.RandomResizedCrop(size=256, scale=(0.95, 1.0)),\n",
        "                transforms.RandomRotation(degrees=10),\n",
        "                transforms.ColorJitter(),\n",
        "                transforms.RandomHorizontalFlip(0.4),\n",
        "                transforms.Resize(size=224),  # Image net standards\n",
        "                transforms.ToTensor(),\n",
        "                transforms.Normalize([0.485, 0.456, 0.406],\n",
        "                                     [0.229, 0.224, 0.225])  # Imagenet standards\n",
        "                #transforms.ToTensor(), \n",
        "                #transforms.Normalize((0.5, 0.5, 0.5), (0.5, 0.5, 0.5))\n",
        "                ]))\n",
        "\n",
        "print(dataset)\n",
        "\n",
        "batch = 16\n",
        "random_seed = random.randint(1, 100)\n",
        "\n",
        "dataset_size = len(dataset)\n",
        "split = int(0.05*dataset_size)\n",
        "print('Size of dataset is: ', dataset_size)\n",
        "print('Split value: ', split)\n",
        "indices = list(range(dataset_size))\n",
        "\n",
        "np.random.seed(random_seed)\n",
        "np.random.shuffle(indices)\n",
        "\n",
        "train_indices, val_indices = indices[split:], indices[:split]\n",
        "\n",
        "# Creating PT data samplers and loaders:\n",
        "train_sampler = SubsetRandomSampler(train_indices)\n",
        "valid_sampler = SubsetRandomSampler(val_indices)\n",
        "\n",
        "train_loader = torch.utils.data.DataLoader(dataset, batch_size=batch, sampler=train_sampler,\n",
        "                                            num_workers = 2)\n",
        "valid_loader = torch.utils.data.DataLoader(dataset, batch_size=batch, sampler=valid_sampler,\n",
        "                                            num_workers = 2)\n",
        "\n",
        "print(len(train_loader))\n",
        "print(len(valid_loader))\n",
        "\n",
        "\n",
        "#for image, label in train_loader:\n",
        "    #print(label)"
      ],
      "execution_count": 5,
      "outputs": [
        {
          "output_type": "stream",
          "text": [
            "Dataset ImageFolder\n",
            "    Number of datapoints: 3535\n",
            "    Root location: drive/My Drive/Colab Notebooks/ITSP/mydata\n",
            "    StandardTransform\n",
            "Transform: Compose(\n",
            "               Resize(size=256, interpolation=PIL.Image.BILINEAR)\n",
            "               RandomResizedCrop(size=(256, 256), scale=(0.95, 1.0), ratio=(0.75, 1.3333), interpolation=PIL.Image.BILINEAR)\n",
            "               RandomRotation(degrees=(-10, 10), resample=False, expand=False)\n",
            "               ColorJitter(brightness=None, contrast=None, saturation=None, hue=None)\n",
            "               RandomHorizontalFlip(p=0.4)\n",
            "               Resize(size=224, interpolation=PIL.Image.BILINEAR)\n",
            "               ToTensor()\n",
            "               Normalize(mean=[0.485, 0.456, 0.406], std=[0.229, 0.224, 0.225])\n",
            "           )\n",
            "Size of dataset is:  3535\n",
            "Split value:  176\n",
            "210\n",
            "11\n"
          ],
          "name": "stdout"
        }
      ]
    },
    {
      "cell_type": "code",
      "metadata": {
        "id": "TrB04PSAlOhK",
        "colab_type": "code",
        "colab": {
          "base_uri": "https://localhost:8080/",
          "height": 34
        },
        "outputId": "1b1cbc93-472c-4b9f-e8d3-c678e15b1569"
      },
      "source": [
        "# Iterate through the dataloader once\n",
        "trainiter = iter(train_loader)\n",
        "features, labels = next(trainiter)\n",
        "features.shape, labels.shape"
      ],
      "execution_count": 6,
      "outputs": [
        {
          "output_type": "execute_result",
          "data": {
            "text/plain": [
              "(torch.Size([16, 3, 224, 224]), torch.Size([16]))"
            ]
          },
          "metadata": {
            "tags": []
          },
          "execution_count": 6
        }
      ]
    },
    {
      "cell_type": "code",
      "metadata": {
        "id": "x6Fr4KYYlOhN",
        "colab_type": "code",
        "colab": {
          "base_uri": "https://localhost:8080/",
          "height": 336
        },
        "outputId": "7bdd2a39-e1d4-4b01-98a4-01eac2a520af"
      },
      "source": [
        "def get_image_shape():\n",
        "    img = cv.imread('drive/My Drive/Colab Notebooks/ITSP/mydata/1/1.jpg', 0)\n",
        "    return img.shape\n",
        "\n",
        "\n",
        "img_shape = get_image_shape()\n",
        "print('Image shape: ', img_shape)\n",
        "root = 'drive/My Drive/Colab Notebooks/ITSP/mydata'\n",
        "gesture_data = os.listdir(root)\n",
        "num_g = len(gesture_data)\n",
        "print('Number of gestures: ', num_g)\n",
        "num_rows = int(num_g/4)\n",
        "\n",
        "if(num_g%4):\n",
        "   num_rows+=1\n",
        "\n",
        "print('Number of rows: ', num_rows)\n",
        "\n",
        "begin = 0\n",
        "final_img = None\n",
        "\n",
        "for i in range(num_rows):\n",
        "    row_img = None\n",
        "    for j in range(begin, begin+4):\n",
        "        if (j>= num_g):\n",
        "            img = np.zeros(img_shape, dtype = np.uint8)\n",
        "            #print('Image index: ', j, 'false')\n",
        "            \n",
        "        else:         \n",
        "            imgpath = root + '/' + reverselookup[j] + '/' + str(random.randint(1, 200)) + '.jpg'\n",
        "            img = cv.imread(imgpath, 0)\n",
        "            #if not np.any(img == None):\n",
        "                #print('Image index: ', j, 'true')\n",
        "            \n",
        "        if np.any(row_img == None):\n",
        "            row_img = img\n",
        "        else:\n",
        "            row_img = np.hstack((row_img, img))\n",
        "            \n",
        "    begin += 4\n",
        "    if np.any(final_img == None):\n",
        "            final_img = row_img\n",
        "    else:\n",
        "        final_img = np.vstack((final_img, row_img))  \n",
        "                        \n",
        "plt.imshow(final_img, cmap='gray')\n",
        "#cv.waitKey(0)\n",
        "#cv.destroyAllWindows()        "
      ],
      "execution_count": 7,
      "outputs": [
        {
          "output_type": "stream",
          "text": [
            "Image shape:  (256, 256)\n",
            "Number of gestures:  10\n",
            "Number of rows:  3\n"
          ],
          "name": "stdout"
        },
        {
          "output_type": "execute_result",
          "data": {
            "text/plain": [
              "<matplotlib.image.AxesImage at 0x7f9377fe83c8>"
            ]
          },
          "metadata": {
            "tags": []
          },
          "execution_count": 7
        },
        {
          "output_type": "display_data",
          "data": {
            "image/png": "[encoded data removed]",
            "text/plain": [
              "<Figure size 432x288 with 1 Axes>"
            ]
          },
          "metadata": {
            "tags": [],
            "needs_background": "light"
          }
        }
      ]
    },
    {
      "cell_type": "code",
      "metadata": {
        "id": "10-e-DTXlOhQ",
        "colab_type": "code",
        "colab": {
          "base_uri": "https://localhost:8080/",
          "height": 264
        },
        "outputId": "1cf56e1d-082c-4cc7-9f35-ab6d9c47148b"
      },
      "source": [
        "gestures = []\n",
        "titles = []\n",
        "\n",
        "for i in range(num_g):\n",
        "    imgpath = root + '/' + reverselookup[i] + '/' + str(random.randint(1, 200)) + '.jpg'\n",
        "    img = cv.imread(imgpath, 0)\n",
        "    gestures.append(img)\n",
        "    titles.append(reverselookup[i])\n",
        "    \n",
        "for i in range(num_g):\n",
        "    plt.subplot(3, 4, i+1)\n",
        "    plt.imshow(gestures[i], cmap='gray')\n",
        "    plt.title(titles[i])\n",
        "    plt.axis('off')"
      ],
      "execution_count": 8,
      "outputs": [
        {
          "output_type": "display_data",
          "data": {
            "image/png": "[encoded data removed]",
            "text/plain": [
              "<Figure size 432x288 with 10 Axes>"
            ]
          },
          "metadata": {
            "tags": [],
            "needs_background": "light"
          }
        }
      ]
    },
    {
      "cell_type": "code",
      "metadata": {
        "id": "KzO_7weRlOhT",
        "colab_type": "code",
        "colab": {
          "base_uri": "https://localhost:8080/",
          "height": 82,
          "referenced_widgets": [
            "2d1bafa3394d4eddb31adb04008ba87d",
            "18b7591a2f7b44b7bfbf01f463507710",
            "dc1f6f3326c747cc80b7de49b0267233",
            "522f49a97a6044f583442c706d33bfac",
            "363d41f0ca034fe2aed16602c546b253",
            "2b866719c59e4a8b8a4b0bbe635d5448",
            "0c9b105ede2f42079a672f32a58b69a9",
            "d792bbfc03bc480784c8887374a3f17c"
          ]
        },
        "outputId": "635664c5-0d50-4eb7-d6f1-9d99b7c96d39"
      },
      "source": [
        "from torchvision import models\n",
        "model = models.vgg19(pretrained=True)\n",
        "for param in model.parameters():\n",
        "    param.requires_grad = False"
      ],
      "execution_count": 9,
      "outputs": [
        {
          "output_type": "stream",
          "text": [
            "Downloading: \"https://download.pytorch.org/models/vgg19-dcbb9e9d.pth\" to /root/.cache/torch/checkpoints/vgg19-dcbb9e9d.pth\n"
          ],
          "name": "stderr"
        },
        {
          "output_type": "display_data",
          "data": {
            "application/vnd.jupyter.widget-view+json": {
              "model_id": "2d1bafa3394d4eddb31adb04008ba87d",
              "version_minor": 0,
              "version_major": 2
            },
            "text/plain": [
              "HBox(children=(FloatProgress(value=0.0, max=574673361.0), HTML(value='')))"
            ]
          },
          "metadata": {
            "tags": []
          }
        },
        {
          "output_type": "stream",
          "text": [
            "\n"
          ],
          "name": "stdout"
        }
      ]
    },
    {
      "cell_type": "code",
      "metadata": {
        "id": "aVno7LbllOhW",
        "colab_type": "code",
        "colab": {
          "base_uri": "https://localhost:8080/",
          "height": 874
        },
        "outputId": "2add89b2-bc1d-4259-d02e-76976e0506df"
      },
      "source": [
        "torch.save(model, 'drive/My Drive/Colab Notebooks/ITSP/vgg19.pth')\n",
        "print(model)"
      ],
      "execution_count": 10,
      "outputs": [
        {
          "output_type": "stream",
          "text": [
            "VGG(\n",
            "  (features): Sequential(\n",
            "    (0): Conv2d(3, 64, kernel_size=(3, 3), stride=(1, 1), padding=(1, 1))\n",
            "    (1): ReLU(inplace=True)\n",
            "    (2): Conv2d(64, 64, kernel_size=(3, 3), stride=(1, 1), padding=(1, 1))\n",
            "    (3): ReLU(inplace=True)\n",
            "    (4): MaxPool2d(kernel_size=2, stride=2, padding=0, dilation=1, ceil_mode=False)\n",
            "    (5): Conv2d(64, 128, kernel_size=(3, 3), stride=(1, 1), padding=(1, 1))\n",
            "    (6): ReLU(inplace=True)\n",
            "    (7): Conv2d(128, 128, kernel_size=(3, 3), stride=(1, 1), padding=(1, 1))\n",
            "    (8): ReLU(inplace=True)\n",
            "    (9): MaxPool2d(kernel_size=2, stride=2, padding=0, dilation=1, ceil_mode=False)\n",
            "    (10): Conv2d(128, 256, kernel_size=(3, 3), stride=(1, 1), padding=(1, 1))\n",
            "    (11): ReLU(inplace=True)\n",
            "    (12): Conv2d(256, 256, kernel_size=(3, 3), stride=(1, 1), padding=(1, 1))\n",
            "    (13): ReLU(inplace=True)\n",
            "    (14): Conv2d(256, 256, kernel_size=(3, 3), stride=(1, 1), padding=(1, 1))\n",
            "    (15): ReLU(inplace=True)\n",
            "    (16): Conv2d(256, 256, kernel_size=(3, 3), stride=(1, 1), padding=(1, 1))\n",
            "    (17): ReLU(inplace=True)\n",
            "    (18): MaxPool2d(kernel_size=2, stride=2, padding=0, dilation=1, ceil_mode=False)\n",
            "    (19): Conv2d(256, 512, kernel_size=(3, 3), stride=(1, 1), padding=(1, 1))\n",
            "    (20): ReLU(inplace=True)\n",
            "    (21): Conv2d(512, 512, kernel_size=(3, 3), stride=(1, 1), padding=(1, 1))\n",
            "    (22): ReLU(inplace=True)\n",
            "    (23): Conv2d(512, 512, kernel_size=(3, 3), stride=(1, 1), padding=(1, 1))\n",
            "    (24): ReLU(inplace=True)\n",
            "    (25): Conv2d(512, 512, kernel_size=(3, 3), stride=(1, 1), padding=(1, 1))\n",
            "    (26): ReLU(inplace=True)\n",
            "    (27): MaxPool2d(kernel_size=2, stride=2, padding=0, dilation=1, ceil_mode=False)\n",
            "    (28): Conv2d(512, 512, kernel_size=(3, 3), stride=(1, 1), padding=(1, 1))\n",
            "    (29): ReLU(inplace=True)\n",
            "    (30): Conv2d(512, 512, kernel_size=(3, 3), stride=(1, 1), padding=(1, 1))\n",
            "    (31): ReLU(inplace=True)\n",
            "    (32): Conv2d(512, 512, kernel_size=(3, 3), stride=(1, 1), padding=(1, 1))\n",
            "    (33): ReLU(inplace=True)\n",
            "    (34): Conv2d(512, 512, kernel_size=(3, 3), stride=(1, 1), padding=(1, 1))\n",
            "    (35): ReLU(inplace=True)\n",
            "    (36): MaxPool2d(kernel_size=2, stride=2, padding=0, dilation=1, ceil_mode=False)\n",
            "  )\n",
            "  (avgpool): AdaptiveAvgPool2d(output_size=(7, 7))\n",
            "  (classifier): Sequential(\n",
            "    (0): Linear(in_features=25088, out_features=4096, bias=True)\n",
            "    (1): ReLU(inplace=True)\n",
            "    (2): Dropout(p=0.5, inplace=False)\n",
            "    (3): Linear(in_features=4096, out_features=4096, bias=True)\n",
            "    (4): ReLU(inplace=True)\n",
            "    (5): Dropout(p=0.5, inplace=False)\n",
            "    (6): Linear(in_features=4096, out_features=1000, bias=True)\n",
            "  )\n",
            ")\n"
          ],
          "name": "stdout"
        }
      ]
    },
    {
      "cell_type": "code",
      "metadata": {
        "id": "VB9MoHJDlOhZ",
        "colab_type": "code",
        "colab": {
          "base_uri": "https://localhost:8080/",
          "height": 1000
        },
        "outputId": "88be5599-fdfb-4b77-cbd5-c3afac909b41"
      },
      "source": [
        "n_classes = 10\n",
        "\n",
        "model.classifier[6] = nn.Sequential(\n",
        "                      nn.Linear(4096, 512), \n",
        "                      nn.ReLU(), \n",
        "                      nn.Linear(512, 128), \n",
        "                      nn.ReLU(),\n",
        "                      nn.Dropout(0.2), \n",
        "                      nn.Linear(128, n_classes),                   \n",
        "                      nn.LogSoftmax(dim=1))\n",
        "\n",
        "print(model)"
      ],
      "execution_count": 11,
      "outputs": [
        {
          "output_type": "stream",
          "text": [
            "VGG(\n",
            "  (features): Sequential(\n",
            "    (0): Conv2d(3, 64, kernel_size=(3, 3), stride=(1, 1), padding=(1, 1))\n",
            "    (1): ReLU(inplace=True)\n",
            "    (2): Conv2d(64, 64, kernel_size=(3, 3), stride=(1, 1), padding=(1, 1))\n",
            "    (3): ReLU(inplace=True)\n",
            "    (4): MaxPool2d(kernel_size=2, stride=2, padding=0, dilation=1, ceil_mode=False)\n",
            "    (5): Conv2d(64, 128, kernel_size=(3, 3), stride=(1, 1), padding=(1, 1))\n",
            "    (6): ReLU(inplace=True)\n",
            "    (7): Conv2d(128, 128, kernel_size=(3, 3), stride=(1, 1), padding=(1, 1))\n",
            "    (8): ReLU(inplace=True)\n",
            "    (9): MaxPool2d(kernel_size=2, stride=2, padding=0, dilation=1, ceil_mode=False)\n",
            "    (10): Conv2d(128, 256, kernel_size=(3, 3), stride=(1, 1), padding=(1, 1))\n",
            "    (11): ReLU(inplace=True)\n",
            "    (12): Conv2d(256, 256, kernel_size=(3, 3), stride=(1, 1), padding=(1, 1))\n",
            "    (13): ReLU(inplace=True)\n",
            "    (14): Conv2d(256, 256, kernel_size=(3, 3), stride=(1, 1), padding=(1, 1))\n",
            "    (15): ReLU(inplace=True)\n",
            "    (16): Conv2d(256, 256, kernel_size=(3, 3), stride=(1, 1), padding=(1, 1))\n",
            "    (17): ReLU(inplace=True)\n",
            "    (18): MaxPool2d(kernel_size=2, stride=2, padding=0, dilation=1, ceil_mode=False)\n",
            "    (19): Conv2d(256, 512, kernel_size=(3, 3), stride=(1, 1), padding=(1, 1))\n",
            "    (20): ReLU(inplace=True)\n",
            "    (21): Conv2d(512, 512, kernel_size=(3, 3), stride=(1, 1), padding=(1, 1))\n",
            "    (22): ReLU(inplace=True)\n",
            "    (23): Conv2d(512, 512, kernel_size=(3, 3), stride=(1, 1), padding=(1, 1))\n",
            "    (24): ReLU(inplace=True)\n",
            "    (25): Conv2d(512, 512, kernel_size=(3, 3), stride=(1, 1), padding=(1, 1))\n",
            "    (26): ReLU(inplace=True)\n",
            "    (27): MaxPool2d(kernel_size=2, stride=2, padding=0, dilation=1, ceil_mode=False)\n",
            "    (28): Conv2d(512, 512, kernel_size=(3, 3), stride=(1, 1), padding=(1, 1))\n",
            "    (29): ReLU(inplace=True)\n",
            "    (30): Conv2d(512, 512, kernel_size=(3, 3), stride=(1, 1), padding=(1, 1))\n",
            "    (31): ReLU(inplace=True)\n",
            "    (32): Conv2d(512, 512, kernel_size=(3, 3), stride=(1, 1), padding=(1, 1))\n",
            "    (33): ReLU(inplace=True)\n",
            "    (34): Conv2d(512, 512, kernel_size=(3, 3), stride=(1, 1), padding=(1, 1))\n",
            "    (35): ReLU(inplace=True)\n",
            "    (36): MaxPool2d(kernel_size=2, stride=2, padding=0, dilation=1, ceil_mode=False)\n",
            "  )\n",
            "  (avgpool): AdaptiveAvgPool2d(output_size=(7, 7))\n",
            "  (classifier): Sequential(\n",
            "    (0): Linear(in_features=25088, out_features=4096, bias=True)\n",
            "    (1): ReLU(inplace=True)\n",
            "    (2): Dropout(p=0.5, inplace=False)\n",
            "    (3): Linear(in_features=4096, out_features=4096, bias=True)\n",
            "    (4): ReLU(inplace=True)\n",
            "    (5): Dropout(p=0.5, inplace=False)\n",
            "    (6): Sequential(\n",
            "      (0): Linear(in_features=4096, out_features=512, bias=True)\n",
            "      (1): ReLU()\n",
            "      (2): Linear(in_features=512, out_features=128, bias=True)\n",
            "      (3): ReLU()\n",
            "      (4): Dropout(p=0.2, inplace=False)\n",
            "      (5): Linear(in_features=128, out_features=10, bias=True)\n",
            "      (6): LogSoftmax()\n",
            "    )\n",
            "  )\n",
            ")\n"
          ],
          "name": "stdout"
        }
      ]
    },
    {
      "cell_type": "code",
      "metadata": {
        "id": "CYTxJ2w_lOhb",
        "colab_type": "code",
        "colab": {
          "base_uri": "https://localhost:8080/",
          "height": 50
        },
        "outputId": "8ce5e7d5-d0a3-4aa0-e61d-faa04718d1d2"
      },
      "source": [
        "total_params = sum(p.numel() for p in model.parameters())\n",
        "\n",
        "print(f'{total_params:,} total parameters')\n",
        "\n",
        "total_trainable = sum(p.numel() for p in model.parameters() if p.requires_grad)\n",
        "\n",
        "print(f'{total_trainable:,} trainable parameters.')"
      ],
      "execution_count": 12,
      "outputs": [
        {
          "output_type": "stream",
          "text": [
            "141,734,858 total parameters\n",
            "2,164,618 trainable parameters.\n"
          ],
          "name": "stdout"
        }
      ]
    },
    {
      "cell_type": "code",
      "metadata": {
        "id": "UvYn0mxHlOhe",
        "colab_type": "code",
        "colab": {}
      },
      "source": [
        "# Move to gpu\n",
        "model = model.to('cuda')\n",
        "# Distribute across 2 gpus\n",
        "model = nn.DataParallel(model)\n",
        "\n",
        "loss_func = F.cross_entropy\n",
        "optimizer = optim.Adam(model.parameters(), betas=(0.8, 0.99), lr = 0.002)\n"
      ],
      "execution_count": 13,
      "outputs": []
    },
    {
      "cell_type": "code",
      "metadata": {
        "id": "1Xov_0milOhh",
        "colab_type": "code",
        "colab": {}
      },
      "source": [
        "def accuracy(out, yb):\n",
        "    pred = torch.argmax(out, keepdim= False, dim=1)\n",
        "    return (pred == yb).float().mean() "
      ],
      "execution_count": 14,
      "outputs": []
    },
    {
      "cell_type": "code",
      "metadata": {
        "id": "y4K2vMYllOhk",
        "colab_type": "code",
        "colab": {}
      },
      "source": [
        "def fit(model, epochs, train_loader, valid_loader, opt):\n",
        "    losses = []\n",
        "    \n",
        "    for epoch in range(epochs):\n",
        "        train_loss =0\n",
        "        train_acc =0\n",
        "        model.train()\n",
        "        for xb, yb in train_loader:\n",
        "            xb =xb.to(device)\n",
        "            yb = yb.to(device)\n",
        "            pred = model(xb.float())\n",
        "            pred.to(device)\n",
        "            train_acc += accuracy(pred, yb)\n",
        "            loss = loss_func(pred, yb)\n",
        "            train_loss += loss\n",
        "            #back propogation\n",
        "            loss.backward()\n",
        "            opt.step()\n",
        "            opt.zero_grad()      \n",
        "\n",
        "        losses.append(train_loss)\n",
        "        print(\"Iteration no: \"+ str(epoch), \"loss = \"+str(losses[epoch].item()))\n",
        "        print(\"Accuracy of train set:\", train_acc/len(train_loader))\n",
        "        lr_scheduler.step(train_loss/len(train_loader))\n",
        "        \n",
        "        \n",
        "        model.eval()    \n",
        "        with torch.no_grad():\n",
        "            valid_acc=0\n",
        "            loss_valid = 0\n",
        "            for xb_valid, yb_valid in valid_loader:\n",
        "                xb_valid = xb_valid.to(device)\n",
        "                yb_valid = yb_valid.to(device)\n",
        "                pred_valid = model(xb_valid.float())\n",
        "                pred_valid.to(device)\n",
        "                valid_acc += accuracy(pred_valid, yb_valid)\n",
        "                loss_valid += loss_func(pred_valid, yb_valid)\n",
        "            print(\"Accuracy of validation set :\", valid_acc/len(valid_loader))\n",
        "\n",
        "    plt.plot(losses)\n",
        "    plt.ylabel(\"loss\")\n",
        "    plt.xlabel(\"iterations\")\n",
        "    plt.show()"
      ],
      "execution_count": 15,
      "outputs": []
    },
    {
      "cell_type": "code",
      "metadata": {
        "id": "FRhPBGl2lOhm",
        "colab_type": "code",
        "colab": {
          "base_uri": "https://localhost:8080/",
          "height": 1000
        },
        "outputId": "ad3927f0-3338-4eb1-e068-2df2fdb162a6"
      },
      "source": [
        "lr_scheduler = torch.optim.lr_scheduler.ReduceLROnPlateau(optimizer, patience=4, verbose=True, eps = 10e-14)\n",
        "\n",
        "fit(model, 120, train_loader, valid_loader, optimizer)"
      ],
      "execution_count": 16,
      "outputs": [
        {
          "output_type": "stream",
          "text": [
            "Iteration no: 0 loss = 249.13101196289062\n",
            "Accuracy of train set: tensor(0.5642, device='cuda:0')\n",
            "Accuracy of validation set : tensor(0.7614, device='cuda:0')\n",
            "Iteration no: 1 loss = 188.12242126464844\n",
            "Accuracy of train set: tensor(0.6737, device='cuda:0')\n",
            "Accuracy of validation set : tensor(0.7045, device='cuda:0')\n",
            "Iteration no: 2 loss = 174.9033660888672\n",
            "Accuracy of train set: tensor(0.7059, device='cuda:0')\n",
            "Accuracy of validation set : tensor(0.7784, device='cuda:0')\n",
            "Iteration no: 3 loss = 163.11329650878906\n",
            "Accuracy of train set: tensor(0.7205, device='cuda:0')\n",
            "Accuracy of validation set : tensor(0.7784, device='cuda:0')\n",
            "Iteration no: 4 loss = 160.37091064453125\n",
            "Accuracy of train set: tensor(0.7303, device='cuda:0')\n",
            "Accuracy of validation set : tensor(0.7784, device='cuda:0')\n",
            "Iteration no: 5 loss = 154.06907653808594\n",
            "Accuracy of train set: tensor(0.7470, device='cuda:0')\n",
            "Accuracy of validation set : tensor(0.7955, device='cuda:0')\n",
            "Iteration no: 6 loss = 149.78033447265625\n",
            "Accuracy of train set: tensor(0.7490, device='cuda:0')\n",
            "Accuracy of validation set : tensor(0.8125, device='cuda:0')\n",
            "Iteration no: 7 loss = 158.47666931152344\n",
            "Accuracy of train set: tensor(0.7338, device='cuda:0')\n",
            "Accuracy of validation set : tensor(0.7727, device='cuda:0')\n",
            "Iteration no: 8 loss = 152.9345703125\n",
            "Accuracy of train set: tensor(0.7478, device='cuda:0')\n",
            "Accuracy of validation set : tensor(0.8068, device='cuda:0')\n",
            "Iteration no: 9 loss = 144.69358825683594\n",
            "Accuracy of train set: tensor(0.7568, device='cuda:0')\n",
            "Accuracy of validation set : tensor(0.7955, device='cuda:0')\n",
            "Iteration no: 10 loss = 145.80422973632812\n",
            "Accuracy of train set: tensor(0.7547, device='cuda:0')\n",
            "Accuracy of validation set : tensor(0.8693, device='cuda:0')\n",
            "Iteration no: 11 loss = 151.07351684570312\n",
            "Accuracy of train set: tensor(0.7509, device='cuda:0')\n",
            "Accuracy of validation set : tensor(0.8011, device='cuda:0')\n",
            "Iteration no: 12 loss = 146.82325744628906\n",
            "Accuracy of train set: tensor(0.7538, device='cuda:0')\n",
            "Accuracy of validation set : tensor(0.8125, device='cuda:0')\n",
            "Iteration no: 13 loss = 147.0718536376953\n",
            "Accuracy of train set: tensor(0.7630, device='cuda:0')\n",
            "Accuracy of validation set : tensor(0.8352, device='cuda:0')\n",
            "Iteration no: 14 loss = 142.94361877441406\n",
            "Accuracy of train set: tensor(0.7618, device='cuda:0')\n",
            "Accuracy of validation set : tensor(0.7784, device='cuda:0')\n",
            "Iteration no: 15 loss = 141.18894958496094\n",
            "Accuracy of train set: tensor(0.7747, device='cuda:0')\n",
            "Accuracy of validation set : tensor(0.8409, device='cuda:0')\n",
            "Iteration no: 16 loss = 136.42269897460938\n",
            "Accuracy of train set: tensor(0.7785, device='cuda:0')\n",
            "Accuracy of validation set : tensor(0.8466, device='cuda:0')\n",
            "Iteration no: 17 loss = 134.86622619628906\n",
            "Accuracy of train set: tensor(0.7753, device='cuda:0')\n",
            "Accuracy of validation set : tensor(0.7841, device='cuda:0')\n",
            "Iteration no: 18 loss = 140.02308654785156\n",
            "Accuracy of train set: tensor(0.7702, device='cuda:0')\n",
            "Accuracy of validation set : tensor(0.8807, device='cuda:0')\n",
            "Iteration no: 19 loss = 134.81155395507812\n",
            "Accuracy of train set: tensor(0.7806, device='cuda:0')\n",
            "Accuracy of validation set : tensor(0.8693, device='cuda:0')\n",
            "Iteration no: 20 loss = 132.54812622070312\n",
            "Accuracy of train set: tensor(0.7842, device='cuda:0')\n",
            "Accuracy of validation set : tensor(0.8750, device='cuda:0')\n",
            "Iteration no: 21 loss = 139.27023315429688\n",
            "Accuracy of train set: tensor(0.7663, device='cuda:0')\n",
            "Accuracy of validation set : tensor(0.8580, device='cuda:0')\n",
            "Iteration no: 22 loss = 130.93231201171875\n",
            "Accuracy of train set: tensor(0.7857, device='cuda:0')\n",
            "Accuracy of validation set : tensor(0.8693, device='cuda:0')\n",
            "Iteration no: 23 loss = 135.93894958496094\n",
            "Accuracy of train set: tensor(0.7773, device='cuda:0')\n",
            "Accuracy of validation set : tensor(0.8352, device='cuda:0')\n",
            "Iteration no: 24 loss = 140.73597717285156\n",
            "Accuracy of train set: tensor(0.7675, device='cuda:0')\n",
            "Accuracy of validation set : tensor(0.8352, device='cuda:0')\n",
            "Iteration no: 25 loss = 141.40609741210938\n",
            "Accuracy of train set: tensor(0.7693, device='cuda:0')\n",
            "Accuracy of validation set : tensor(0.8352, device='cuda:0')\n",
            "Iteration no: 26 loss = 128.0570526123047\n",
            "Accuracy of train set: tensor(0.7913, device='cuda:0')\n",
            "Accuracy of validation set : tensor(0.8409, device='cuda:0')\n",
            "Iteration no: 27 loss = 135.781005859375\n",
            "Accuracy of train set: tensor(0.7845, device='cuda:0')\n",
            "Accuracy of validation set : tensor(0.8409, device='cuda:0')\n",
            "Iteration no: 28 loss = 134.85618591308594\n",
            "Accuracy of train set: tensor(0.7791, device='cuda:0')\n",
            "Accuracy of validation set : tensor(0.8182, device='cuda:0')\n",
            "Iteration no: 29 loss = 128.5762939453125\n",
            "Accuracy of train set: tensor(0.7878, device='cuda:0')\n",
            "Accuracy of validation set : tensor(0.9034, device='cuda:0')\n",
            "Iteration no: 30 loss = 132.61375427246094\n",
            "Accuracy of train set: tensor(0.7892, device='cuda:0')\n",
            "Accuracy of validation set : tensor(0.8352, device='cuda:0')\n",
            "Iteration no: 31 loss = 130.93568420410156\n",
            "Accuracy of train set: tensor(0.7895, device='cuda:0')\n",
            "Epoch    32: reducing learning rate of group 0 to 2.0000e-04.\n",
            "Accuracy of validation set : tensor(0.8523, device='cuda:0')\n",
            "Iteration no: 32 loss = 123.42860412597656\n",
            "Accuracy of train set: tensor(0.7934, device='cuda:0')\n",
            "Accuracy of validation set : tensor(0.8977, device='cuda:0')\n",
            "Iteration no: 33 loss = 118.64759826660156\n",
            "Accuracy of train set: tensor(0.8110, device='cuda:0')\n",
            "Accuracy of validation set : tensor(0.8750, device='cuda:0')\n",
            "Iteration no: 34 loss = 117.70759582519531\n",
            "Accuracy of train set: tensor(0.8153, device='cuda:0')\n",
            "Accuracy of validation set : tensor(0.8920, device='cuda:0')\n",
            "Iteration no: 35 loss = 116.36138916015625\n",
            "Accuracy of train set: tensor(0.8185, device='cuda:0')\n",
            "Accuracy of validation set : tensor(0.9034, device='cuda:0')\n",
            "Iteration no: 36 loss = 113.81314849853516\n",
            "Accuracy of train set: tensor(0.8196, device='cuda:0')\n",
            "Accuracy of validation set : tensor(0.8977, device='cuda:0')\n",
            "Iteration no: 37 loss = 120.20706176757812\n",
            "Accuracy of train set: tensor(0.8157, device='cuda:0')\n",
            "Accuracy of validation set : tensor(0.8636, device='cuda:0')\n",
            "Iteration no: 38 loss = 121.32670593261719\n",
            "Accuracy of train set: tensor(0.8071, device='cuda:0')\n",
            "Accuracy of validation set : tensor(0.8750, device='cuda:0')\n",
            "Iteration no: 39 loss = 118.6624984741211\n",
            "Accuracy of train set: tensor(0.7982, device='cuda:0')\n",
            "Accuracy of validation set : tensor(0.9205, device='cuda:0')\n",
            "Iteration no: 40 loss = 112.7425765991211\n",
            "Accuracy of train set: tensor(0.8113, device='cuda:0')\n",
            "Accuracy of validation set : tensor(0.8409, device='cuda:0')\n",
            "Iteration no: 41 loss = 110.65884399414062\n",
            "Accuracy of train set: tensor(0.8169, device='cuda:0')\n",
            "Accuracy of validation set : tensor(0.8750, device='cuda:0')\n",
            "Iteration no: 42 loss = 115.871826171875\n",
            "Accuracy of train set: tensor(0.8032, device='cuda:0')\n",
            "Accuracy of validation set : tensor(0.9261, device='cuda:0')\n",
            "Iteration no: 43 loss = 112.48588562011719\n",
            "Accuracy of train set: tensor(0.8118, device='cuda:0')\n",
            "Accuracy of validation set : tensor(0.8977, device='cuda:0')\n",
            "Iteration no: 44 loss = 104.86217498779297\n",
            "Accuracy of train set: tensor(0.8213, device='cuda:0')\n",
            "Accuracy of validation set : tensor(0.9091, device='cuda:0')\n",
            "Iteration no: 45 loss = 111.65372467041016\n",
            "Accuracy of train set: tensor(0.8136, device='cuda:0')\n",
            "Accuracy of validation set : tensor(0.9091, device='cuda:0')\n",
            "Iteration no: 46 loss = 114.5115737915039\n",
            "Accuracy of train set: tensor(0.8148, device='cuda:0')\n",
            "Accuracy of validation set : tensor(0.8920, device='cuda:0')\n",
            "Iteration no: 47 loss = 108.31198120117188\n",
            "Accuracy of train set: tensor(0.8291, device='cuda:0')\n",
            "Accuracy of validation set : tensor(0.8580, device='cuda:0')\n",
            "Iteration no: 48 loss = 109.9063720703125\n",
            "Accuracy of train set: tensor(0.8187, device='cuda:0')\n",
            "Accuracy of validation set : tensor(0.9148, device='cuda:0')\n",
            "Iteration no: 49 loss = 116.54926300048828\n",
            "Accuracy of train set: tensor(0.8121, device='cuda:0')\n",
            "Epoch    50: reducing learning rate of group 0 to 2.0000e-05.\n",
            "Accuracy of validation set : tensor(0.8977, device='cuda:0')\n",
            "Iteration no: 50 loss = 112.70336151123047\n",
            "Accuracy of train set: tensor(0.8163, device='cuda:0')\n",
            "Accuracy of validation set : tensor(0.8920, device='cuda:0')\n",
            "Iteration no: 51 loss = 108.56187438964844\n",
            "Accuracy of train set: tensor(0.8220, device='cuda:0')\n",
            "Accuracy of validation set : tensor(0.9148, device='cuda:0')\n",
            "Iteration no: 52 loss = 104.60127258300781\n",
            "Accuracy of train set: tensor(0.8243, device='cuda:0')\n",
            "Accuracy of validation set : tensor(0.8920, device='cuda:0')\n",
            "Iteration no: 53 loss = 105.99070739746094\n",
            "Accuracy of train set: tensor(0.8205, device='cuda:0')\n",
            "Accuracy of validation set : tensor(0.9261, device='cuda:0')\n",
            "Iteration no: 54 loss = 108.8788070678711\n",
            "Accuracy of train set: tensor(0.8255, device='cuda:0')\n",
            "Accuracy of validation set : tensor(0.8750, device='cuda:0')\n",
            "Iteration no: 55 loss = 107.54491424560547\n",
            "Accuracy of train set: tensor(0.8232, device='cuda:0')\n",
            "Accuracy of validation set : tensor(0.9034, device='cuda:0')\n",
            "Iteration no: 56 loss = 110.52701568603516\n",
            "Accuracy of train set: tensor(0.8148, device='cuda:0')\n",
            "Accuracy of validation set : tensor(0.8807, device='cuda:0')\n",
            "Iteration no: 57 loss = 107.09937286376953\n",
            "Accuracy of train set: tensor(0.8163, device='cuda:0')\n",
            "Epoch    58: reducing learning rate of group 0 to 2.0000e-06.\n",
            "Accuracy of validation set : tensor(0.8977, device='cuda:0')\n",
            "Iteration no: 58 loss = 111.402587890625\n",
            "Accuracy of train set: tensor(0.8217, device='cuda:0')\n",
            "Accuracy of validation set : tensor(0.8977, device='cuda:0')\n",
            "Iteration no: 59 loss = 103.77552795410156\n",
            "Accuracy of train set: tensor(0.8261, device='cuda:0')\n",
            "Accuracy of validation set : tensor(0.9148, device='cuda:0')\n",
            "Iteration no: 60 loss = 107.2240982055664\n",
            "Accuracy of train set: tensor(0.8181, device='cuda:0')\n",
            "Accuracy of validation set : tensor(0.8636, device='cuda:0')\n",
            "Iteration no: 61 loss = 113.19747161865234\n",
            "Accuracy of train set: tensor(0.8178, device='cuda:0')\n",
            "Accuracy of validation set : tensor(0.8807, device='cuda:0')\n",
            "Iteration no: 62 loss = 108.73802947998047\n",
            "Accuracy of train set: tensor(0.8256, device='cuda:0')\n",
            "Accuracy of validation set : tensor(0.8920, device='cuda:0')\n",
            "Iteration no: 63 loss = 110.85417175292969\n",
            "Accuracy of train set: tensor(0.8184, device='cuda:0')\n",
            "Accuracy of validation set : tensor(0.8523, device='cuda:0')\n",
            "Iteration no: 64 loss = 109.59484100341797\n",
            "Accuracy of train set: tensor(0.8133, device='cuda:0')\n",
            "Epoch    65: reducing learning rate of group 0 to 2.0000e-07.\n",
            "Accuracy of validation set : tensor(0.8523, device='cuda:0')\n",
            "Iteration no: 65 loss = 108.38755798339844\n",
            "Accuracy of train set: tensor(0.8235, device='cuda:0')\n",
            "Accuracy of validation set : tensor(0.8920, device='cuda:0')\n",
            "Iteration no: 66 loss = 104.79756164550781\n",
            "Accuracy of train set: tensor(0.8270, device='cuda:0')\n",
            "Accuracy of validation set : tensor(0.9205, device='cuda:0')\n",
            "Iteration no: 67 loss = 110.22561645507812\n",
            "Accuracy of train set: tensor(0.8202, device='cuda:0')\n",
            "Accuracy of validation set : tensor(0.8636, device='cuda:0')\n",
            "Iteration no: 68 loss = 106.60371398925781\n",
            "Accuracy of train set: tensor(0.8240, device='cuda:0')\n",
            "Accuracy of validation set : tensor(0.9034, device='cuda:0')\n",
            "Iteration no: 69 loss = 108.37288665771484\n",
            "Accuracy of train set: tensor(0.8279, device='cuda:0')\n",
            "Epoch    70: reducing learning rate of group 0 to 2.0000e-08.\n",
            "Accuracy of validation set : tensor(0.9091, device='cuda:0')\n",
            "Iteration no: 70 loss = 108.54399871826172\n",
            "Accuracy of train set: tensor(0.8229, device='cuda:0')\n",
            "Accuracy of validation set : tensor(0.8807, device='cuda:0')\n",
            "Iteration no: 71 loss = 106.66143035888672\n",
            "Accuracy of train set: tensor(0.8252, device='cuda:0')\n",
            "Accuracy of validation set : tensor(0.8920, device='cuda:0')\n",
            "Iteration no: 72 loss = 111.9189682006836\n",
            "Accuracy of train set: tensor(0.8202, device='cuda:0')\n",
            "Accuracy of validation set : tensor(0.8864, device='cuda:0')\n",
            "Iteration no: 73 loss = 110.06531524658203\n",
            "Accuracy of train set: tensor(0.8170, device='cuda:0')\n",
            "Accuracy of validation set : tensor(0.8693, device='cuda:0')\n",
            "Iteration no: 74 loss = 114.07999420166016\n",
            "Accuracy of train set: tensor(0.8267, device='cuda:0')\n",
            "Epoch    75: reducing learning rate of group 0 to 2.0000e-09.\n",
            "Accuracy of validation set : tensor(0.8807, device='cuda:0')\n",
            "Iteration no: 75 loss = 111.82489776611328\n",
            "Accuracy of train set: tensor(0.8169, device='cuda:0')\n",
            "Accuracy of validation set : tensor(0.8977, device='cuda:0')\n",
            "Iteration no: 76 loss = 111.07992553710938\n",
            "Accuracy of train set: tensor(0.8273, device='cuda:0')\n",
            "Accuracy of validation set : tensor(0.8750, device='cuda:0')\n",
            "Iteration no: 77 loss = 107.30624389648438\n",
            "Accuracy of train set: tensor(0.8193, device='cuda:0')\n",
            "Accuracy of validation set : tensor(0.8807, device='cuda:0')\n",
            "Iteration no: 78 loss = 105.47864532470703\n",
            "Accuracy of train set: tensor(0.8286, device='cuda:0')\n",
            "Accuracy of validation set : tensor(0.8864, device='cuda:0')\n",
            "Iteration no: 79 loss = 107.00724792480469\n",
            "Accuracy of train set: tensor(0.8264, device='cuda:0')\n",
            "Epoch    80: reducing learning rate of group 0 to 2.0000e-10.\n",
            "Accuracy of validation set : tensor(0.8920, device='cuda:0')\n",
            "Iteration no: 80 loss = 110.32109069824219\n",
            "Accuracy of train set: tensor(0.8089, device='cuda:0')\n",
            "Accuracy of validation set : tensor(0.8920, device='cuda:0')\n",
            "Iteration no: 81 loss = 111.72673797607422\n",
            "Accuracy of train set: tensor(0.8163, device='cuda:0')\n",
            "Accuracy of validation set : tensor(0.8693, device='cuda:0')\n",
            "Iteration no: 82 loss = 111.79290771484375\n",
            "Accuracy of train set: tensor(0.8146, device='cuda:0')\n",
            "Accuracy of validation set : tensor(0.8580, device='cuda:0')\n",
            "Iteration no: 83 loss = 109.26869201660156\n",
            "Accuracy of train set: tensor(0.8246, device='cuda:0')\n",
            "Accuracy of validation set : tensor(0.8807, device='cuda:0')\n",
            "Iteration no: 84 loss = 111.80728912353516\n",
            "Accuracy of train set: tensor(0.8264, device='cuda:0')\n",
            "Epoch    85: reducing learning rate of group 0 to 2.0000e-11.\n",
            "Accuracy of validation set : tensor(0.9205, device='cuda:0')\n",
            "Iteration no: 85 loss = 107.48059844970703\n",
            "Accuracy of train set: tensor(0.8306, device='cuda:0')\n",
            "Accuracy of validation set : tensor(0.8750, device='cuda:0')\n",
            "Iteration no: 86 loss = 115.3971939086914\n",
            "Accuracy of train set: tensor(0.8190, device='cuda:0')\n",
            "Accuracy of validation set : tensor(0.8636, device='cuda:0')\n",
            "Iteration no: 87 loss = 114.49434661865234\n",
            "Accuracy of train set: tensor(0.8202, device='cuda:0')\n",
            "Accuracy of validation set : tensor(0.8864, device='cuda:0')\n",
            "Iteration no: 88 loss = 107.31661987304688\n",
            "Accuracy of train set: tensor(0.8255, device='cuda:0')\n",
            "Accuracy of validation set : tensor(0.8636, device='cuda:0')\n",
            "Iteration no: 89 loss = 108.5505599975586\n",
            "Accuracy of train set: tensor(0.8211, device='cuda:0')\n",
            "Epoch    90: reducing learning rate of group 0 to 2.0000e-12.\n",
            "Accuracy of validation set : tensor(0.9091, device='cuda:0')\n",
            "Iteration no: 90 loss = 107.21385192871094\n",
            "Accuracy of train set: tensor(0.8303, device='cuda:0')\n",
            "Accuracy of validation set : tensor(0.8864, device='cuda:0')\n",
            "Iteration no: 91 loss = 111.68280792236328\n",
            "Accuracy of train set: tensor(0.8196, device='cuda:0')\n",
            "Accuracy of validation set : tensor(0.9148, device='cuda:0')\n",
            "Iteration no: 92 loss = 110.77267456054688\n",
            "Accuracy of train set: tensor(0.8243, device='cuda:0')\n",
            "Accuracy of validation set : tensor(0.8864, device='cuda:0')\n",
            "Iteration no: 93 loss = 105.955810546875\n",
            "Accuracy of train set: tensor(0.8160, device='cuda:0')\n",
            "Accuracy of validation set : tensor(0.8864, device='cuda:0')\n",
            "Iteration no: 94 loss = 106.37828826904297\n",
            "Accuracy of train set: tensor(0.8181, device='cuda:0')\n",
            "Epoch    95: reducing learning rate of group 0 to 2.0000e-13.\n",
            "Accuracy of validation set : tensor(0.8693, device='cuda:0')\n",
            "Iteration no: 95 loss = 110.30607604980469\n",
            "Accuracy of train set: tensor(0.8196, device='cuda:0')\n",
            "Accuracy of validation set : tensor(0.8636, device='cuda:0')\n",
            "Iteration no: 96 loss = 107.58677673339844\n",
            "Accuracy of train set: tensor(0.8214, device='cuda:0')\n",
            "Accuracy of validation set : tensor(0.8750, device='cuda:0')\n",
            "Iteration no: 97 loss = 108.09864807128906\n",
            "Accuracy of train set: tensor(0.8306, device='cuda:0')\n",
            "Accuracy of validation set : tensor(0.8693, device='cuda:0')\n",
            "Iteration no: 98 loss = 111.56806182861328\n",
            "Accuracy of train set: tensor(0.8166, device='cuda:0')\n",
            "Accuracy of validation set : tensor(0.8864, device='cuda:0')\n",
            "Iteration no: 99 loss = 110.26434326171875\n",
            "Accuracy of train set: tensor(0.8100, device='cuda:0')\n",
            "Epoch   100: reducing learning rate of group 0 to 2.0000e-14.\n",
            "Accuracy of validation set : tensor(0.9148, device='cuda:0')\n",
            "Iteration no: 100 loss = 109.5379638671875\n",
            "Accuracy of train set: tensor(0.8223, device='cuda:0')\n",
            "Accuracy of validation set : tensor(0.8977, device='cuda:0')\n",
            "Iteration no: 101 loss = 108.26341247558594\n",
            "Accuracy of train set: tensor(0.8252, device='cuda:0')\n",
            "Accuracy of validation set : tensor(0.9034, device='cuda:0')\n",
            "Iteration no: 102 loss = 107.58777618408203\n",
            "Accuracy of train set: tensor(0.8311, device='cuda:0')\n",
            "Accuracy of validation set : tensor(0.8750, device='cuda:0')\n",
            "Iteration no: 103 loss = 114.04534149169922\n",
            "Accuracy of train set: tensor(0.8264, device='cuda:0')\n",
            "Accuracy of validation set : tensor(0.9034, device='cuda:0')\n",
            "Iteration no: 104 loss = 111.09053802490234\n",
            "Accuracy of train set: tensor(0.8229, device='cuda:0')\n",
            "Accuracy of validation set : tensor(0.8807, device='cuda:0')\n",
            "Iteration no: 105 loss = 111.4753646850586\n",
            "Accuracy of train set: tensor(0.8143, device='cuda:0')\n",
            "Accuracy of validation set : tensor(0.8977, device='cuda:0')\n",
            "Iteration no: 106 loss = 108.710205078125\n",
            "Accuracy of train set: tensor(0.8214, device='cuda:0')\n",
            "Accuracy of validation set : tensor(0.9318, device='cuda:0')\n",
            "Iteration no: 107 loss = 110.07797241210938\n",
            "Accuracy of train set: tensor(0.8208, device='cuda:0')\n",
            "Accuracy of validation set : tensor(0.9148, device='cuda:0')\n",
            "Iteration no: 108 loss = 114.10176086425781\n",
            "Accuracy of train set: tensor(0.8163, device='cuda:0')\n",
            "Accuracy of validation set : tensor(0.9148, device='cuda:0')\n",
            "Iteration no: 109 loss = 105.49524688720703\n",
            "Accuracy of train set: tensor(0.8288, device='cuda:0')\n",
            "Accuracy of validation set : tensor(0.8523, device='cuda:0')\n",
            "Iteration no: 110 loss = 109.44827270507812\n",
            "Accuracy of train set: tensor(0.8273, device='cuda:0')\n",
            "Accuracy of validation set : tensor(0.8864, device='cuda:0')\n",
            "Iteration no: 111 loss = 109.27494049072266\n",
            "Accuracy of train set: tensor(0.8190, device='cuda:0')\n",
            "Accuracy of validation set : tensor(0.9091, device='cuda:0')\n",
            "Iteration no: 112 loss = 109.34040832519531\n",
            "Accuracy of train set: tensor(0.8219, device='cuda:0')\n",
            "Accuracy of validation set : tensor(0.8920, device='cuda:0')\n",
            "Iteration no: 113 loss = 110.63117980957031\n",
            "Accuracy of train set: tensor(0.8196, device='cuda:0')\n",
            "Accuracy of validation set : tensor(0.8864, device='cuda:0')\n",
            "Iteration no: 114 loss = 114.76686096191406\n",
            "Accuracy of train set: tensor(0.8148, device='cuda:0')\n",
            "Accuracy of validation set : tensor(0.8920, device='cuda:0')\n",
            "Iteration no: 115 loss = 109.38688659667969\n",
            "Accuracy of train set: tensor(0.8154, device='cuda:0')\n",
            "Accuracy of validation set : tensor(0.9091, device='cuda:0')\n",
            "Iteration no: 116 loss = 112.57305145263672\n",
            "Accuracy of train set: tensor(0.8157, device='cuda:0')\n",
            "Accuracy of validation set : tensor(0.9091, device='cuda:0')\n",
            "Iteration no: 117 loss = 104.3467788696289\n",
            "Accuracy of train set: tensor(0.8366, device='cuda:0')\n",
            "Accuracy of validation set : tensor(0.9261, device='cuda:0')\n",
            "Iteration no: 118 loss = 106.15068817138672\n",
            "Accuracy of train set: tensor(0.8345, device='cuda:0')\n",
            "Accuracy of validation set : tensor(0.8977, device='cuda:0')\n",
            "Iteration no: 119 loss = 106.93739318847656\n",
            "Accuracy of train set: tensor(0.8217, device='cuda:0')\n",
            "Accuracy of validation set : tensor(0.8693, device='cuda:0')\n"
          ],
          "name": "stdout"
        },
        {
          "output_type": "display_data",
          "data": {
            "image/png": "[encoded data removed]",
            "text/plain": [
              "<Figure size 432x288 with 1 Axes>"
            ]
          },
          "metadata": {
            "tags": [],
            "needs_background": "light"
          }
        }
      ]
    },
    {
      "cell_type": "code",
      "metadata": {
        "id": "YiT0bOYYlOhp",
        "colab_type": "code",
        "colab": {}
      },
      "source": [
        "torch.save(model, 'drive/My Drive/Colab Notebooks/ITSP/gest_full_vgg19.pth')"
      ],
      "execution_count": 17,
      "outputs": []
    },
    {
      "cell_type": "code",
      "metadata": {
        "id": "ZF7qlKo8rYM6",
        "colab_type": "code",
        "colab": {}
      },
      "source": [
        ""
      ],
      "execution_count": 17,
      "outputs": []
    }
  ]
}