{
 "cells": [
  {
   "cell_type": "code",
   "execution_count": null,
   "metadata": {
    "colab": {},
    "colab_type": "code",
    "id": "MHmtfSAGlOg8"
   },
   "outputs": [],
   "source": [
    "import sys\n",
    "import os\n",
    "import torch\n",
    "import cv2 as cv\n",
    "import numpy as np\n",
    "import torchvision\n",
    "from torch import nn, optim\n",
    "import torch.nn.functional as F\n",
    "import torch.utils.data\n",
    "import torchvision.datasets as dset\n",
    "import torchvision.utils as vutils\n",
    "from torch.utils.data import DataLoader\n",
    "from torch.autograd.variable import Variable\n",
    "from torchvision import transforms, datasets\n",
    "import matplotlib.pyplot as plt\n",
    "import random\n",
    "from torch.utils.data.sampler import SubsetRandomSampler\n",
    "from skimage.io import imread, imshow\n",
    "from skimage.transform import resize\n",
    "from skimage.feature import hog\n",
    "from skimage import exposure\n"
   ]
  },
  {
   "cell_type": "code",
   "execution_count": null,
   "metadata": {
    "colab": {
     "base_uri": "https://localhost:8080/",
     "height": 34
    },
    "colab_type": "code",
    "id": "LNQycbAQl5YO",
    "outputId": "4457ed5e-ec43-4932-8f42-50a520c32687"
   },
   "outputs": [
    {
     "name": "stdout",
     "output_type": "stream",
     "text": [
      "Drive already mounted at /content/drive; to attempt to forcibly remount, call drive.mount(\"/content/drive\", force_remount=True).\n"
     ]
    }
   ],
   "source": [
    "from google.colab import drive\n",
    "drive.mount('/content/drive')"
   ]
  },
  {
   "cell_type": "code",
   "execution_count": null,
   "metadata": {
    "colab": {
     "base_uri": "https://localhost:8080/",
     "height": 101
    },
    "colab_type": "code",
    "id": "ci8JUQWulOhB",
    "outputId": "888eeae0-1c58-4608-a303-ff83fd77d34d"
   },
   "outputs": [
    {
     "name": "stdout",
     "output_type": "stream",
     "text": [
      "3.6.9 (default, Apr 18 2020, 01:56:04) \n",
      "[GCC 8.4.0]\n",
      "10.1\n",
      "1\n",
      "True\n"
     ]
    }
   ],
   "source": [
    "#Using GPU\n",
    "print(sys.version)\n",
    "device = 'cuda'\n",
    "#Checking for GPU\n",
    "print(torch.version.cuda)\n",
    "print(torch.cuda.device_count())\n",
    "print(torch.cuda.is_available())"
   ]
  },
  {
   "cell_type": "code",
   "execution_count": null,
   "metadata": {
    "colab": {
     "base_uri": "https://localhost:8080/",
     "height": 50
    },
    "colab_type": "code",
    "id": "cV-uM0FAlOhE",
    "outputId": "a34a8d9e-dc3a-4b2d-dee6-1be8daa49de1"
   },
   "outputs": [
    {
     "name": "stdout",
     "output_type": "stream",
     "text": [
      "{'paper': 0, 'scissors': 1, 'rock': 2}\n",
      "{0: 'paper', 1: 'scissors', 2: 'rock'}\n"
     ]
    }
   ],
   "source": [
    "lookup = dict()\n",
    "reverselookup = dict()\n",
    "\n",
    "count = 0\n",
    "\n",
    "for j in os.listdir('drive/My Drive/Colab Notebooks/ITSP/gamedata/'):\n",
    "    if not j.startswith('.'):\n",
    "        lookup[j] = count\n",
    "        reverselookup[count] = j\n",
    "        count += 1\n",
    "        \n",
    "print(lookup)\n",
    "print(reverselookup)"
   ]
  },
  {
   "cell_type": "code",
   "execution_count": null,
   "metadata": {
    "colab": {
     "base_uri": "https://localhost:8080/",
     "height": 319
    },
    "colab_type": "code",
    "id": "hr7Fpf9ClOhH",
    "outputId": "698d750a-cd71-4948-8f4d-8778cbf6cf79"
   },
   "outputs": [
    {
     "name": "stdout",
     "output_type": "stream",
     "text": [
      "Dataset ImageFolder\n",
      "    Number of datapoints: 2990\n",
      "    Root location: drive/My Drive/Colab Notebooks/ITSP/gamedata\n",
      "    StandardTransform\n",
      "Transform: Compose(\n",
      "               Resize(size=256, interpolation=PIL.Image.BILINEAR)\n",
      "               RandomResizedCrop(size=(256, 256), scale=(0.85, 1.0), ratio=(0.75, 1.3333), interpolation=PIL.Image.BILINEAR)\n",
      "               RandomRotation(degrees=(-15, 15), resample=False, expand=False)\n",
      "               ColorJitter(brightness=None, contrast=None, saturation=None, hue=None)\n",
      "               RandomHorizontalFlip(p=0.4)\n",
      "               Resize(size=224, interpolation=PIL.Image.BILINEAR)\n",
      "               ToTensor()\n",
      "               Normalize(mean=[0.485, 0.456, 0.406], std=[0.229, 0.224, 0.225])\n",
      "           )\n",
      "Size of dataset is:  2990\n",
      "Split value:  149\n",
      "178\n",
      "10\n"
     ]
    }
   ],
   "source": [
    "x_data = []\n",
    "y_data = []\n",
    "datacount = 0\n",
    "image_size = 256\n",
    "\n",
    "dataset = dset.ImageFolder(root = 'drive/My Drive/Colab Notebooks/ITSP/gamedata', \n",
    "                transform = \n",
    "                transforms.Compose([\n",
    "                transforms.Resize(image_size),\n",
    "                transforms.RandomResizedCrop(size=256, scale=(0.85, 1.0)),\n",
    "                transforms.RandomRotation(degrees=15),\n",
    "                transforms.ColorJitter(),\n",
    "                transforms.RandomHorizontalFlip(0.4),\n",
    "                transforms.Resize(size=224),  # Image net standards\n",
    "                transforms.ToTensor(),\n",
    "                transforms.Normalize([0.485, 0.456, 0.406],\n",
    "                                     [0.229, 0.224, 0.225])  # Imagenet standards\n",
    "                #transforms.ToTensor(), \n",
    "                #transforms.Normalize((0.5, 0.5, 0.5), (0.5, 0.5, 0.5))\n",
    "                ]))\n",
    "\n",
    "print(dataset)\n",
    "\n",
    "batch = 16\n",
    "random_seed = random.randint(1, 100)\n",
    "\n",
    "dataset_size = len(dataset)\n",
    "split = int(0.05*dataset_size)\n",
    "print('Size of dataset is: ', dataset_size)\n",
    "print('Split value: ', split)\n",
    "indices = list(range(dataset_size))\n",
    "\n",
    "np.random.seed(random_seed)\n",
    "np.random.shuffle(indices)\n",
    "\n",
    "train_indices, val_indices = indices[split:], indices[:split]\n",
    "\n",
    "# Creating PT data samplers and loaders:\n",
    "train_sampler = SubsetRandomSampler(train_indices)\n",
    "valid_sampler = SubsetRandomSampler(val_indices)\n",
    "\n",
    "train_loader = torch.utils.data.DataLoader(dataset, batch_size=batch, sampler=train_sampler,\n",
    "                                            num_workers = 2)\n",
    "valid_loader = torch.utils.data.DataLoader(dataset, batch_size=batch, sampler=valid_sampler,\n",
    "                                            num_workers = 2)\n",
    "\n",
    "print(len(train_loader))\n",
    "print(len(valid_loader))\n",
    "\n",
    "\n",
    "#for image, label in train_loader:\n",
    "    #print(label)"
   ]
  },
  {
   "cell_type": "code",
   "execution_count": null,
   "metadata": {
    "colab": {
     "base_uri": "https://localhost:8080/",
     "height": 34
    },
    "colab_type": "code",
    "id": "TrB04PSAlOhK",
    "outputId": "27807d9e-c8f4-48f7-d923-bdf0ad7bb97b"
   },
   "outputs": [
    {
     "data": {
      "text/plain": [
       "(torch.Size([16, 3, 224, 224]), torch.Size([16]))"
      ]
     },
     "execution_count": 9,
     "metadata": {
      "tags": []
     },
     "output_type": "execute_result"
    }
   ],
   "source": [
    "# Iterate through the dataloader once\n",
    "trainiter = iter(train_loader)\n",
    "features, labels = next(trainiter)\n",
    "features.shape, labels.shape"
   ]
  },
  {
   "cell_type": "code",
   "execution_count": null,
   "metadata": {
    "colab": {
     "base_uri": "https://localhost:8080/",
     "height": 230
    },
    "colab_type": "code",
    "id": "x6Fr4KYYlOhN",
    "outputId": "8228c295-06e1-4234-cf54-64f9ae10a842"
   },
   "outputs": [
    {
     "name": "stdout",
     "output_type": "stream",
     "text": [
      "Image shape:  (256, 256)\n",
      "Number of gestures:  3\n",
      "Number of rows:  1\n"
     ]
    },
    {
     "data": {
      "text/plain": [
       "<matplotlib.image.AxesImage at 0x7fac9016a8d0>"
      ]
     },
     "execution_count": 12,
     "metadata": {
      "tags": []
     },
     "output_type": "execute_result"
    },
    {
     "data": {
      "image/png": "[encoded data removed]",
      "text/plain": [
       "<Figure size 432x288 with 1 Axes>"
      ]
     },
     "metadata": {
      "needs_background": "light",
      "tags": []
     },
     "output_type": "display_data"
    }
   ],
   "source": [
    "def get_image_shape():\n",
    "    img = cv.imread('drive/My Drive/Colab Notebooks/ITSP/gamedata/rock/1.jpg', 0)\n",
    "    return img.shape\n",
    "\n",
    "\n",
    "img_shape = get_image_shape()\n",
    "print('Image shape: ', img_shape)\n",
    "root = 'drive/My Drive/Colab Notebooks/ITSP/gamedata'\n",
    "gesture_data = os.listdir(root)\n",
    "num_g = len(gesture_data)\n",
    "print('Number of gestures: ', num_g)\n",
    "num_rows = 1 #int(num_g/4)\n",
    "\n",
    "#if(num_g%4):\n",
    "   #num_rows+=1\n",
    "\n",
    "print('Number of rows: ', num_rows)\n",
    "\n",
    "begin = 0\n",
    "final_img = None\n",
    "\n",
    "for i in range(num_rows):\n",
    "    row_img = None\n",
    "    for j in range(begin, begin+3):\n",
    "        if (j>= num_g):\n",
    "            img = np.zeros(img_shape, dtype = np.uint8)\n",
    "            #print('Image index: ', j, 'false')\n",
    "            \n",
    "        else:         \n",
    "            imgpath = root + '/' + reverselookup[j] + '/' + str(random.randint(1, 200)) + '.jpg'\n",
    "            img = cv.imread(imgpath, 0)\n",
    "            #if not np.any(img == None):\n",
    "                #print('Image index: ', j, 'true')\n",
    "            \n",
    "        if np.any(row_img == None):\n",
    "            row_img = img\n",
    "        else:\n",
    "            row_img = np.hstack((row_img, img))\n",
    "            \n",
    "    begin += 3\n",
    "    if np.any(final_img == None):\n",
    "            final_img = row_img\n",
    "    else:\n",
    "        final_img = np.vstack((final_img, row_img))  \n",
    "                        \n",
    "plt.imshow(final_img, cmap='gray')\n",
    "#cv.waitKey(0)\n",
    "#cv.destroyAllWindows()        "
   ]
  },
  {
   "cell_type": "code",
   "execution_count": null,
   "metadata": {
    "colab": {
     "base_uri": "https://localhost:8080/",
     "height": 145
    },
    "colab_type": "code",
    "id": "10-e-DTXlOhQ",
    "outputId": "d4c4223c-0f01-4f48-8417-8b167d0b8fed"
   },
   "outputs": [
    {
     "data": {
      "image/png": "[encoded data removed]",
      "text/plain": [
       "<Figure size 432x288 with 3 Axes>"
      ]
     },
     "metadata": {
      "needs_background": "light",
      "tags": []
     },
     "output_type": "display_data"
    }
   ],
   "source": [
    "gestures = []\n",
    "titles = []\n",
    "\n",
    "for i in range(num_g):\n",
    "    imgpath = root + '/' + reverselookup[i] + '/' + str(random.randint(1, 1000)) + '.jpg'\n",
    "    img = cv.imread(imgpath, 0)\n",
    "    gestures.append(img)\n",
    "    titles.append(reverselookup[i])\n",
    "    \n",
    "for i in range(num_g):\n",
    "    plt.subplot(1, 3, i+1)\n",
    "    plt.imshow(gestures[i], cmap='gray')\n",
    "    plt.title(titles[i])\n",
    "    plt.axis('off')"
   ]
  },
  {
   "cell_type": "code",
   "execution_count": null,
   "metadata": {
    "colab": {},
    "colab_type": "code",
    "id": "KzO_7weRlOhT"
   },
   "outputs": [],
   "source": [
    "from torchvision import models\n",
    "model = models.vgg16(pretrained=True)\n",
    "for param in model.parameters():\n",
    "    param.requires_grad = False"
   ]
  },
  {
   "cell_type": "code",
   "execution_count": null,
   "metadata": {
    "colab": {
     "base_uri": "https://localhost:8080/",
     "height": 773
    },
    "colab_type": "code",
    "id": "aVno7LbllOhW",
    "outputId": "08a924e0-96b9-496e-878b-0cd4ed2a4b78"
   },
   "outputs": [
    {
     "name": "stdout",
     "output_type": "stream",
     "text": [
      "VGG(\n",
      "  (features): Sequential(\n",
      "    (0): Conv2d(3, 64, kernel_size=(3, 3), stride=(1, 1), padding=(1, 1))\n",
      "    (1): ReLU(inplace=True)\n",
      "    (2): Conv2d(64, 64, kernel_size=(3, 3), stride=(1, 1), padding=(1, 1))\n",
      "    (3): ReLU(inplace=True)\n",
      "    (4): MaxPool2d(kernel_size=2, stride=2, padding=0, dilation=1, ceil_mode=False)\n",
      "    (5): Conv2d(64, 128, kernel_size=(3, 3), stride=(1, 1), padding=(1, 1))\n",
      "    (6): ReLU(inplace=True)\n",
      "    (7): Conv2d(128, 128, kernel_size=(3, 3), stride=(1, 1), padding=(1, 1))\n",
      "    (8): ReLU(inplace=True)\n",
      "    (9): MaxPool2d(kernel_size=2, stride=2, padding=0, dilation=1, ceil_mode=False)\n",
      "    (10): Conv2d(128, 256, kernel_size=(3, 3), stride=(1, 1), padding=(1, 1))\n",
      "    (11): ReLU(inplace=True)\n",
      "    (12): Conv2d(256, 256, kernel_size=(3, 3), stride=(1, 1), padding=(1, 1))\n",
      "    (13): ReLU(inplace=True)\n",
      "    (14): Conv2d(256, 256, kernel_size=(3, 3), stride=(1, 1), padding=(1, 1))\n",
      "    (15): ReLU(inplace=True)\n",
      "    (16): MaxPool2d(kernel_size=2, stride=2, padding=0, dilation=1, ceil_mode=False)\n",
      "    (17): Conv2d(256, 512, kernel_size=(3, 3), stride=(1, 1), padding=(1, 1))\n",
      "    (18): ReLU(inplace=True)\n",
      "    (19): Conv2d(512, 512, kernel_size=(3, 3), stride=(1, 1), padding=(1, 1))\n",
      "    (20): ReLU(inplace=True)\n",
      "    (21): Conv2d(512, 512, kernel_size=(3, 3), stride=(1, 1), padding=(1, 1))\n",
      "    (22): ReLU(inplace=True)\n",
      "    (23): MaxPool2d(kernel_size=2, stride=2, padding=0, dilation=1, ceil_mode=False)\n",
      "    (24): Conv2d(512, 512, kernel_size=(3, 3), stride=(1, 1), padding=(1, 1))\n",
      "    (25): ReLU(inplace=True)\n",
      "    (26): Conv2d(512, 512, kernel_size=(3, 3), stride=(1, 1), padding=(1, 1))\n",
      "    (27): ReLU(inplace=True)\n",
      "    (28): Conv2d(512, 512, kernel_size=(3, 3), stride=(1, 1), padding=(1, 1))\n",
      "    (29): ReLU(inplace=True)\n",
      "    (30): MaxPool2d(kernel_size=2, stride=2, padding=0, dilation=1, ceil_mode=False)\n",
      "  )\n",
      "  (avgpool): AdaptiveAvgPool2d(output_size=(7, 7))\n",
      "  (classifier): Sequential(\n",
      "    (0): Linear(in_features=25088, out_features=4096, bias=True)\n",
      "    (1): ReLU(inplace=True)\n",
      "    (2): Dropout(p=0.5, inplace=False)\n",
      "    (3): Linear(in_features=4096, out_features=4096, bias=True)\n",
      "    (4): ReLU(inplace=True)\n",
      "    (5): Dropout(p=0.5, inplace=False)\n",
      "    (6): Linear(in_features=4096, out_features=1000, bias=True)\n",
      "  )\n",
      ")\n"
     ]
    }
   ],
   "source": [
    "torch.save(model, 'drive/My Drive/Colab Notebooks/ITSP/weights.pth')\n",
    "print(model)"
   ]
  },
  {
   "cell_type": "code",
   "execution_count": null,
   "metadata": {
    "colab": {
     "base_uri": "https://localhost:8080/",
     "height": 924
    },
    "colab_type": "code",
    "id": "VB9MoHJDlOhZ",
    "outputId": "09fccb01-23e3-4e5c-84bb-fc76fbf51837"
   },
   "outputs": [
    {
     "name": "stdout",
     "output_type": "stream",
     "text": [
      "VGG(\n",
      "  (features): Sequential(\n",
      "    (0): Conv2d(3, 64, kernel_size=(3, 3), stride=(1, 1), padding=(1, 1))\n",
      "    (1): ReLU(inplace=True)\n",
      "    (2): Conv2d(64, 64, kernel_size=(3, 3), stride=(1, 1), padding=(1, 1))\n",
      "    (3): ReLU(inplace=True)\n",
      "    (4): MaxPool2d(kernel_size=2, stride=2, padding=0, dilation=1, ceil_mode=False)\n",
      "    (5): Conv2d(64, 128, kernel_size=(3, 3), stride=(1, 1), padding=(1, 1))\n",
      "    (6): ReLU(inplace=True)\n",
      "    (7): Conv2d(128, 128, kernel_size=(3, 3), stride=(1, 1), padding=(1, 1))\n",
      "    (8): ReLU(inplace=True)\n",
      "    (9): MaxPool2d(kernel_size=2, stride=2, padding=0, dilation=1, ceil_mode=False)\n",
      "    (10): Conv2d(128, 256, kernel_size=(3, 3), stride=(1, 1), padding=(1, 1))\n",
      "    (11): ReLU(inplace=True)\n",
      "    (12): Conv2d(256, 256, kernel_size=(3, 3), stride=(1, 1), padding=(1, 1))\n",
      "    (13): ReLU(inplace=True)\n",
      "    (14): Conv2d(256, 256, kernel_size=(3, 3), stride=(1, 1), padding=(1, 1))\n",
      "    (15): ReLU(inplace=True)\n",
      "    (16): MaxPool2d(kernel_size=2, stride=2, padding=0, dilation=1, ceil_mode=False)\n",
      "    (17): Conv2d(256, 512, kernel_size=(3, 3), stride=(1, 1), padding=(1, 1))\n",
      "    (18): ReLU(inplace=True)\n",
      "    (19): Conv2d(512, 512, kernel_size=(3, 3), stride=(1, 1), padding=(1, 1))\n",
      "    (20): ReLU(inplace=True)\n",
      "    (21): Conv2d(512, 512, kernel_size=(3, 3), stride=(1, 1), padding=(1, 1))\n",
      "    (22): ReLU(inplace=True)\n",
      "    (23): MaxPool2d(kernel_size=2, stride=2, padding=0, dilation=1, ceil_mode=False)\n",
      "    (24): Conv2d(512, 512, kernel_size=(3, 3), stride=(1, 1), padding=(1, 1))\n",
      "    (25): ReLU(inplace=True)\n",
      "    (26): Conv2d(512, 512, kernel_size=(3, 3), stride=(1, 1), padding=(1, 1))\n",
      "    (27): ReLU(inplace=True)\n",
      "    (28): Conv2d(512, 512, kernel_size=(3, 3), stride=(1, 1), padding=(1, 1))\n",
      "    (29): ReLU(inplace=True)\n",
      "    (30): MaxPool2d(kernel_size=2, stride=2, padding=0, dilation=1, ceil_mode=False)\n",
      "  )\n",
      "  (avgpool): AdaptiveAvgPool2d(output_size=(7, 7))\n",
      "  (classifier): Sequential(\n",
      "    (0): Linear(in_features=25088, out_features=4096, bias=True)\n",
      "    (1): ReLU(inplace=True)\n",
      "    (2): Dropout(p=0.5, inplace=False)\n",
      "    (3): Linear(in_features=4096, out_features=4096, bias=True)\n",
      "    (4): ReLU(inplace=True)\n",
      "    (5): Dropout(p=0.5, inplace=False)\n",
      "    (6): Sequential(\n",
      "      (0): Linear(in_features=4096, out_features=256, bias=True)\n",
      "      (1): ReLU()\n",
      "      (2): Dropout(p=0.1, inplace=False)\n",
      "      (3): Linear(in_features=256, out_features=128, bias=True)\n",
      "      (4): ReLU()\n",
      "      (5): Dropout(p=0.1, inplace=False)\n",
      "      (6): Linear(in_features=128, out_features=3, bias=True)\n",
      "      (7): LogSoftmax()\n",
      "    )\n",
      "  )\n",
      ")\n"
     ]
    }
   ],
   "source": [
    "n_classes = 3\n",
    "\n",
    "model.classifier[6] = nn.Sequential(\n",
    "                      nn.Linear(4096, 256), \n",
    "                      nn.ReLU(), \n",
    "                      nn.Dropout(0.1),\n",
    "                      nn.Linear(256, 128), \n",
    "                      nn.ReLU(), \n",
    "                      nn.Dropout(0.1),\n",
    "                      nn.Linear(128, n_classes),                   \n",
    "                      nn.LogSoftmax(dim=1))\n",
    "\n",
    "print(model)"
   ]
  },
  {
   "cell_type": "code",
   "execution_count": null,
   "metadata": {
    "colab": {
     "base_uri": "https://localhost:8080/",
     "height": 50
    },
    "colab_type": "code",
    "id": "CYTxJ2w_lOhb",
    "outputId": "e1546eb1-15ed-425f-a763-9c00043f4379"
   },
   "outputs": [
    {
     "name": "stdout",
     "output_type": "stream",
     "text": [
      "135,342,659 total parameters\n",
      "1,082,115 trainable parameters.\n"
     ]
    }
   ],
   "source": [
    "total_params = sum(p.numel() for p in model.parameters())\n",
    "\n",
    "print(f'{total_params:,} total parameters')\n",
    "\n",
    "total_trainable = sum(p.numel() for p in model.parameters() if p.requires_grad)\n",
    "\n",
    "print(f'{total_trainable:,} trainable parameters.')"
   ]
  },
  {
   "cell_type": "code",
   "execution_count": null,
   "metadata": {
    "colab": {},
    "colab_type": "code",
    "id": "UvYn0mxHlOhe"
   },
   "outputs": [],
   "source": [
    "# Move to gpu\n",
    "model = model.to('cuda')\n",
    "# Distribute across 2 gpus\n",
    "model = nn.DataParallel(model)\n",
    "\n",
    "loss_func = F.cross_entropy\n",
    "optimizer = optim.Adam(model.parameters(), betas=(0.9, 0.999), lr = 0.002)\n"
   ]
  },
  {
   "cell_type": "code",
   "execution_count": null,
   "metadata": {
    "colab": {},
    "colab_type": "code",
    "id": "1Xov_0milOhh"
   },
   "outputs": [],
   "source": [
    "def accuracy(out, yb):\n",
    "    pred = torch.argmax(out, keepdim= False, dim=1)\n",
    "    return (pred == yb).float().mean() "
   ]
  },
  {
   "cell_type": "code",
   "execution_count": null,
   "metadata": {
    "colab": {},
    "colab_type": "code",
    "id": "y4K2vMYllOhk"
   },
   "outputs": [],
   "source": [
    "def fit(model, epochs, train_loader, valid_loader, opt):\n",
    "    losses = []\n",
    "    \n",
    "    for epoch in range(epochs):\n",
    "        train_loss =0\n",
    "        train_acc =0\n",
    "        model.train()\n",
    "        for xb, yb in train_loader:\n",
    "            xb =xb.to(device)\n",
    "            yb = yb.to(device)\n",
    "            pred = model(xb.float())\n",
    "            pred.to(device)\n",
    "            train_acc += accuracy(pred, yb)\n",
    "            loss = loss_func(pred, yb)\n",
    "            train_loss += loss\n",
    "            #back propogation\n",
    "            loss.backward()\n",
    "            opt.step()\n",
    "            opt.zero_grad()      \n",
    "\n",
    "        losses.append(train_loss)\n",
    "        print(\"Iteration no: \"+ str(epoch), \"loss = \"+str(losses[epoch].item()))\n",
    "        print(\"Accuracy of train set:\", train_acc/len(train_loader))\n",
    "        lr_scheduler.step(train_loss/len(train_loader))\n",
    "        \n",
    "        \n",
    "        model.eval()    \n",
    "        with torch.no_grad():\n",
    "            valid_acc=0\n",
    "            loss_valid = 0\n",
    "            for xb_valid, yb_valid in valid_loader:\n",
    "                xb_valid = xb_valid.to(device)\n",
    "                yb_valid = yb_valid.to(device)\n",
    "                pred_valid = model(xb_valid.float())\n",
    "                pred_valid.to(device)\n",
    "                valid_acc += accuracy(pred_valid, yb_valid)\n",
    "                loss_valid += loss_func(pred_valid, yb_valid)\n",
    "            print(\"Accuracy of validation set :\", valid_acc/len(valid_loader))\n",
    "\n",
    "    plt.plot(losses)\n",
    "    plt.ylabel(\"loss\")\n",
    "    plt.xlabel(\"iterations\")\n",
    "    plt.show()"
   ]
  },
  {
   "cell_type": "code",
   "execution_count": null,
   "metadata": {
    "colab": {
     "base_uri": "https://localhost:8080/",
     "height": 1000
    },
    "colab_type": "code",
    "id": "FRhPBGl2lOhm",
    "outputId": "0cb51e6f-2b86-4219-a4ae-2a6a16f610e8"
   },
   "outputs": [
    {
     "name": "stdout",
     "output_type": "stream",
     "text": [
      "Iteration no: 0 loss = 59.055267333984375\n",
      "Accuracy of train set: tensor(0.8690, device='cuda:0')\n",
      "Accuracy of validation set : tensor(0.9688, device='cuda:0')\n",
      "Iteration no: 1 loss = 34.66458511352539\n",
      "Accuracy of train set: tensor(0.9299, device='cuda:0')\n",
      "Accuracy of validation set : tensor(1., device='cuda:0')\n",
      "Iteration no: 2 loss = 32.35442352294922\n",
      "Accuracy of train set: tensor(0.9309, device='cuda:0')\n",
      "Accuracy of validation set : tensor(0.9812, device='cuda:0')\n",
      "Iteration no: 3 loss = 29.90633201599121\n",
      "Accuracy of train set: tensor(0.9372, device='cuda:0')\n",
      "Accuracy of validation set : tensor(0.9625, device='cuda:0')\n",
      "Iteration no: 4 loss = 27.51755142211914\n",
      "Accuracy of train set: tensor(0.9428, device='cuda:0')\n",
      "Accuracy of validation set : tensor(0.9812, device='cuda:0')\n",
      "Iteration no: 5 loss = 25.685136795043945\n",
      "Accuracy of train set: tensor(0.9470, device='cuda:0')\n",
      "Accuracy of validation set : tensor(0.9938, device='cuda:0')\n",
      "Iteration no: 6 loss = 24.978282928466797\n",
      "Accuracy of train set: tensor(0.9470, device='cuda:0')\n",
      "Accuracy of validation set : tensor(1., device='cuda:0')\n",
      "Iteration no: 7 loss = 22.834203720092773\n",
      "Accuracy of train set: tensor(0.9537, device='cuda:0')\n",
      "Accuracy of validation set : tensor(0.9738, device='cuda:0')\n",
      "Iteration no: 8 loss = 19.35867691040039\n",
      "Accuracy of train set: tensor(0.9614, device='cuda:0')\n",
      "Accuracy of validation set : tensor(0.9938, device='cuda:0')\n",
      "Iteration no: 9 loss = 23.003446578979492\n",
      "Accuracy of train set: tensor(0.9558, device='cuda:0')\n",
      "Accuracy of validation set : tensor(0.9875, device='cuda:0')\n",
      "Iteration no: 10 loss = 23.062978744506836\n",
      "Accuracy of train set: tensor(0.9485, device='cuda:0')\n",
      "Accuracy of validation set : tensor(0.9875, device='cuda:0')\n",
      "Iteration no: 11 loss = 19.036954879760742\n",
      "Accuracy of train set: tensor(0.9604, device='cuda:0')\n",
      "Accuracy of validation set : tensor(0.9750, device='cuda:0')\n",
      "Iteration no: 12 loss = 21.808786392211914\n",
      "Accuracy of train set: tensor(0.9575, device='cuda:0')\n",
      "Accuracy of validation set : tensor(0.9938, device='cuda:0')\n",
      "Iteration no: 13 loss = 22.58307647705078\n",
      "Accuracy of train set: tensor(0.9551, device='cuda:0')\n",
      "Accuracy of validation set : tensor(0.9800, device='cuda:0')\n",
      "Iteration no: 14 loss = 18.326059341430664\n",
      "Accuracy of train set: tensor(0.9652, device='cuda:0')\n",
      "Accuracy of validation set : tensor(1., device='cuda:0')\n",
      "Iteration no: 15 loss = 19.324934005737305\n",
      "Accuracy of train set: tensor(0.9597, device='cuda:0')\n",
      "Accuracy of validation set : tensor(0.9938, device='cuda:0')\n",
      "Iteration no: 16 loss = 22.629901885986328\n",
      "Accuracy of train set: tensor(0.9508, device='cuda:0')\n",
      "Accuracy of validation set : tensor(0.9625, device='cuda:0')\n",
      "Iteration no: 17 loss = 19.943727493286133\n",
      "Accuracy of train set: tensor(0.9636, device='cuda:0')\n",
      "Accuracy of validation set : tensor(0.9938, device='cuda:0')\n",
      "Iteration no: 18 loss = 20.02722930908203\n",
      "Accuracy of train set: tensor(0.9601, device='cuda:0')\n",
      "Accuracy of validation set : tensor(0.9875, device='cuda:0')\n",
      "Iteration no: 19 loss = 18.463390350341797\n",
      "Accuracy of train set: tensor(0.9642, device='cuda:0')\n",
      "Epoch    20: reducing learning rate of group 0 to 2.0000e-04.\n",
      "Accuracy of validation set : tensor(0.9938, device='cuda:0')\n",
      "Iteration no: 20 loss = 17.930212020874023\n",
      "Accuracy of train set: tensor(0.9663, device='cuda:0')\n",
      "Accuracy of validation set : tensor(0.9938, device='cuda:0')\n",
      "Iteration no: 21 loss = 16.416379928588867\n",
      "Accuracy of train set: tensor(0.9680, device='cuda:0')\n",
      "Accuracy of validation set : tensor(1., device='cuda:0')\n",
      "Iteration no: 22 loss = 13.957379341125488\n",
      "Accuracy of train set: tensor(0.9716, device='cuda:0')\n",
      "Accuracy of validation set : tensor(0.9938, device='cuda:0')\n",
      "Iteration no: 23 loss = 12.586519241333008\n",
      "Accuracy of train set: tensor(0.9744, device='cuda:0')\n",
      "Accuracy of validation set : tensor(0.9875, device='cuda:0')\n",
      "Iteration no: 24 loss = 16.66960906982422\n",
      "Accuracy of train set: tensor(0.9650, device='cuda:0')\n",
      "Accuracy of validation set : tensor(1., device='cuda:0')\n",
      "Iteration no: 25 loss = 14.087186813354492\n",
      "Accuracy of train set: tensor(0.9730, device='cuda:0')\n",
      "Accuracy of validation set : tensor(1., device='cuda:0')\n",
      "Iteration no: 26 loss = 13.203789710998535\n",
      "Accuracy of train set: tensor(0.9730, device='cuda:0')\n",
      "Accuracy of validation set : tensor(0.9938, device='cuda:0')\n",
      "Iteration no: 27 loss = 15.111141204833984\n",
      "Accuracy of train set: tensor(0.9684, device='cuda:0')\n",
      "Accuracy of validation set : tensor(1., device='cuda:0')\n",
      "Iteration no: 28 loss = 13.618307113647461\n",
      "Accuracy of train set: tensor(0.9698, device='cuda:0')\n",
      "Epoch    29: reducing learning rate of group 0 to 2.0000e-05.\n",
      "Accuracy of validation set : tensor(0.9938, device='cuda:0')\n",
      "Iteration no: 29 loss = 15.584819793701172\n",
      "Accuracy of train set: tensor(0.9709, device='cuda:0')\n",
      "Accuracy of validation set : tensor(1., device='cuda:0')\n",
      "Iteration no: 30 loss = 13.264633178710938\n",
      "Accuracy of train set: tensor(0.9733, device='cuda:0')\n",
      "Accuracy of validation set : tensor(0.9938, device='cuda:0')\n",
      "Iteration no: 31 loss = 12.354615211486816\n",
      "Accuracy of train set: tensor(0.9744, device='cuda:0')\n",
      "Accuracy of validation set : tensor(1., device='cuda:0')\n",
      "Iteration no: 32 loss = 14.025506019592285\n",
      "Accuracy of train set: tensor(0.9702, device='cuda:0')\n",
      "Accuracy of validation set : tensor(1., device='cuda:0')\n",
      "Iteration no: 33 loss = 12.676037788391113\n",
      "Accuracy of train set: tensor(0.9726, device='cuda:0')\n",
      "Accuracy of validation set : tensor(0.9875, device='cuda:0')\n",
      "Iteration no: 34 loss = 14.251526832580566\n",
      "Accuracy of train set: tensor(0.9716, device='cuda:0')\n",
      "Accuracy of validation set : tensor(1., device='cuda:0')\n",
      "Iteration no: 35 loss = 10.776586532592773\n",
      "Accuracy of train set: tensor(0.9761, device='cuda:0')\n",
      "Accuracy of validation set : tensor(0.9938, device='cuda:0')\n",
      "Iteration no: 36 loss = 12.305731773376465\n",
      "Accuracy of train set: tensor(0.9754, device='cuda:0')\n",
      "Accuracy of validation set : tensor(0.9938, device='cuda:0')\n",
      "Iteration no: 37 loss = 12.292317390441895\n",
      "Accuracy of train set: tensor(0.9723, device='cuda:0')\n",
      "Accuracy of validation set : tensor(1., device='cuda:0')\n",
      "Iteration no: 38 loss = 14.310286521911621\n",
      "Accuracy of train set: tensor(0.9719, device='cuda:0')\n",
      "Accuracy of validation set : tensor(0.9812, device='cuda:0')\n",
      "Iteration no: 39 loss = 12.615878105163574\n",
      "Accuracy of train set: tensor(0.9747, device='cuda:0')\n",
      "Accuracy of validation set : tensor(0.9938, device='cuda:0')\n",
      "Iteration no: 40 loss = 14.800580978393555\n",
      "Accuracy of train set: tensor(0.9726, device='cuda:0')\n",
      "Epoch    41: reducing learning rate of group 0 to 2.0000e-06.\n",
      "Accuracy of validation set : tensor(0.9938, device='cuda:0')\n",
      "Iteration no: 41 loss = 14.831351280212402\n",
      "Accuracy of train set: tensor(0.9685, device='cuda:0')\n",
      "Accuracy of validation set : tensor(1., device='cuda:0')\n",
      "Iteration no: 42 loss = 13.81429672241211\n",
      "Accuracy of train set: tensor(0.9677, device='cuda:0')\n",
      "Accuracy of validation set : tensor(0.9875, device='cuda:0')\n",
      "Iteration no: 43 loss = 11.916949272155762\n",
      "Accuracy of train set: tensor(0.9754, device='cuda:0')\n",
      "Accuracy of validation set : tensor(1., device='cuda:0')\n",
      "Iteration no: 44 loss = 15.368285179138184\n",
      "Accuracy of train set: tensor(0.9667, device='cuda:0')\n",
      "Accuracy of validation set : tensor(0.9938, device='cuda:0')\n",
      "Iteration no: 45 loss = 15.954397201538086\n",
      "Accuracy of train set: tensor(0.9712, device='cuda:0')\n",
      "Epoch    46: reducing learning rate of group 0 to 2.0000e-07.\n",
      "Accuracy of validation set : tensor(0.9938, device='cuda:0')\n",
      "Iteration no: 46 loss = 15.489445686340332\n",
      "Accuracy of train set: tensor(0.9737, device='cuda:0')\n",
      "Accuracy of validation set : tensor(1., device='cuda:0')\n",
      "Iteration no: 47 loss = 15.330423355102539\n",
      "Accuracy of train set: tensor(0.9702, device='cuda:0')\n",
      "Accuracy of validation set : tensor(0.9938, device='cuda:0')\n",
      "Iteration no: 48 loss = 14.764945983886719\n",
      "Accuracy of train set: tensor(0.9726, device='cuda:0')\n",
      "Accuracy of validation set : tensor(0.9875, device='cuda:0')\n",
      "Iteration no: 49 loss = 14.137104988098145\n",
      "Accuracy of train set: tensor(0.9695, device='cuda:0')\n",
      "Accuracy of validation set : tensor(0.9875, device='cuda:0')\n",
      "Iteration no: 50 loss = 14.226276397705078\n",
      "Accuracy of train set: tensor(0.9709, device='cuda:0')\n",
      "Epoch    51: reducing learning rate of group 0 to 2.0000e-08.\n",
      "Accuracy of validation set : tensor(0.9938, device='cuda:0')\n",
      "Iteration no: 51 loss = 14.784188270568848\n",
      "Accuracy of train set: tensor(0.9709, device='cuda:0')\n",
      "Accuracy of validation set : tensor(0.9875, device='cuda:0')\n",
      "Iteration no: 52 loss = 13.166980743408203\n",
      "Accuracy of train set: tensor(0.9730, device='cuda:0')\n",
      "Accuracy of validation set : tensor(0.9875, device='cuda:0')\n",
      "Iteration no: 53 loss = 13.58326244354248\n",
      "Accuracy of train set: tensor(0.9733, device='cuda:0')\n",
      "Accuracy of validation set : tensor(1., device='cuda:0')\n",
      "Iteration no: 54 loss = 13.345800399780273\n",
      "Accuracy of train set: tensor(0.9702, device='cuda:0')\n",
      "Accuracy of validation set : tensor(0.9875, device='cuda:0')\n",
      "Iteration no: 55 loss = 14.99991512298584\n",
      "Accuracy of train set: tensor(0.9691, device='cuda:0')\n",
      "Epoch    56: reducing learning rate of group 0 to 2.0000e-09.\n",
      "Accuracy of validation set : tensor(0.9938, device='cuda:0')\n",
      "Iteration no: 56 loss = 12.574185371398926\n",
      "Accuracy of train set: tensor(0.9773, device='cuda:0')\n",
      "Accuracy of validation set : tensor(0.9938, device='cuda:0')\n",
      "Iteration no: 57 loss = 13.465429306030273\n",
      "Accuracy of train set: tensor(0.9744, device='cuda:0')\n",
      "Accuracy of validation set : tensor(0.9875, device='cuda:0')\n",
      "Iteration no: 58 loss = 14.602352142333984\n",
      "Accuracy of train set: tensor(0.9726, device='cuda:0')\n",
      "Accuracy of validation set : tensor(0.9875, device='cuda:0')\n",
      "Iteration no: 59 loss = 12.943758010864258\n",
      "Accuracy of train set: tensor(0.9751, device='cuda:0')\n",
      "Accuracy of validation set : tensor(0.9875, device='cuda:0')\n",
      "Iteration no: 60 loss = 10.967263221740723\n",
      "Accuracy of train set: tensor(0.9814, device='cuda:0')\n",
      "Epoch    61: reducing learning rate of group 0 to 2.0000e-10.\n",
      "Accuracy of validation set : tensor(0.9938, device='cuda:0')\n",
      "Iteration no: 61 loss = 12.144742965698242\n",
      "Accuracy of train set: tensor(0.9765, device='cuda:0')\n",
      "Accuracy of validation set : tensor(1., device='cuda:0')\n",
      "Iteration no: 62 loss = 13.667038917541504\n",
      "Accuracy of train set: tensor(0.9712, device='cuda:0')\n",
      "Accuracy of validation set : tensor(1., device='cuda:0')\n",
      "Iteration no: 63 loss = 14.803308486938477\n",
      "Accuracy of train set: tensor(0.9677, device='cuda:0')\n",
      "Accuracy of validation set : tensor(1., device='cuda:0')\n",
      "Iteration no: 64 loss = 11.583722114562988\n",
      "Accuracy of train set: tensor(0.9782, device='cuda:0')\n",
      "Accuracy of validation set : tensor(0.9875, device='cuda:0')\n",
      "Iteration no: 65 loss = 13.121965408325195\n",
      "Accuracy of train set: tensor(0.9698, device='cuda:0')\n",
      "Epoch    66: reducing learning rate of group 0 to 2.0000e-11.\n",
      "Accuracy of validation set : tensor(0.9938, device='cuda:0')\n",
      "Iteration no: 66 loss = 13.986183166503906\n",
      "Accuracy of train set: tensor(0.9726, device='cuda:0')\n",
      "Accuracy of validation set : tensor(0.9938, device='cuda:0')\n",
      "Iteration no: 67 loss = 13.187784194946289\n",
      "Accuracy of train set: tensor(0.9737, device='cuda:0')\n",
      "Accuracy of validation set : tensor(0.9938, device='cuda:0')\n",
      "Iteration no: 68 loss = 13.81048583984375\n",
      "Accuracy of train set: tensor(0.9758, device='cuda:0')\n",
      "Accuracy of validation set : tensor(0.9875, device='cuda:0')\n",
      "Iteration no: 69 loss = 14.304787635803223\n",
      "Accuracy of train set: tensor(0.9726, device='cuda:0')\n",
      "Accuracy of validation set : tensor(1., device='cuda:0')\n",
      "Iteration no: 70 loss = 12.276034355163574\n",
      "Accuracy of train set: tensor(0.9726, device='cuda:0')\n",
      "Epoch    71: reducing learning rate of group 0 to 2.0000e-12.\n",
      "Accuracy of validation set : tensor(0.9875, device='cuda:0')\n",
      "Iteration no: 71 loss = 13.466354370117188\n",
      "Accuracy of train set: tensor(0.9685, device='cuda:0')\n",
      "Accuracy of validation set : tensor(1., device='cuda:0')\n",
      "Iteration no: 72 loss = 14.71171760559082\n",
      "Accuracy of train set: tensor(0.9684, device='cuda:0')\n",
      "Accuracy of validation set : tensor(0.9938, device='cuda:0')\n",
      "Iteration no: 73 loss = 12.858772277832031\n",
      "Accuracy of train set: tensor(0.9740, device='cuda:0')\n",
      "Accuracy of validation set : tensor(0.9938, device='cuda:0')\n",
      "Iteration no: 74 loss = 14.994820594787598\n",
      "Accuracy of train set: tensor(0.9693, device='cuda:0')\n",
      "Accuracy of validation set : tensor(0.9875, device='cuda:0')\n",
      "Iteration no: 75 loss = 13.577856063842773\n",
      "Accuracy of train set: tensor(0.9723, device='cuda:0')\n",
      "Epoch    76: reducing learning rate of group 0 to 2.0000e-13.\n",
      "Accuracy of validation set : tensor(0.9938, device='cuda:0')\n",
      "Iteration no: 76 loss = 14.738216400146484\n",
      "Accuracy of train set: tensor(0.9709, device='cuda:0')\n",
      "Accuracy of validation set : tensor(0.9938, device='cuda:0')\n",
      "Iteration no: 77 loss = 13.58726692199707\n",
      "Accuracy of train set: tensor(0.9723, device='cuda:0')\n",
      "Accuracy of validation set : tensor(0.9938, device='cuda:0')\n",
      "Iteration no: 78 loss = 12.87893295288086\n",
      "Accuracy of train set: tensor(0.9733, device='cuda:0')\n",
      "Accuracy of validation set : tensor(0.9875, device='cuda:0')\n",
      "Iteration no: 79 loss = 14.366507530212402\n",
      "Accuracy of train set: tensor(0.9702, device='cuda:0')\n",
      "Accuracy of validation set : tensor(0.9938, device='cuda:0')\n",
      "Iteration no: 80 loss = 12.311827659606934\n",
      "Accuracy of train set: tensor(0.9726, device='cuda:0')\n",
      "Epoch    81: reducing learning rate of group 0 to 2.0000e-14.\n",
      "Accuracy of validation set : tensor(1., device='cuda:0')\n",
      "Iteration no: 81 loss = 14.964339256286621\n",
      "Accuracy of train set: tensor(0.9737, device='cuda:0')\n",
      "Accuracy of validation set : tensor(0.9938, device='cuda:0')\n",
      "Iteration no: 82 loss = 17.020282745361328\n",
      "Accuracy of train set: tensor(0.9680, device='cuda:0')\n",
      "Accuracy of validation set : tensor(1., device='cuda:0')\n",
      "Iteration no: 83 loss = 14.54089069366455\n",
      "Accuracy of train set: tensor(0.9712, device='cuda:0')\n",
      "Accuracy of validation set : tensor(1., device='cuda:0')\n",
      "Iteration no: 84 loss = 14.118054389953613\n",
      "Accuracy of train set: tensor(0.9680, device='cuda:0')\n",
      "Accuracy of validation set : tensor(1., device='cuda:0')\n",
      "Iteration no: 85 loss = 13.321893692016602\n",
      "Accuracy of train set: tensor(0.9713, device='cuda:0')\n",
      "Accuracy of validation set : tensor(0.9875, device='cuda:0')\n",
      "Iteration no: 86 loss = 12.598655700683594\n",
      "Accuracy of train set: tensor(0.9726, device='cuda:0')\n",
      "Accuracy of validation set : tensor(0.9938, device='cuda:0')\n",
      "Iteration no: 87 loss = 12.18082332611084\n",
      "Accuracy of train set: tensor(0.9766, device='cuda:0')\n",
      "Accuracy of validation set : tensor(0.9938, device='cuda:0')\n",
      "Iteration no: 88 loss = 12.236873626708984\n",
      "Accuracy of train set: tensor(0.9730, device='cuda:0')\n",
      "Accuracy of validation set : tensor(0.9738, device='cuda:0')\n",
      "Iteration no: 89 loss = 12.962450981140137\n",
      "Accuracy of train set: tensor(0.9737, device='cuda:0')\n",
      "Accuracy of validation set : tensor(0.9875, device='cuda:0')\n",
      "Iteration no: 90 loss = 13.427327156066895\n",
      "Accuracy of train set: tensor(0.9719, device='cuda:0')\n",
      "Accuracy of validation set : tensor(1., device='cuda:0')\n",
      "Iteration no: 91 loss = 12.65377426147461\n",
      "Accuracy of train set: tensor(0.9737, device='cuda:0')\n",
      "Accuracy of validation set : tensor(1., device='cuda:0')\n",
      "Iteration no: 92 loss = 13.627151489257812\n",
      "Accuracy of train set: tensor(0.9740, device='cuda:0')\n",
      "Accuracy of validation set : tensor(0.9812, device='cuda:0')\n",
      "Iteration no: 93 loss = 12.349224090576172\n",
      "Accuracy of train set: tensor(0.9740, device='cuda:0')\n",
      "Accuracy of validation set : tensor(1., device='cuda:0')\n",
      "Iteration no: 94 loss = 15.129328727722168\n",
      "Accuracy of train set: tensor(0.9674, device='cuda:0')\n",
      "Accuracy of validation set : tensor(0.9938, device='cuda:0')\n",
      "Iteration no: 95 loss = 13.325333595275879\n",
      "Accuracy of train set: tensor(0.9733, device='cuda:0')\n",
      "Accuracy of validation set : tensor(0.9938, device='cuda:0')\n",
      "Iteration no: 96 loss = 14.247776985168457\n",
      "Accuracy of train set: tensor(0.9712, device='cuda:0')\n",
      "Accuracy of validation set : tensor(1., device='cuda:0')\n",
      "Iteration no: 97 loss = 11.700539588928223\n",
      "Accuracy of train set: tensor(0.9786, device='cuda:0')\n",
      "Accuracy of validation set : tensor(0.9938, device='cuda:0')\n",
      "Iteration no: 98 loss = 15.413640975952148\n",
      "Accuracy of train set: tensor(0.9698, device='cuda:0')\n",
      "Accuracy of validation set : tensor(0.9875, device='cuda:0')\n",
      "Iteration no: 99 loss = 13.894453048706055\n",
      "Accuracy of train set: tensor(0.9713, device='cuda:0')\n",
      "Accuracy of validation set : tensor(1., device='cuda:0')\n",
      "Iteration no: 100 loss = 14.812804222106934\n",
      "Accuracy of train set: tensor(0.9702, device='cuda:0')\n",
      "Accuracy of validation set : tensor(1., device='cuda:0')\n",
      "Iteration no: 101 loss = 12.474893569946289\n",
      "Accuracy of train set: tensor(0.9769, device='cuda:0')\n",
      "Accuracy of validation set : tensor(0.9938, device='cuda:0')\n",
      "Iteration no: 102 loss = 13.86705493927002\n",
      "Accuracy of train set: tensor(0.9719, device='cuda:0')\n",
      "Accuracy of validation set : tensor(0.9938, device='cuda:0')\n",
      "Iteration no: 103 loss = 12.448979377746582\n",
      "Accuracy of train set: tensor(0.9744, device='cuda:0')\n",
      "Accuracy of validation set : tensor(0.9875, device='cuda:0')\n",
      "Iteration no: 104 loss = 14.066752433776855\n",
      "Accuracy of train set: tensor(0.9751, device='cuda:0')\n",
      "Accuracy of validation set : tensor(1., device='cuda:0')\n",
      "Iteration no: 105 loss = 15.201020240783691\n",
      "Accuracy of train set: tensor(0.9705, device='cuda:0')\n",
      "Accuracy of validation set : tensor(0.9938, device='cuda:0')\n",
      "Iteration no: 106 loss = 15.057360649108887\n",
      "Accuracy of train set: tensor(0.9695, device='cuda:0')\n",
      "Accuracy of validation set : tensor(1., device='cuda:0')\n",
      "Iteration no: 107 loss = 12.779778480529785\n",
      "Accuracy of train set: tensor(0.9754, device='cuda:0')\n",
      "Accuracy of validation set : tensor(1., device='cuda:0')\n",
      "Iteration no: 108 loss = 15.708060264587402\n",
      "Accuracy of train set: tensor(0.9684, device='cuda:0')\n",
      "Accuracy of validation set : tensor(0.9938, device='cuda:0')\n",
      "Iteration no: 109 loss = 13.816051483154297\n",
      "Accuracy of train set: tensor(0.9730, device='cuda:0')\n",
      "Accuracy of validation set : tensor(0.9812, device='cuda:0')\n",
      "Iteration no: 110 loss = 12.85614013671875\n",
      "Accuracy of train set: tensor(0.9730, device='cuda:0')\n",
      "Accuracy of validation set : tensor(1., device='cuda:0')\n",
      "Iteration no: 111 loss = 14.186735153198242\n",
      "Accuracy of train set: tensor(0.9670, device='cuda:0')\n",
      "Accuracy of validation set : tensor(0.9812, device='cuda:0')\n",
      "Iteration no: 112 loss = 13.831478118896484\n",
      "Accuracy of train set: tensor(0.9698, device='cuda:0')\n",
      "Accuracy of validation set : tensor(1., device='cuda:0')\n",
      "Iteration no: 113 loss = 12.571148872375488\n",
      "Accuracy of train set: tensor(0.9761, device='cuda:0')\n",
      "Accuracy of validation set : tensor(0.9875, device='cuda:0')\n",
      "Iteration no: 114 loss = 13.445945739746094\n",
      "Accuracy of train set: tensor(0.9744, device='cuda:0')\n",
      "Accuracy of validation set : tensor(0.9875, device='cuda:0')\n",
      "Iteration no: 115 loss = 15.804041862487793\n",
      "Accuracy of train set: tensor(0.9656, device='cuda:0')\n",
      "Accuracy of validation set : tensor(1., device='cuda:0')\n",
      "Iteration no: 116 loss = 12.86013126373291\n",
      "Accuracy of train set: tensor(0.9768, device='cuda:0')\n",
      "Accuracy of validation set : tensor(1., device='cuda:0')\n",
      "Iteration no: 117 loss = 11.85048770904541\n",
      "Accuracy of train set: tensor(0.9780, device='cuda:0')\n",
      "Accuracy of validation set : tensor(1., device='cuda:0')\n",
      "Iteration no: 118 loss = 16.871524810791016\n",
      "Accuracy of train set: tensor(0.9688, device='cuda:0')\n",
      "Accuracy of validation set : tensor(0.9938, device='cuda:0')\n",
      "Iteration no: 119 loss = 11.747537612915039\n",
      "Accuracy of train set: tensor(0.9740, device='cuda:0')\n",
      "Accuracy of validation set : tensor(1., device='cuda:0')\n"
     ]
    },
    {
     "data": {
      "image/png": "[encoded data removed]",
      "text/plain": [
       "<Figure size 432x288 with 1 Axes>"
      ]
     },
     "metadata": {
      "needs_background": "light",
      "tags": []
     },
     "output_type": "display_data"
    }
   ],
   "source": [
    "lr_scheduler = torch.optim.lr_scheduler.ReduceLROnPlateau(optimizer, patience=4, verbose=True, eps = 10e-14)\n",
    "\n",
    "fit(model, 120, train_loader, valid_loader, optimizer)"
   ]
  },
  {
   "cell_type": "code",
   "execution_count": null,
   "metadata": {
    "colab": {},
    "colab_type": "code",
    "id": "YiT0bOYYlOhp"
   },
   "outputs": [],
   "source": [
    "torch.save(model, 'drive/My Drive/Colab Notebooks/ITSP/gest_full9.pth')"
   ]
  },
  {
   "cell_type": "code",
   "execution_count": null,
   "metadata": {
    "colab": {},
    "colab_type": "code",
    "id": "ZF7qlKo8rYM6"
   },
   "outputs": [],
   "source": []
  }
 ],
 "metadata": {
  "accelerator": "GPU",
  "colab": {
   "collapsed_sections": [],
   "name": "New_Cnn.ipynb",
   "provenance": []
  },
  "kernelspec": {
   "display_name": "Python 3",
   "language": "python",
   "name": "python3"
  },
  "language_info": {
   "codemirror_mode": {
    "name": "ipython",
    "version": 3
   },
   "file_extension": ".py",
   "mimetype": "text/x-python",
   "name": "python",
   "nbconvert_exporter": "python",
   "pygments_lexer": "ipython3",
   "version": "3.7.6"
  }
 },
 "nbformat": 4,
 "nbformat_minor": 1
}
