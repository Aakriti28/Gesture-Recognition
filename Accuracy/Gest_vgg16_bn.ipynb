{
  "nbformat": 4,
  "nbformat_minor": 0,
  "metadata": {
    "kernelspec": {
      "display_name": "Python 3",
      "language": "python",
      "name": "python3"
    },
    "language_info": {
      "codemirror_mode": {
        "name": "ipython",
        "version": 3
      },
      "file_extension": ".py",
      "mimetype": "text/x-python",
      "name": "python",
      "nbconvert_exporter": "python",
      "pygments_lexer": "ipython3",
      "version": "3.7.6"
    },
    "colab": {
      "name": "New_Cnn2.ipynb",
      "provenance": [],
      "collapsed_sections": []
    },
    "accelerator": "GPU"
  },
  "cells": [
    {
      "cell_type": "code",
      "metadata": {
        "id": "MHmtfSAGlOg8",
        "colab_type": "code",
        "colab": {}
      },
      "source": [
        "import sys\n",
        "import os\n",
        "import torch\n",
        "import cv2 as cv\n",
        "import numpy as np\n",
        "import torchvision\n",
        "from torch import nn, optim\n",
        "import torch.nn.functional as F\n",
        "import torch.utils.data\n",
        "import torchvision.datasets as dset\n",
        "import torchvision.utils as vutils\n",
        "from torch.utils.data import DataLoader\n",
        "from torch.autograd.variable import Variable\n",
        "from torchvision import transforms, datasets\n",
        "import matplotlib.pyplot as plt\n",
        "import random\n",
        "from torch.utils.data.sampler import SubsetRandomSampler\n",
        "from skimage.io import imread, imshow\n",
        "from skimage.transform import resize\n",
        "from skimage.feature import hog\n",
        "from skimage import exposure\n"
      ],
      "execution_count": 1,
      "outputs": []
    },
    {
      "cell_type": "code",
      "metadata": {
        "id": "LNQycbAQl5YO",
        "colab_type": "code",
        "colab": {
          "base_uri": "https://localhost:8080/",
          "height": 121
        },
        "outputId": "6cc4dc97-7a40-43d7-df63-e81a259642d4"
      },
      "source": [
        "from google.colab import drive\n",
        "drive.mount('/content/drive')"
      ],
      "execution_count": 2,
      "outputs": [
        {
          "output_type": "stream",
          "text": [
            "Go to this URL in a browser: https://accounts.google.com/o/oauth2/auth?client_id=947318989803-6bn6qk8qdgf4n4g3pfee6491hc0brc4i.apps.googleusercontent.com&redirect_uri=urn%3aietf%3awg%3aoauth%3a2.0%3aoob&response_type=code&scope=email%20https%3a%2f%2fwww.googleapis.com%2fauth%2fdocs.test%20https%3a%2f%2fwww.googleapis.com%2fauth%2fdrive%20https%3a%2f%2fwww.googleapis.com%2fauth%2fdrive.photos.readonly%20https%3a%2f%2fwww.googleapis.com%2fauth%2fpeopleapi.readonly\n",
            "\n",
            "Enter your authorization code:\n",
            "··········\n",
            "Mounted at /content/drive\n"
          ],
          "name": "stdout"
        }
      ]
    },
    {
      "cell_type": "code",
      "metadata": {
        "id": "ci8JUQWulOhB",
        "colab_type": "code",
        "colab": {
          "base_uri": "https://localhost:8080/",
          "height": 101
        },
        "outputId": "502859da-9ff0-4b74-cf4b-0002143782b9"
      },
      "source": [
        "#Using GPU\n",
        "print(sys.version)\n",
        "device = 'cuda'\n",
        "#Checking for GPU\n",
        "print(torch.version.cuda)\n",
        "print(torch.cuda.device_count())\n",
        "print(torch.cuda.is_available())"
      ],
      "execution_count": 3,
      "outputs": [
        {
          "output_type": "stream",
          "text": [
            "3.6.9 (default, Apr 18 2020, 01:56:04) \n",
            "[GCC 8.4.0]\n",
            "10.1\n",
            "1\n",
            "True\n"
          ],
          "name": "stdout"
        }
      ]
    },
    {
      "cell_type": "code",
      "metadata": {
        "id": "cV-uM0FAlOhE",
        "colab_type": "code",
        "colab": {
          "base_uri": "https://localhost:8080/",
          "height": 50
        },
        "outputId": "b4c1a52b-1b79-4b15-eaee-6c6813464d39"
      },
      "source": [
        "lookup = dict()\n",
        "reverselookup = dict()\n",
        "\n",
        "count = 0\n",
        "\n",
        "for j in os.listdir('drive/My Drive/Colab Notebooks/ITSP/mydata/'):\n",
        "    if not j.startswith('.'):\n",
        "        lookup[j] = count\n",
        "        reverselookup[count] = j\n",
        "        count += 1\n",
        "        \n",
        "print(lookup)\n",
        "print(reverselookup)"
      ],
      "execution_count": 4,
      "outputs": [
        {
          "output_type": "stream",
          "text": [
            "{'3': 0, '6': 1, '4': 2, '2': 3, '1': 4, '7': 5, '5': 6, '8': 7, '0': 8, '9': 9}\n",
            "{0: '3', 1: '6', 2: '4', 3: '2', 4: '1', 5: '7', 6: '5', 7: '8', 8: '0', 9: '9'}\n"
          ],
          "name": "stdout"
        }
      ]
    },
    {
      "cell_type": "code",
      "metadata": {
        "id": "hr7Fpf9ClOhH",
        "colab_type": "code",
        "colab": {
          "base_uri": "https://localhost:8080/",
          "height": 319
        },
        "outputId": "0b3a54d6-1dd9-4a47-a108-de6f676aea2f"
      },
      "source": [
        "x_data = []\n",
        "y_data = []\n",
        "datacount = 0\n",
        "image_size = 256\n",
        "\n",
        "dataset = dset.ImageFolder(root = 'drive/My Drive/Colab Notebooks/ITSP/mydata', \n",
        "                transform = \n",
        "                transforms.Compose([\n",
        "                transforms.Resize(image_size),\n",
        "                transforms.RandomResizedCrop(size=256, scale=(0.95, 1.0)),\n",
        "                transforms.RandomRotation(degrees=10),\n",
        "                transforms.ColorJitter(),\n",
        "                transforms.RandomHorizontalFlip(0.3),\n",
        "                transforms.Resize(size=224),  # Image net standards\n",
        "                transforms.ToTensor(),\n",
        "                transforms.Normalize([0.485, 0.456, 0.406],\n",
        "                                     [0.229, 0.224, 0.225])  # Imagenet standards\n",
        "                #transforms.ToTensor(), \n",
        "                #transforms.Normalize((0.5, 0.5, 0.5), (0.5, 0.5, 0.5))\n",
        "                ]))\n",
        "\n",
        "print(dataset)\n",
        "\n",
        "batch = 16\n",
        "random_seed = random.randint(1, 100)\n",
        "\n",
        "dataset_size = len(dataset)\n",
        "split = int(0.05*dataset_size)\n",
        "print('Size of dataset is: ', dataset_size)\n",
        "print('Split value: ', split)\n",
        "indices = list(range(dataset_size))\n",
        "\n",
        "np.random.seed(random_seed)\n",
        "np.random.shuffle(indices)\n",
        "\n",
        "train_indices, val_indices = indices[split:], indices[:split]\n",
        "\n",
        "# Creating PT data samplers and loaders:\n",
        "train_sampler = SubsetRandomSampler(train_indices)\n",
        "valid_sampler = SubsetRandomSampler(val_indices)\n",
        "\n",
        "train_loader = torch.utils.data.DataLoader(dataset, batch_size=batch, sampler=train_sampler,\n",
        "                                            num_workers = 2)\n",
        "valid_loader = torch.utils.data.DataLoader(dataset, batch_size=batch, sampler=valid_sampler,\n",
        "                                            num_workers = 2)\n",
        "\n",
        "print(len(train_loader))\n",
        "print(len(valid_loader))\n",
        "\n",
        "\n",
        "#for image, label in train_loader:\n",
        "    #print(label)"
      ],
      "execution_count": 5,
      "outputs": [
        {
          "output_type": "stream",
          "text": [
            "Dataset ImageFolder\n",
            "    Number of datapoints: 3535\n",
            "    Root location: drive/My Drive/Colab Notebooks/ITSP/mydata\n",
            "    StandardTransform\n",
            "Transform: Compose(\n",
            "               Resize(size=256, interpolation=PIL.Image.BILINEAR)\n",
            "               RandomResizedCrop(size=(256, 256), scale=(0.95, 1.0), ratio=(0.75, 1.3333), interpolation=PIL.Image.BILINEAR)\n",
            "               RandomRotation(degrees=(-10, 10), resample=False, expand=False)\n",
            "               ColorJitter(brightness=None, contrast=None, saturation=None, hue=None)\n",
            "               RandomHorizontalFlip(p=0.3)\n",
            "               Resize(size=224, interpolation=PIL.Image.BILINEAR)\n",
            "               ToTensor()\n",
            "               Normalize(mean=[0.485, 0.456, 0.406], std=[0.229, 0.224, 0.225])\n",
            "           )\n",
            "Size of dataset is:  3535\n",
            "Split value:  176\n",
            "210\n",
            "11\n"
          ],
          "name": "stdout"
        }
      ]
    },
    {
      "cell_type": "code",
      "metadata": {
        "id": "TrB04PSAlOhK",
        "colab_type": "code",
        "colab": {
          "base_uri": "https://localhost:8080/",
          "height": 34
        },
        "outputId": "9ee78f89-2c61-4111-8334-e251f10b26e3"
      },
      "source": [
        "# Iterate through the dataloader once\n",
        "trainiter = iter(train_loader)\n",
        "features, labels = next(trainiter)\n",
        "features.shape, labels.shape"
      ],
      "execution_count": 6,
      "outputs": [
        {
          "output_type": "execute_result",
          "data": {
            "text/plain": [
              "(torch.Size([16, 3, 224, 224]), torch.Size([16]))"
            ]
          },
          "metadata": {
            "tags": []
          },
          "execution_count": 6
        }
      ]
    },
    {
      "cell_type": "code",
      "metadata": {
        "id": "x6Fr4KYYlOhN",
        "colab_type": "code",
        "colab": {
          "base_uri": "https://localhost:8080/",
          "height": 336
        },
        "outputId": "f62fa8e8-0893-44d2-a564-28faec6d6174"
      },
      "source": [
        "def get_image_shape():\n",
        "    img = cv.imread('drive/My Drive/Colab Notebooks/ITSP/mydata/1/1.jpg', 0)\n",
        "    return img.shape\n",
        "\n",
        "\n",
        "img_shape = get_image_shape()\n",
        "print('Image shape: ', img_shape)\n",
        "root = 'drive/My Drive/Colab Notebooks/ITSP/mydata'\n",
        "gesture_data = os.listdir(root)\n",
        "num_g = len(gesture_data)\n",
        "print('Number of gestures: ', num_g)\n",
        "num_rows = int(num_g/4)\n",
        "\n",
        "if(num_g%4):\n",
        "   num_rows+=1\n",
        "\n",
        "print('Number of rows: ', num_rows)\n",
        "\n",
        "begin = 0\n",
        "final_img = None\n",
        "\n",
        "for i in range(num_rows):\n",
        "    row_img = None\n",
        "    for j in range(begin, begin+4):\n",
        "        if (j>= num_g):\n",
        "            img = np.zeros(img_shape, dtype = np.uint8)\n",
        "            #print('Image index: ', j, 'false')\n",
        "            \n",
        "        else:         \n",
        "            imgpath = root + '/' + reverselookup[j] + '/' + str(random.randint(1, 200)) + '.jpg'\n",
        "            img = cv.imread(imgpath, 0)\n",
        "            #if not np.any(img == None):\n",
        "                #print('Image index: ', j, 'true')\n",
        "            \n",
        "        if np.any(row_img == None):\n",
        "            row_img = img\n",
        "        else:\n",
        "            row_img = np.hstack((row_img, img))\n",
        "            \n",
        "    begin += 4\n",
        "    if np.any(final_img == None):\n",
        "            final_img = row_img\n",
        "    else:\n",
        "        final_img = np.vstack((final_img, row_img))  \n",
        "                        \n",
        "plt.imshow(final_img, cmap='gray')\n",
        "#cv.waitKey(0)\n",
        "#cv.destroyAllWindows()        "
      ],
      "execution_count": 7,
      "outputs": [
        {
          "output_type": "stream",
          "text": [
            "Image shape:  (256, 256)\n",
            "Number of gestures:  10\n",
            "Number of rows:  3\n"
          ],
          "name": "stdout"
        },
        {
          "output_type": "execute_result",
          "data": {
            "text/plain": [
              "<matplotlib.image.AxesImage at 0x7fb1d13006d8>"
            ]
          },
          "metadata": {
            "tags": []
          },
          "execution_count": 7
        },
        {
          "output_type": "display_data",
          "data": {
            "image/png": "[encoded data removed]",
            "text/plain": [
              "<Figure size 432x288 with 1 Axes>"
            ]
          },
          "metadata": {
            "tags": [],
            "needs_background": "light"
          }
        }
      ]
    },
    {
      "cell_type": "code",
      "metadata": {
        "id": "10-e-DTXlOhQ",
        "colab_type": "code",
        "colab": {
          "base_uri": "https://localhost:8080/",
          "height": 264
        },
        "outputId": "de79c332-5368-49ba-8d43-841f9e3b09ac"
      },
      "source": [
        "gestures = []\n",
        "titles = []\n",
        "\n",
        "for i in range(num_g):\n",
        "    imgpath = root + '/' + reverselookup[i] + '/' + str(random.randint(1, 200)) + '.jpg'\n",
        "    img = cv.imread(imgpath, 0)\n",
        "    gestures.append(img)\n",
        "    titles.append(reverselookup[i])\n",
        "    \n",
        "for i in range(num_g):\n",
        "    plt.subplot(3, 4, i+1)\n",
        "    plt.imshow(gestures[i], cmap='gray')\n",
        "    plt.title(titles[i])\n",
        "    plt.axis('off')"
      ],
      "execution_count": 8,
      "outputs": [
        {
          "output_type": "display_data",
          "data": {
            "image/png": "[encoded data removed]",
            "text/plain": [
              "<Figure size 432x288 with 10 Axes>"
            ]
          },
          "metadata": {
            "tags": [],
            "needs_background": "light"
          }
        }
      ]
    },
    {
      "cell_type": "code",
      "metadata": {
        "id": "KzO_7weRlOhT",
        "colab_type": "code",
        "colab": {}
      },
      "source": [
        "from torchvision import models\n",
        "model = models.vgg16_bn(pretrained=True)\n",
        "for param in model.parameters():\n",
        "    param.requires_grad = False"
      ],
      "execution_count": 13,
      "outputs": []
    },
    {
      "cell_type": "code",
      "metadata": {
        "id": "aVno7LbllOhW",
        "colab_type": "code",
        "colab": {
          "base_uri": "https://localhost:8080/",
          "height": 991
        },
        "outputId": "dff92a6d-b303-4b3e-ecdb-1442613d40d5"
      },
      "source": [
        "torch.save(model, 'drive/My Drive/Colab Notebooks/ITSP/vgg16_bn.pth')\n",
        "print(model)"
      ],
      "execution_count": 14,
      "outputs": [
        {
          "output_type": "stream",
          "text": [
            "VGG(\n",
            "  (features): Sequential(\n",
            "    (0): Conv2d(3, 64, kernel_size=(3, 3), stride=(1, 1), padding=(1, 1))\n",
            "    (1): BatchNorm2d(64, eps=1e-05, momentum=0.1, affine=True, track_running_stats=True)\n",
            "    (2): ReLU(inplace=True)\n",
            "    (3): Conv2d(64, 64, kernel_size=(3, 3), stride=(1, 1), padding=(1, 1))\n",
            "    (4): BatchNorm2d(64, eps=1e-05, momentum=0.1, affine=True, track_running_stats=True)\n",
            "    (5): ReLU(inplace=True)\n",
            "    (6): MaxPool2d(kernel_size=2, stride=2, padding=0, dilation=1, ceil_mode=False)\n",
            "    (7): Conv2d(64, 128, kernel_size=(3, 3), stride=(1, 1), padding=(1, 1))\n",
            "    (8): BatchNorm2d(128, eps=1e-05, momentum=0.1, affine=True, track_running_stats=True)\n",
            "    (9): ReLU(inplace=True)\n",
            "    (10): Conv2d(128, 128, kernel_size=(3, 3), stride=(1, 1), padding=(1, 1))\n",
            "    (11): BatchNorm2d(128, eps=1e-05, momentum=0.1, affine=True, track_running_stats=True)\n",
            "    (12): ReLU(inplace=True)\n",
            "    (13): MaxPool2d(kernel_size=2, stride=2, padding=0, dilation=1, ceil_mode=False)\n",
            "    (14): Conv2d(128, 256, kernel_size=(3, 3), stride=(1, 1), padding=(1, 1))\n",
            "    (15): BatchNorm2d(256, eps=1e-05, momentum=0.1, affine=True, track_running_stats=True)\n",
            "    (16): ReLU(inplace=True)\n",
            "    (17): Conv2d(256, 256, kernel_size=(3, 3), stride=(1, 1), padding=(1, 1))\n",
            "    (18): BatchNorm2d(256, eps=1e-05, momentum=0.1, affine=True, track_running_stats=True)\n",
            "    (19): ReLU(inplace=True)\n",
            "    (20): Conv2d(256, 256, kernel_size=(3, 3), stride=(1, 1), padding=(1, 1))\n",
            "    (21): BatchNorm2d(256, eps=1e-05, momentum=0.1, affine=True, track_running_stats=True)\n",
            "    (22): ReLU(inplace=True)\n",
            "    (23): MaxPool2d(kernel_size=2, stride=2, padding=0, dilation=1, ceil_mode=False)\n",
            "    (24): Conv2d(256, 512, kernel_size=(3, 3), stride=(1, 1), padding=(1, 1))\n",
            "    (25): BatchNorm2d(512, eps=1e-05, momentum=0.1, affine=True, track_running_stats=True)\n",
            "    (26): ReLU(inplace=True)\n",
            "    (27): Conv2d(512, 512, kernel_size=(3, 3), stride=(1, 1), padding=(1, 1))\n",
            "    (28): BatchNorm2d(512, eps=1e-05, momentum=0.1, affine=True, track_running_stats=True)\n",
            "    (29): ReLU(inplace=True)\n",
            "    (30): Conv2d(512, 512, kernel_size=(3, 3), stride=(1, 1), padding=(1, 1))\n",
            "    (31): BatchNorm2d(512, eps=1e-05, momentum=0.1, affine=True, track_running_stats=True)\n",
            "    (32): ReLU(inplace=True)\n",
            "    (33): MaxPool2d(kernel_size=2, stride=2, padding=0, dilation=1, ceil_mode=False)\n",
            "    (34): Conv2d(512, 512, kernel_size=(3, 3), stride=(1, 1), padding=(1, 1))\n",
            "    (35): BatchNorm2d(512, eps=1e-05, momentum=0.1, affine=True, track_running_stats=True)\n",
            "    (36): ReLU(inplace=True)\n",
            "    (37): Conv2d(512, 512, kernel_size=(3, 3), stride=(1, 1), padding=(1, 1))\n",
            "    (38): BatchNorm2d(512, eps=1e-05, momentum=0.1, affine=True, track_running_stats=True)\n",
            "    (39): ReLU(inplace=True)\n",
            "    (40): Conv2d(512, 512, kernel_size=(3, 3), stride=(1, 1), padding=(1, 1))\n",
            "    (41): BatchNorm2d(512, eps=1e-05, momentum=0.1, affine=True, track_running_stats=True)\n",
            "    (42): ReLU(inplace=True)\n",
            "    (43): MaxPool2d(kernel_size=2, stride=2, padding=0, dilation=1, ceil_mode=False)\n",
            "  )\n",
            "  (avgpool): AdaptiveAvgPool2d(output_size=(7, 7))\n",
            "  (classifier): Sequential(\n",
            "    (0): Linear(in_features=25088, out_features=4096, bias=True)\n",
            "    (1): ReLU(inplace=True)\n",
            "    (2): Dropout(p=0.5, inplace=False)\n",
            "    (3): Linear(in_features=4096, out_features=4096, bias=True)\n",
            "    (4): ReLU(inplace=True)\n",
            "    (5): Dropout(p=0.5, inplace=False)\n",
            "    (6): Linear(in_features=4096, out_features=1000, bias=True)\n",
            "  )\n",
            ")\n"
          ],
          "name": "stdout"
        }
      ]
    },
    {
      "cell_type": "code",
      "metadata": {
        "id": "VB9MoHJDlOhZ",
        "colab_type": "code",
        "colab": {
          "base_uri": "https://localhost:8080/",
          "height": 1000
        },
        "outputId": "721a47ed-3180-4e54-b640-2e5dbf7806a1"
      },
      "source": [
        "n_classes = 10\n",
        "\n",
        "model.classifier[6] = nn.Sequential(\n",
        "                      nn.Linear(4096, 512), \n",
        "                      nn.ReLU(), \n",
        "                      nn.Linear(512, 128), \n",
        "                      nn.ReLU(),\n",
        "                      nn.Dropout(0.2), \n",
        "                      nn.Linear(128, n_classes),                   \n",
        "                      nn.LogSoftmax(dim=1))\n",
        "\n",
        "print(model)"
      ],
      "execution_count": 15,
      "outputs": [
        {
          "output_type": "stream",
          "text": [
            "VGG(\n",
            "  (features): Sequential(\n",
            "    (0): Conv2d(3, 64, kernel_size=(3, 3), stride=(1, 1), padding=(1, 1))\n",
            "    (1): BatchNorm2d(64, eps=1e-05, momentum=0.1, affine=True, track_running_stats=True)\n",
            "    (2): ReLU(inplace=True)\n",
            "    (3): Conv2d(64, 64, kernel_size=(3, 3), stride=(1, 1), padding=(1, 1))\n",
            "    (4): BatchNorm2d(64, eps=1e-05, momentum=0.1, affine=True, track_running_stats=True)\n",
            "    (5): ReLU(inplace=True)\n",
            "    (6): MaxPool2d(kernel_size=2, stride=2, padding=0, dilation=1, ceil_mode=False)\n",
            "    (7): Conv2d(64, 128, kernel_size=(3, 3), stride=(1, 1), padding=(1, 1))\n",
            "    (8): BatchNorm2d(128, eps=1e-05, momentum=0.1, affine=True, track_running_stats=True)\n",
            "    (9): ReLU(inplace=True)\n",
            "    (10): Conv2d(128, 128, kernel_size=(3, 3), stride=(1, 1), padding=(1, 1))\n",
            "    (11): BatchNorm2d(128, eps=1e-05, momentum=0.1, affine=True, track_running_stats=True)\n",
            "    (12): ReLU(inplace=True)\n",
            "    (13): MaxPool2d(kernel_size=2, stride=2, padding=0, dilation=1, ceil_mode=False)\n",
            "    (14): Conv2d(128, 256, kernel_size=(3, 3), stride=(1, 1), padding=(1, 1))\n",
            "    (15): BatchNorm2d(256, eps=1e-05, momentum=0.1, affine=True, track_running_stats=True)\n",
            "    (16): ReLU(inplace=True)\n",
            "    (17): Conv2d(256, 256, kernel_size=(3, 3), stride=(1, 1), padding=(1, 1))\n",
            "    (18): BatchNorm2d(256, eps=1e-05, momentum=0.1, affine=True, track_running_stats=True)\n",
            "    (19): ReLU(inplace=True)\n",
            "    (20): Conv2d(256, 256, kernel_size=(3, 3), stride=(1, 1), padding=(1, 1))\n",
            "    (21): BatchNorm2d(256, eps=1e-05, momentum=0.1, affine=True, track_running_stats=True)\n",
            "    (22): ReLU(inplace=True)\n",
            "    (23): MaxPool2d(kernel_size=2, stride=2, padding=0, dilation=1, ceil_mode=False)\n",
            "    (24): Conv2d(256, 512, kernel_size=(3, 3), stride=(1, 1), padding=(1, 1))\n",
            "    (25): BatchNorm2d(512, eps=1e-05, momentum=0.1, affine=True, track_running_stats=True)\n",
            "    (26): ReLU(inplace=True)\n",
            "    (27): Conv2d(512, 512, kernel_size=(3, 3), stride=(1, 1), padding=(1, 1))\n",
            "    (28): BatchNorm2d(512, eps=1e-05, momentum=0.1, affine=True, track_running_stats=True)\n",
            "    (29): ReLU(inplace=True)\n",
            "    (30): Conv2d(512, 512, kernel_size=(3, 3), stride=(1, 1), padding=(1, 1))\n",
            "    (31): BatchNorm2d(512, eps=1e-05, momentum=0.1, affine=True, track_running_stats=True)\n",
            "    (32): ReLU(inplace=True)\n",
            "    (33): MaxPool2d(kernel_size=2, stride=2, padding=0, dilation=1, ceil_mode=False)\n",
            "    (34): Conv2d(512, 512, kernel_size=(3, 3), stride=(1, 1), padding=(1, 1))\n",
            "    (35): BatchNorm2d(512, eps=1e-05, momentum=0.1, affine=True, track_running_stats=True)\n",
            "    (36): ReLU(inplace=True)\n",
            "    (37): Conv2d(512, 512, kernel_size=(3, 3), stride=(1, 1), padding=(1, 1))\n",
            "    (38): BatchNorm2d(512, eps=1e-05, momentum=0.1, affine=True, track_running_stats=True)\n",
            "    (39): ReLU(inplace=True)\n",
            "    (40): Conv2d(512, 512, kernel_size=(3, 3), stride=(1, 1), padding=(1, 1))\n",
            "    (41): BatchNorm2d(512, eps=1e-05, momentum=0.1, affine=True, track_running_stats=True)\n",
            "    (42): ReLU(inplace=True)\n",
            "    (43): MaxPool2d(kernel_size=2, stride=2, padding=0, dilation=1, ceil_mode=False)\n",
            "  )\n",
            "  (avgpool): AdaptiveAvgPool2d(output_size=(7, 7))\n",
            "  (classifier): Sequential(\n",
            "    (0): Linear(in_features=25088, out_features=4096, bias=True)\n",
            "    (1): ReLU(inplace=True)\n",
            "    (2): Dropout(p=0.5, inplace=False)\n",
            "    (3): Linear(in_features=4096, out_features=4096, bias=True)\n",
            "    (4): ReLU(inplace=True)\n",
            "    (5): Dropout(p=0.5, inplace=False)\n",
            "    (6): Sequential(\n",
            "      (0): Linear(in_features=4096, out_features=512, bias=True)\n",
            "      (1): ReLU()\n",
            "      (2): Linear(in_features=512, out_features=128, bias=True)\n",
            "      (3): ReLU()\n",
            "      (4): Dropout(p=0.2, inplace=False)\n",
            "      (5): Linear(in_features=128, out_features=10, bias=True)\n",
            "      (6): LogSoftmax()\n",
            "    )\n",
            "  )\n",
            ")\n"
          ],
          "name": "stdout"
        }
      ]
    },
    {
      "cell_type": "code",
      "metadata": {
        "id": "CYTxJ2w_lOhb",
        "colab_type": "code",
        "colab": {
          "base_uri": "https://localhost:8080/",
          "height": 50
        },
        "outputId": "06bfb116-91a2-4d49-b11a-05763fd00015"
      },
      "source": [
        "total_params = sum(p.numel() for p in model.parameters())\n",
        "\n",
        "print(f'{total_params:,} total parameters')\n",
        "\n",
        "total_trainable = sum(p.numel() for p in model.parameters() if p.requires_grad)\n",
        "\n",
        "print(f'{total_trainable:,} trainable parameters.')"
      ],
      "execution_count": 16,
      "outputs": [
        {
          "output_type": "stream",
          "text": [
            "136,433,610 total parameters\n",
            "2,164,618 trainable parameters.\n"
          ],
          "name": "stdout"
        }
      ]
    },
    {
      "cell_type": "code",
      "metadata": {
        "id": "UvYn0mxHlOhe",
        "colab_type": "code",
        "colab": {}
      },
      "source": [
        "# Move to gpu\n",
        "model = model.to('cuda')\n",
        "# Distribute across 2 gpus\n",
        "model = nn.DataParallel(model)\n",
        "\n",
        "loss_func = F.cross_entropy\n",
        "optimizer = optim.Adam(model.parameters(), betas=(0.5, 0.99), lr = 0.002)\n"
      ],
      "execution_count": 17,
      "outputs": []
    },
    {
      "cell_type": "code",
      "metadata": {
        "id": "1Xov_0milOhh",
        "colab_type": "code",
        "colab": {}
      },
      "source": [
        "def accuracy(out, yb):\n",
        "    pred = torch.argmax(out, keepdim= False, dim=1)\n",
        "    return (pred == yb).float().mean() "
      ],
      "execution_count": 18,
      "outputs": []
    },
    {
      "cell_type": "code",
      "metadata": {
        "id": "y4K2vMYllOhk",
        "colab_type": "code",
        "colab": {}
      },
      "source": [
        "def fit(model, epochs, train_loader, valid_loader, opt):\n",
        "    losses = []\n",
        "    \n",
        "    for epoch in range(epochs):\n",
        "        train_loss =0\n",
        "        train_acc =0\n",
        "        model.train()\n",
        "        for xb, yb in train_loader:\n",
        "            xb =xb.to(device)\n",
        "            yb = yb.to(device)\n",
        "            pred = model(xb.float())\n",
        "            pred.to(device)\n",
        "            train_acc += accuracy(pred, yb)\n",
        "            loss = loss_func(pred, yb)\n",
        "            train_loss += loss\n",
        "            #back propogation\n",
        "            loss.backward()\n",
        "            opt.step()\n",
        "            opt.zero_grad()      \n",
        "\n",
        "        losses.append(train_loss)\n",
        "        print(\"Iteration no: \"+ str(epoch), \"loss = \"+str(losses[epoch].item()))\n",
        "        print(\"Accuracy of train set:\", train_acc/len(train_loader))\n",
        "        lr_scheduler.step(train_loss/len(train_loader))\n",
        "        \n",
        "        \n",
        "        model.eval()    \n",
        "        with torch.no_grad():\n",
        "            valid_acc=0\n",
        "            loss_valid = 0\n",
        "            for xb_valid, yb_valid in valid_loader:\n",
        "                xb_valid = xb_valid.to(device)\n",
        "                yb_valid = yb_valid.to(device)\n",
        "                pred_valid = model(xb_valid.float())\n",
        "                pred_valid.to(device)\n",
        "                valid_acc += accuracy(pred_valid, yb_valid)\n",
        "                loss_valid += loss_func(pred_valid, yb_valid)\n",
        "            print(\"Accuracy of validation set :\", valid_acc/len(valid_loader))\n",
        "            #callbacks = [EarlyStopping(monitor='valid_acc', verbose=False, mode='max', patience=10)]\n",
        "\n",
        "    plt.plot(losses)\n",
        "    plt.ylabel(\"loss\")\n",
        "    plt.xlabel(\"iterations\")\n",
        "    plt.show()"
      ],
      "execution_count": 19,
      "outputs": []
    },
    {
      "cell_type": "code",
      "metadata": {
        "id": "LPY1lGz4M4k3",
        "colab_type": "code",
        "colab": {}
      },
      "source": [
        "#model.set_callbacks(callbacks)\n",
        "\n",
        "lr_scheduler = torch.optim.lr_scheduler.ReduceLROnPlateau(optimizer, patience=4, verbose=True, eps = 10e-14)"
      ],
      "execution_count": 20,
      "outputs": []
    },
    {
      "cell_type": "code",
      "metadata": {
        "id": "FRhPBGl2lOhm",
        "colab_type": "code",
        "colab": {
          "base_uri": "https://localhost:8080/",
          "height": 1000
        },
        "outputId": "36306748-5ddb-46a7-d5eb-90dc0ddbdde5"
      },
      "source": [
        "fit(model, 120, train_loader, valid_loader, optimizer)"
      ],
      "execution_count": 21,
      "outputs": [
        {
          "output_type": "stream",
          "text": [
            "Iteration no: 0 loss = 298.1329040527344\n",
            "Accuracy of train set: tensor(0.4836, device='cuda:0')\n",
            "Accuracy of validation set : tensor(0.6705, device='cuda:0')\n",
            "Iteration no: 1 loss = 219.57992553710938\n",
            "Accuracy of train set: tensor(0.6278, device='cuda:0')\n",
            "Accuracy of validation set : tensor(0.7216, device='cuda:0')\n",
            "Iteration no: 2 loss = 200.30300903320312\n",
            "Accuracy of train set: tensor(0.6639, device='cuda:0')\n",
            "Accuracy of validation set : tensor(0.7955, device='cuda:0')\n",
            "Iteration no: 3 loss = 187.06088256835938\n",
            "Accuracy of train set: tensor(0.6862, device='cuda:0')\n",
            "Accuracy of validation set : tensor(0.7500, device='cuda:0')\n",
            "Iteration no: 4 loss = 188.04161071777344\n",
            "Accuracy of train set: tensor(0.6913, device='cuda:0')\n",
            "Accuracy of validation set : tensor(0.7670, device='cuda:0')\n",
            "Iteration no: 5 loss = 182.86276245117188\n",
            "Accuracy of train set: tensor(0.6990, device='cuda:0')\n",
            "Accuracy of validation set : tensor(0.7386, device='cuda:0')\n",
            "Iteration no: 6 loss = 175.18336486816406\n",
            "Accuracy of train set: tensor(0.7094, device='cuda:0')\n",
            "Accuracy of validation set : tensor(0.7841, device='cuda:0')\n",
            "Iteration no: 7 loss = 173.8912811279297\n",
            "Accuracy of train set: tensor(0.7240, device='cuda:0')\n",
            "Accuracy of validation set : tensor(0.8352, device='cuda:0')\n",
            "Iteration no: 8 loss = 175.21229553222656\n",
            "Accuracy of train set: tensor(0.7157, device='cuda:0')\n",
            "Accuracy of validation set : tensor(0.7500, device='cuda:0')\n",
            "Iteration no: 9 loss = 161.7288818359375\n",
            "Accuracy of train set: tensor(0.7263, device='cuda:0')\n",
            "Accuracy of validation set : tensor(0.7784, device='cuda:0')\n",
            "Iteration no: 10 loss = 169.80316162109375\n",
            "Accuracy of train set: tensor(0.7207, device='cuda:0')\n",
            "Accuracy of validation set : tensor(0.8125, device='cuda:0')\n",
            "Iteration no: 11 loss = 164.8809814453125\n",
            "Accuracy of train set: tensor(0.7282, device='cuda:0')\n",
            "Accuracy of validation set : tensor(0.8011, device='cuda:0')\n",
            "Iteration no: 12 loss = 157.9314727783203\n",
            "Accuracy of train set: tensor(0.7395, device='cuda:0')\n",
            "Accuracy of validation set : tensor(0.8466, device='cuda:0')\n",
            "Iteration no: 13 loss = 166.95693969726562\n",
            "Accuracy of train set: tensor(0.7362, device='cuda:0')\n",
            "Accuracy of validation set : tensor(0.8068, device='cuda:0')\n",
            "Iteration no: 14 loss = 161.1368408203125\n",
            "Accuracy of train set: tensor(0.7431, device='cuda:0')\n",
            "Accuracy of validation set : tensor(0.8409, device='cuda:0')\n",
            "Iteration no: 15 loss = 161.32948303222656\n",
            "Accuracy of train set: tensor(0.7339, device='cuda:0')\n",
            "Accuracy of validation set : tensor(0.8352, device='cuda:0')\n",
            "Iteration no: 16 loss = 158.5986328125\n",
            "Accuracy of train set: tensor(0.7443, device='cuda:0')\n",
            "Accuracy of validation set : tensor(0.8239, device='cuda:0')\n",
            "Iteration no: 17 loss = 158.4035186767578\n",
            "Accuracy of train set: tensor(0.7523, device='cuda:0')\n",
            "Epoch    18: reducing learning rate of group 0 to 2.0000e-04.\n",
            "Accuracy of validation set : tensor(0.8239, device='cuda:0')\n",
            "Iteration no: 18 loss = 144.09432983398438\n",
            "Accuracy of train set: tensor(0.7633, device='cuda:0')\n",
            "Accuracy of validation set : tensor(0.8182, device='cuda:0')\n",
            "Iteration no: 19 loss = 130.80140686035156\n",
            "Accuracy of train set: tensor(0.7863, device='cuda:0')\n",
            "Accuracy of validation set : tensor(0.8011, device='cuda:0')\n",
            "Iteration no: 20 loss = 135.9316864013672\n",
            "Accuracy of train set: tensor(0.7800, device='cuda:0')\n",
            "Accuracy of validation set : tensor(0.8523, device='cuda:0')\n",
            "Iteration no: 21 loss = 135.40061950683594\n",
            "Accuracy of train set: tensor(0.7821, device='cuda:0')\n",
            "Accuracy of validation set : tensor(0.8864, device='cuda:0')\n",
            "Iteration no: 22 loss = 128.75299072265625\n",
            "Accuracy of train set: tensor(0.7883, device='cuda:0')\n",
            "Accuracy of validation set : tensor(0.8125, device='cuda:0')\n",
            "Iteration no: 23 loss = 135.9927215576172\n",
            "Accuracy of train set: tensor(0.7913, device='cuda:0')\n",
            "Accuracy of validation set : tensor(0.8295, device='cuda:0')\n",
            "Iteration no: 24 loss = 132.94113159179688\n",
            "Accuracy of train set: tensor(0.7702, device='cuda:0')\n",
            "Accuracy of validation set : tensor(0.8409, device='cuda:0')\n",
            "Iteration no: 25 loss = 135.3633270263672\n",
            "Accuracy of train set: tensor(0.7800, device='cuda:0')\n",
            "Accuracy of validation set : tensor(0.8466, device='cuda:0')\n",
            "Iteration no: 26 loss = 131.43701171875\n",
            "Accuracy of train set: tensor(0.7871, device='cuda:0')\n",
            "Accuracy of validation set : tensor(0.8580, device='cuda:0')\n",
            "Iteration no: 27 loss = 133.0634002685547\n",
            "Accuracy of train set: tensor(0.7878, device='cuda:0')\n",
            "Epoch    28: reducing learning rate of group 0 to 2.0000e-05.\n",
            "Accuracy of validation set : tensor(0.8523, device='cuda:0')\n",
            "Iteration no: 28 loss = 132.36935424804688\n",
            "Accuracy of train set: tensor(0.7764, device='cuda:0')\n",
            "Accuracy of validation set : tensor(0.8580, device='cuda:0')\n",
            "Iteration no: 29 loss = 129.7210693359375\n",
            "Accuracy of train set: tensor(0.7869, device='cuda:0')\n",
            "Accuracy of validation set : tensor(0.8636, device='cuda:0')\n",
            "Iteration no: 30 loss = 129.5459442138672\n",
            "Accuracy of train set: tensor(0.7871, device='cuda:0')\n",
            "Accuracy of validation set : tensor(0.8352, device='cuda:0')\n",
            "Iteration no: 31 loss = 131.40655517578125\n",
            "Accuracy of train set: tensor(0.7901, device='cuda:0')\n",
            "Accuracy of validation set : tensor(0.8352, device='cuda:0')\n",
            "Iteration no: 32 loss = 124.68180084228516\n",
            "Accuracy of train set: tensor(0.7981, device='cuda:0')\n",
            "Accuracy of validation set : tensor(0.8182, device='cuda:0')\n",
            "Iteration no: 33 loss = 128.78440856933594\n",
            "Accuracy of train set: tensor(0.7857, device='cuda:0')\n",
            "Accuracy of validation set : tensor(0.8295, device='cuda:0')\n",
            "Iteration no: 34 loss = 133.0394744873047\n",
            "Accuracy of train set: tensor(0.7901, device='cuda:0')\n",
            "Accuracy of validation set : tensor(0.8580, device='cuda:0')\n",
            "Iteration no: 35 loss = 125.75318908691406\n",
            "Accuracy of train set: tensor(0.7949, device='cuda:0')\n",
            "Accuracy of validation set : tensor(0.8409, device='cuda:0')\n",
            "Iteration no: 36 loss = 125.24536895751953\n",
            "Accuracy of train set: tensor(0.7964, device='cuda:0')\n",
            "Accuracy of validation set : tensor(0.8636, device='cuda:0')\n",
            "Iteration no: 37 loss = 127.55683898925781\n",
            "Accuracy of train set: tensor(0.7874, device='cuda:0')\n",
            "Epoch    38: reducing learning rate of group 0 to 2.0000e-06.\n",
            "Accuracy of validation set : tensor(0.8580, device='cuda:0')\n",
            "Iteration no: 38 loss = 124.4420394897461\n",
            "Accuracy of train set: tensor(0.7988, device='cuda:0')\n",
            "Accuracy of validation set : tensor(0.8409, device='cuda:0')\n",
            "Iteration no: 39 loss = 126.13265991210938\n",
            "Accuracy of train set: tensor(0.7922, device='cuda:0')\n",
            "Accuracy of validation set : tensor(0.8409, device='cuda:0')\n",
            "Iteration no: 40 loss = 135.05068969726562\n",
            "Accuracy of train set: tensor(0.7788, device='cuda:0')\n",
            "Accuracy of validation set : tensor(0.8750, device='cuda:0')\n",
            "Iteration no: 41 loss = 129.1087646484375\n",
            "Accuracy of train set: tensor(0.7955, device='cuda:0')\n",
            "Accuracy of validation set : tensor(0.9034, device='cuda:0')\n",
            "Iteration no: 42 loss = 126.70394897460938\n",
            "Accuracy of train set: tensor(0.7993, device='cuda:0')\n",
            "Accuracy of validation set : tensor(0.8636, device='cuda:0')\n",
            "Iteration no: 43 loss = 131.71189880371094\n",
            "Accuracy of train set: tensor(0.7827, device='cuda:0')\n",
            "Epoch    44: reducing learning rate of group 0 to 2.0000e-07.\n",
            "Accuracy of validation set : tensor(0.8693, device='cuda:0')\n",
            "Iteration no: 44 loss = 131.45281982421875\n",
            "Accuracy of train set: tensor(0.7865, device='cuda:0')\n",
            "Accuracy of validation set : tensor(0.8580, device='cuda:0')\n",
            "Iteration no: 45 loss = 128.55422973632812\n",
            "Accuracy of train set: tensor(0.7881, device='cuda:0')\n",
            "Accuracy of validation set : tensor(0.8352, device='cuda:0')\n",
            "Iteration no: 46 loss = 129.9254913330078\n",
            "Accuracy of train set: tensor(0.7889, device='cuda:0')\n",
            "Accuracy of validation set : tensor(0.8750, device='cuda:0')\n",
            "Iteration no: 47 loss = 128.05079650878906\n",
            "Accuracy of train set: tensor(0.7864, device='cuda:0')\n",
            "Accuracy of validation set : tensor(0.8523, device='cuda:0')\n",
            "Iteration no: 48 loss = 122.41973876953125\n",
            "Accuracy of train set: tensor(0.7970, device='cuda:0')\n",
            "Accuracy of validation set : tensor(0.8409, device='cuda:0')\n",
            "Iteration no: 49 loss = 127.9146499633789\n",
            "Accuracy of train set: tensor(0.7976, device='cuda:0')\n",
            "Accuracy of validation set : tensor(0.8693, device='cuda:0')\n",
            "Iteration no: 50 loss = 123.88867950439453\n",
            "Accuracy of train set: tensor(0.7931, device='cuda:0')\n",
            "Accuracy of validation set : tensor(0.8636, device='cuda:0')\n",
            "Iteration no: 51 loss = 125.73025512695312\n",
            "Accuracy of train set: tensor(0.7973, device='cuda:0')\n",
            "Accuracy of validation set : tensor(0.8693, device='cuda:0')\n",
            "Iteration no: 52 loss = 120.19412231445312\n",
            "Accuracy of train set: tensor(0.7990, device='cuda:0')\n",
            "Accuracy of validation set : tensor(0.8807, device='cuda:0')\n",
            "Iteration no: 53 loss = 128.96060180664062\n",
            "Accuracy of train set: tensor(0.7928, device='cuda:0')\n",
            "Accuracy of validation set : tensor(0.8125, device='cuda:0')\n",
            "Iteration no: 54 loss = 127.04354858398438\n",
            "Accuracy of train set: tensor(0.7886, device='cuda:0')\n",
            "Accuracy of validation set : tensor(0.8466, device='cuda:0')\n",
            "Iteration no: 55 loss = 129.76780700683594\n",
            "Accuracy of train set: tensor(0.7826, device='cuda:0')\n",
            "Accuracy of validation set : tensor(0.8807, device='cuda:0')\n",
            "Iteration no: 56 loss = 130.7745361328125\n",
            "Accuracy of train set: tensor(0.7872, device='cuda:0')\n",
            "Accuracy of validation set : tensor(0.8693, device='cuda:0')\n",
            "Iteration no: 57 loss = 127.13746643066406\n",
            "Accuracy of train set: tensor(0.8014, device='cuda:0')\n",
            "Epoch    58: reducing learning rate of group 0 to 2.0000e-08.\n",
            "Accuracy of validation set : tensor(0.8693, device='cuda:0')\n",
            "Iteration no: 58 loss = 125.21052551269531\n",
            "Accuracy of train set: tensor(0.8005, device='cuda:0')\n",
            "Accuracy of validation set : tensor(0.8352, device='cuda:0')\n",
            "Iteration no: 59 loss = 134.780029296875\n",
            "Accuracy of train set: tensor(0.7815, device='cuda:0')\n",
            "Accuracy of validation set : tensor(0.8580, device='cuda:0')\n",
            "Iteration no: 60 loss = 126.45523071289062\n",
            "Accuracy of train set: tensor(0.7925, device='cuda:0')\n",
            "Accuracy of validation set : tensor(0.8693, device='cuda:0')\n",
            "Iteration no: 61 loss = 130.5021209716797\n",
            "Accuracy of train set: tensor(0.7860, device='cuda:0')\n",
            "Accuracy of validation set : tensor(0.8693, device='cuda:0')\n",
            "Iteration no: 62 loss = 131.60809326171875\n",
            "Accuracy of train set: tensor(0.7856, device='cuda:0')\n",
            "Epoch    63: reducing learning rate of group 0 to 2.0000e-09.\n",
            "Accuracy of validation set : tensor(0.8636, device='cuda:0')\n",
            "Iteration no: 63 loss = 124.05524444580078\n",
            "Accuracy of train set: tensor(0.7907, device='cuda:0')\n",
            "Accuracy of validation set : tensor(0.8807, device='cuda:0')\n",
            "Iteration no: 64 loss = 125.22693634033203\n",
            "Accuracy of train set: tensor(0.7964, device='cuda:0')\n",
            "Accuracy of validation set : tensor(0.8636, device='cuda:0')\n",
            "Iteration no: 65 loss = 128.37115478515625\n",
            "Accuracy of train set: tensor(0.7925, device='cuda:0')\n",
            "Accuracy of validation set : tensor(0.8580, device='cuda:0')\n",
            "Iteration no: 66 loss = 126.42656707763672\n",
            "Accuracy of train set: tensor(0.7928, device='cuda:0')\n",
            "Accuracy of validation set : tensor(0.8807, device='cuda:0')\n",
            "Iteration no: 67 loss = 125.12403869628906\n",
            "Accuracy of train set: tensor(0.7961, device='cuda:0')\n",
            "Epoch    68: reducing learning rate of group 0 to 2.0000e-10.\n",
            "Accuracy of validation set : tensor(0.8750, device='cuda:0')\n",
            "Iteration no: 68 loss = 122.39351654052734\n",
            "Accuracy of train set: tensor(0.8014, device='cuda:0')\n",
            "Accuracy of validation set : tensor(0.8239, device='cuda:0')\n",
            "Iteration no: 69 loss = 124.63864135742188\n",
            "Accuracy of train set: tensor(0.8047, device='cuda:0')\n",
            "Accuracy of validation set : tensor(0.8693, device='cuda:0')\n",
            "Iteration no: 70 loss = 130.24826049804688\n",
            "Accuracy of train set: tensor(0.7889, device='cuda:0')\n",
            "Accuracy of validation set : tensor(0.8295, device='cuda:0')\n",
            "Iteration no: 71 loss = 130.2412567138672\n",
            "Accuracy of train set: tensor(0.7892, device='cuda:0')\n",
            "Accuracy of validation set : tensor(0.8409, device='cuda:0')\n",
            "Iteration no: 72 loss = 124.89513397216797\n",
            "Accuracy of train set: tensor(0.7913, device='cuda:0')\n",
            "Epoch    73: reducing learning rate of group 0 to 2.0000e-11.\n",
            "Accuracy of validation set : tensor(0.8352, device='cuda:0')\n",
            "Iteration no: 73 loss = 129.86187744140625\n",
            "Accuracy of train set: tensor(0.7892, device='cuda:0')\n",
            "Accuracy of validation set : tensor(0.8523, device='cuda:0')\n",
            "Iteration no: 74 loss = 128.060791015625\n",
            "Accuracy of train set: tensor(0.7892, device='cuda:0')\n",
            "Accuracy of validation set : tensor(0.8523, device='cuda:0')\n",
            "Iteration no: 75 loss = 125.03192138671875\n",
            "Accuracy of train set: tensor(0.7916, device='cuda:0')\n",
            "Accuracy of validation set : tensor(0.8523, device='cuda:0')\n",
            "Iteration no: 76 loss = 136.75906372070312\n",
            "Accuracy of train set: tensor(0.7824, device='cuda:0')\n",
            "Accuracy of validation set : tensor(0.8750, device='cuda:0')\n",
            "Iteration no: 77 loss = 125.7531967163086\n",
            "Accuracy of train set: tensor(0.7931, device='cuda:0')\n",
            "Epoch    78: reducing learning rate of group 0 to 2.0000e-12.\n",
            "Accuracy of validation set : tensor(0.8523, device='cuda:0')\n",
            "Iteration no: 78 loss = 119.58348846435547\n",
            "Accuracy of train set: tensor(0.7988, device='cuda:0')\n",
            "Accuracy of validation set : tensor(0.8295, device='cuda:0')\n",
            "Iteration no: 79 loss = 127.35462188720703\n",
            "Accuracy of train set: tensor(0.7881, device='cuda:0')\n",
            "Accuracy of validation set : tensor(0.8409, device='cuda:0')\n",
            "Iteration no: 80 loss = 124.91307830810547\n",
            "Accuracy of train set: tensor(0.7963, device='cuda:0')\n",
            "Accuracy of validation set : tensor(0.8920, device='cuda:0')\n",
            "Iteration no: 81 loss = 131.70028686523438\n",
            "Accuracy of train set: tensor(0.7802, device='cuda:0')\n",
            "Accuracy of validation set : tensor(0.8807, device='cuda:0')\n",
            "Iteration no: 82 loss = 124.59270477294922\n",
            "Accuracy of train set: tensor(0.7934, device='cuda:0')\n",
            "Accuracy of validation set : tensor(0.8352, device='cuda:0')\n",
            "Iteration no: 83 loss = 126.80250549316406\n",
            "Accuracy of train set: tensor(0.7901, device='cuda:0')\n",
            "Epoch    84: reducing learning rate of group 0 to 2.0000e-13.\n",
            "Accuracy of validation set : tensor(0.8466, device='cuda:0')\n",
            "Iteration no: 84 loss = 129.1893310546875\n",
            "Accuracy of train set: tensor(0.7883, device='cuda:0')\n",
            "Accuracy of validation set : tensor(0.8523, device='cuda:0')\n",
            "Iteration no: 85 loss = 125.02788543701172\n",
            "Accuracy of train set: tensor(0.7988, device='cuda:0')\n",
            "Accuracy of validation set : tensor(0.8636, device='cuda:0')\n",
            "Iteration no: 86 loss = 130.0360565185547\n",
            "Accuracy of train set: tensor(0.7892, device='cuda:0')\n",
            "Accuracy of validation set : tensor(0.8239, device='cuda:0')\n",
            "Iteration no: 87 loss = 119.92190551757812\n",
            "Accuracy of train set: tensor(0.7999, device='cuda:0')\n",
            "Accuracy of validation set : tensor(0.8466, device='cuda:0')\n",
            "Iteration no: 88 loss = 135.78076171875\n",
            "Accuracy of train set: tensor(0.7851, device='cuda:0')\n",
            "Epoch    89: reducing learning rate of group 0 to 2.0000e-14.\n",
            "Accuracy of validation set : tensor(0.8807, device='cuda:0')\n",
            "Iteration no: 89 loss = 116.70819854736328\n",
            "Accuracy of train set: tensor(0.8065, device='cuda:0')\n",
            "Accuracy of validation set : tensor(0.8409, device='cuda:0')\n",
            "Iteration no: 90 loss = 132.1661834716797\n",
            "Accuracy of train set: tensor(0.7845, device='cuda:0')\n",
            "Accuracy of validation set : tensor(0.8807, device='cuda:0')\n",
            "Iteration no: 91 loss = 127.5293960571289\n",
            "Accuracy of train set: tensor(0.7952, device='cuda:0')\n",
            "Accuracy of validation set : tensor(0.8409, device='cuda:0')\n",
            "Iteration no: 92 loss = 135.33425903320312\n",
            "Accuracy of train set: tensor(0.7799, device='cuda:0')\n",
            "Accuracy of validation set : tensor(0.8523, device='cuda:0')\n",
            "Iteration no: 93 loss = 126.6921615600586\n",
            "Accuracy of train set: tensor(0.7946, device='cuda:0')\n",
            "Accuracy of validation set : tensor(0.8693, device='cuda:0')\n",
            "Iteration no: 94 loss = 123.9859390258789\n",
            "Accuracy of train set: tensor(0.7946, device='cuda:0')\n",
            "Accuracy of validation set : tensor(0.8523, device='cuda:0')\n",
            "Iteration no: 95 loss = 124.56520080566406\n",
            "Accuracy of train set: tensor(0.7892, device='cuda:0')\n",
            "Accuracy of validation set : tensor(0.8523, device='cuda:0')\n",
            "Iteration no: 96 loss = 132.72593688964844\n",
            "Accuracy of train set: tensor(0.7871, device='cuda:0')\n",
            "Accuracy of validation set : tensor(0.8523, device='cuda:0')\n",
            "Iteration no: 97 loss = 126.132568359375\n",
            "Accuracy of train set: tensor(0.7976, device='cuda:0')\n",
            "Accuracy of validation set : tensor(0.8977, device='cuda:0')\n",
            "Iteration no: 98 loss = 127.27661895751953\n",
            "Accuracy of train set: tensor(0.7969, device='cuda:0')\n",
            "Accuracy of validation set : tensor(0.8523, device='cuda:0')\n",
            "Iteration no: 99 loss = 124.49175262451172\n",
            "Accuracy of train set: tensor(0.7909, device='cuda:0')\n",
            "Accuracy of validation set : tensor(0.8636, device='cuda:0')\n",
            "Iteration no: 100 loss = 128.18380737304688\n",
            "Accuracy of train set: tensor(0.7969, device='cuda:0')\n",
            "Accuracy of validation set : tensor(0.8466, device='cuda:0')\n",
            "Iteration no: 101 loss = 126.63461303710938\n",
            "Accuracy of train set: tensor(0.7943, device='cuda:0')\n",
            "Accuracy of validation set : tensor(0.8920, device='cuda:0')\n",
            "Iteration no: 102 loss = 127.93749237060547\n",
            "Accuracy of train set: tensor(0.7883, device='cuda:0')\n",
            "Accuracy of validation set : tensor(0.8750, device='cuda:0')\n",
            "Iteration no: 103 loss = 127.36408996582031\n",
            "Accuracy of train set: tensor(0.7869, device='cuda:0')\n",
            "Accuracy of validation set : tensor(0.8295, device='cuda:0')\n",
            "Iteration no: 104 loss = 125.75747680664062\n",
            "Accuracy of train set: tensor(0.7915, device='cuda:0')\n",
            "Accuracy of validation set : tensor(0.8693, device='cuda:0')\n",
            "Iteration no: 105 loss = 125.10931396484375\n",
            "Accuracy of train set: tensor(0.7988, device='cuda:0')\n",
            "Accuracy of validation set : tensor(0.8807, device='cuda:0')\n",
            "Iteration no: 106 loss = 127.83757019042969\n",
            "Accuracy of train set: tensor(0.7949, device='cuda:0')\n",
            "Accuracy of validation set : tensor(0.8523, device='cuda:0')\n",
            "Iteration no: 107 loss = 128.34918212890625\n",
            "Accuracy of train set: tensor(0.7880, device='cuda:0')\n",
            "Accuracy of validation set : tensor(0.8750, device='cuda:0')\n",
            "Iteration no: 108 loss = 128.27159118652344\n",
            "Accuracy of train set: tensor(0.7877, device='cuda:0')\n",
            "Accuracy of validation set : tensor(0.8239, device='cuda:0')\n",
            "Iteration no: 109 loss = 129.90786743164062\n",
            "Accuracy of train set: tensor(0.7848, device='cuda:0')\n",
            "Accuracy of validation set : tensor(0.8125, device='cuda:0')\n",
            "Iteration no: 110 loss = 131.5245819091797\n",
            "Accuracy of train set: tensor(0.7821, device='cuda:0')\n",
            "Accuracy of validation set : tensor(0.8125, device='cuda:0')\n",
            "Iteration no: 111 loss = 129.398681640625\n",
            "Accuracy of train set: tensor(0.7898, device='cuda:0')\n",
            "Accuracy of validation set : tensor(0.8295, device='cuda:0')\n",
            "Iteration no: 112 loss = 135.70127868652344\n",
            "Accuracy of train set: tensor(0.7812, device='cuda:0')\n",
            "Accuracy of validation set : tensor(0.8750, device='cuda:0')\n",
            "Iteration no: 113 loss = 128.9132080078125\n",
            "Accuracy of train set: tensor(0.7869, device='cuda:0')\n",
            "Accuracy of validation set : tensor(0.8352, device='cuda:0')\n",
            "Iteration no: 114 loss = 128.01620483398438\n",
            "Accuracy of train set: tensor(0.7958, device='cuda:0')\n",
            "Accuracy of validation set : tensor(0.8636, device='cuda:0')\n",
            "Iteration no: 115 loss = 124.48230743408203\n",
            "Accuracy of train set: tensor(0.7886, device='cuda:0')\n",
            "Accuracy of validation set : tensor(0.8693, device='cuda:0')\n",
            "Iteration no: 116 loss = 124.78177642822266\n",
            "Accuracy of train set: tensor(0.7957, device='cuda:0')\n",
            "Accuracy of validation set : tensor(0.8864, device='cuda:0')\n",
            "Iteration no: 117 loss = 134.8265838623047\n",
            "Accuracy of train set: tensor(0.7779, device='cuda:0')\n",
            "Accuracy of validation set : tensor(0.8807, device='cuda:0')\n",
            "Iteration no: 118 loss = 125.32795715332031\n",
            "Accuracy of train set: tensor(0.7901, device='cuda:0')\n",
            "Accuracy of validation set : tensor(0.8920, device='cuda:0')\n",
            "Iteration no: 119 loss = 129.232421875\n",
            "Accuracy of train set: tensor(0.7895, device='cuda:0')\n",
            "Accuracy of validation set : tensor(0.8295, device='cuda:0')\n"
          ],
          "name": "stdout"
        },
        {
          "output_type": "display_data",
          "data": {
            "image/png": "[encoded data removed]",
            "text/plain": [
              "<Figure size 432x288 with 1 Axes>"
            ]
          },
          "metadata": {
            "tags": [],
            "needs_background": "light"
          }
        }
      ]
    },
    {
      "cell_type": "code",
      "metadata": {
        "id": "YiT0bOYYlOhp",
        "colab_type": "code",
        "colab": {}
      },
      "source": [
        "torch.save(model, 'drive/My Drive/Colab Notebooks/ITSP/gest_full_vgg16_bn.pth')"
      ],
      "execution_count": 22,
      "outputs": []
    },
    {
      "cell_type": "code",
      "metadata": {
        "id": "ZF7qlKo8rYM6",
        "colab_type": "code",
        "colab": {}
      },
      "source": [
        ""
      ],
      "execution_count": null,
      "outputs": []
    }
  ]
}